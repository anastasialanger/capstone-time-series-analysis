{
 "cells": [
  {
   "cell_type": "markdown",
   "metadata": {},
   "source": [
    "## 5. k-Nearest Neighbours model"
   ]
  },
  {
   "cell_type": "markdown",
   "metadata": {},
   "source": [
    "<li> Train and tune the number of neighbours in k-Nearest Neighbours model for a one time-series from each cluster. </li> <li> Using found parameters, compute the forecast for a different time-series from the same cluster. </li>"
   ]
  },
  {
   "cell_type": "code",
   "execution_count": 69,
   "metadata": {},
   "outputs": [],
   "source": [
    "import pandas as pd\n",
    "import numpy as np\n",
    "import os\n",
    "import pickle\n",
    "import matplotlib.pyplot as plt\n",
    "%matplotlib inline\n",
    "from sklearn.neighbors import KNeighborsRegressor\n",
    "from sklearn.pipeline import Pipeline\n",
    "from sklearn.model_selection import ParameterGrid"
   ]
  },
  {
   "cell_type": "code",
   "execution_count": 70,
   "metadata": {},
   "outputs": [
    {
     "data": {
      "text/html": [
       "<div>\n",
       "<style scoped>\n",
       "    .dataframe tbody tr th:only-of-type {\n",
       "        vertical-align: middle;\n",
       "    }\n",
       "\n",
       "    .dataframe tbody tr th {\n",
       "        vertical-align: top;\n",
       "    }\n",
       "\n",
       "    .dataframe thead th {\n",
       "        text-align: right;\n",
       "    }\n",
       "</style>\n",
       "<table border=\"1\" class=\"dataframe\">\n",
       "  <thead>\n",
       "    <tr style=\"text-align: right;\">\n",
       "      <th></th>\n",
       "      <th>meter_id</th>\n",
       "      <th>date</th>\n",
       "      <th>demand</th>\n",
       "      <th>hours</th>\n",
       "      <th>normalized_demand</th>\n",
       "      <th>demand-24h</th>\n",
       "      <th>normalized_demand-24h</th>\n",
       "    </tr>\n",
       "  </thead>\n",
       "  <tbody>\n",
       "    <tr>\n",
       "      <th>0</th>\n",
       "      <td>1</td>\n",
       "      <td>2005-01-01 00:00:00</td>\n",
       "      <td>3304.0</td>\n",
       "      <td>0.0</td>\n",
       "      <td>0.330996</td>\n",
       "      <td>NaN</td>\n",
       "      <td>NaN</td>\n",
       "    </tr>\n",
       "    <tr>\n",
       "      <th>1</th>\n",
       "      <td>1</td>\n",
       "      <td>2005-01-01 01:00:00</td>\n",
       "      <td>3178.0</td>\n",
       "      <td>1.0</td>\n",
       "      <td>0.318373</td>\n",
       "      <td>NaN</td>\n",
       "      <td>NaN</td>\n",
       "    </tr>\n",
       "    <tr>\n",
       "      <th>2</th>\n",
       "      <td>1</td>\n",
       "      <td>2005-01-01 02:00:00</td>\n",
       "      <td>2981.0</td>\n",
       "      <td>2.0</td>\n",
       "      <td>0.298638</td>\n",
       "      <td>NaN</td>\n",
       "      <td>NaN</td>\n",
       "    </tr>\n",
       "    <tr>\n",
       "      <th>3</th>\n",
       "      <td>1</td>\n",
       "      <td>2005-01-01 03:00:00</td>\n",
       "      <td>2944.0</td>\n",
       "      <td>3.0</td>\n",
       "      <td>0.294931</td>\n",
       "      <td>NaN</td>\n",
       "      <td>NaN</td>\n",
       "    </tr>\n",
       "    <tr>\n",
       "      <th>4</th>\n",
       "      <td>1</td>\n",
       "      <td>2005-01-01 04:00:00</td>\n",
       "      <td>2934.0</td>\n",
       "      <td>4.0</td>\n",
       "      <td>0.293929</td>\n",
       "      <td>NaN</td>\n",
       "      <td>NaN</td>\n",
       "    </tr>\n",
       "  </tbody>\n",
       "</table>\n",
       "</div>"
      ],
      "text/plain": [
       "   meter_id                date  demand  hours  normalized_demand  demand-24h  \\\n",
       "0         1 2005-01-01 00:00:00  3304.0    0.0           0.330996         NaN   \n",
       "1         1 2005-01-01 01:00:00  3178.0    1.0           0.318373         NaN   \n",
       "2         1 2005-01-01 02:00:00  2981.0    2.0           0.298638         NaN   \n",
       "3         1 2005-01-01 03:00:00  2944.0    3.0           0.294931         NaN   \n",
       "4         1 2005-01-01 04:00:00  2934.0    4.0           0.293929         NaN   \n",
       "\n",
       "   normalized_demand-24h  \n",
       "0                    NaN  \n",
       "1                    NaN  \n",
       "2                    NaN  \n",
       "3                    NaN  \n",
       "4                    NaN  "
      ]
     },
     "execution_count": 70,
     "metadata": {},
     "output_type": "execute_result"
    }
   ],
   "source": [
    "df = pd.read_pickle('demand_data_for_modelling')\n",
    "df.head(5)"
   ]
  },
  {
   "cell_type": "code",
   "execution_count": 71,
   "metadata": {},
   "outputs": [
    {
     "data": {
      "text/html": [
       "<div>\n",
       "<style scoped>\n",
       "    .dataframe tbody tr th:only-of-type {\n",
       "        vertical-align: middle;\n",
       "    }\n",
       "\n",
       "    .dataframe tbody tr th {\n",
       "        vertical-align: top;\n",
       "    }\n",
       "\n",
       "    .dataframe thead th {\n",
       "        text-align: right;\n",
       "    }\n",
       "</style>\n",
       "<table border=\"1\" class=\"dataframe\">\n",
       "  <thead>\n",
       "    <tr style=\"text-align: right;\">\n",
       "      <th></th>\n",
       "      <th>full_date</th>\n",
       "      <th>hourly_mean</th>\n",
       "      <th>normalized_temp</th>\n",
       "    </tr>\n",
       "  </thead>\n",
       "  <tbody>\n",
       "    <tr>\n",
       "      <th>0</th>\n",
       "      <td>2005-01-01 00:00:00</td>\n",
       "      <td>44.535714</td>\n",
       "      <td>0.390571</td>\n",
       "    </tr>\n",
       "    <tr>\n",
       "      <th>1</th>\n",
       "      <td>2005-01-01 01:00:00</td>\n",
       "      <td>44.428571</td>\n",
       "      <td>0.389273</td>\n",
       "    </tr>\n",
       "    <tr>\n",
       "      <th>2</th>\n",
       "      <td>2005-01-01 02:00:00</td>\n",
       "      <td>43.535714</td>\n",
       "      <td>0.378460</td>\n",
       "    </tr>\n",
       "    <tr>\n",
       "      <th>3</th>\n",
       "      <td>2005-01-01 03:00:00</td>\n",
       "      <td>43.750000</td>\n",
       "      <td>0.381055</td>\n",
       "    </tr>\n",
       "    <tr>\n",
       "      <th>4</th>\n",
       "      <td>2005-01-01 04:00:00</td>\n",
       "      <td>43.321429</td>\n",
       "      <td>0.375865</td>\n",
       "    </tr>\n",
       "  </tbody>\n",
       "</table>\n",
       "</div>"
      ],
      "text/plain": [
       "            full_date  hourly_mean  normalized_temp\n",
       "0 2005-01-01 00:00:00    44.535714         0.390571\n",
       "1 2005-01-01 01:00:00    44.428571         0.389273\n",
       "2 2005-01-01 02:00:00    43.535714         0.378460\n",
       "3 2005-01-01 03:00:00    43.750000         0.381055\n",
       "4 2005-01-01 04:00:00    43.321429         0.375865"
      ]
     },
     "execution_count": 71,
     "metadata": {},
     "output_type": "execute_result"
    }
   ],
   "source": [
    "temperature = pd.read_pickle('temperature_for_modelling')\n",
    "temperature.head(5)"
   ]
  },
  {
   "cell_type": "code",
   "execution_count": 72,
   "metadata": {},
   "outputs": [
    {
     "data": {
      "text/html": [
       "<div>\n",
       "<style scoped>\n",
       "    .dataframe tbody tr th:only-of-type {\n",
       "        vertical-align: middle;\n",
       "    }\n",
       "\n",
       "    .dataframe tbody tr th {\n",
       "        vertical-align: top;\n",
       "    }\n",
       "\n",
       "    .dataframe thead th {\n",
       "        text-align: right;\n",
       "    }\n",
       "</style>\n",
       "<table border=\"1\" class=\"dataframe\">\n",
       "  <thead>\n",
       "    <tr style=\"text-align: right;\">\n",
       "      <th></th>\n",
       "      <th>full_date</th>\n",
       "      <th>hourly_mean</th>\n",
       "      <th>normalized_humidity</th>\n",
       "    </tr>\n",
       "  </thead>\n",
       "  <tbody>\n",
       "    <tr>\n",
       "      <th>0</th>\n",
       "      <td>2005-01-01 00:00:00</td>\n",
       "      <td>87.535714</td>\n",
       "      <td>0.879677</td>\n",
       "    </tr>\n",
       "    <tr>\n",
       "      <th>1</th>\n",
       "      <td>2005-01-01 01:00:00</td>\n",
       "      <td>86.678571</td>\n",
       "      <td>0.869473</td>\n",
       "    </tr>\n",
       "    <tr>\n",
       "      <th>2</th>\n",
       "      <td>2005-01-01 02:00:00</td>\n",
       "      <td>86.964286</td>\n",
       "      <td>0.872874</td>\n",
       "    </tr>\n",
       "    <tr>\n",
       "      <th>3</th>\n",
       "      <td>2005-01-01 03:00:00</td>\n",
       "      <td>87.214286</td>\n",
       "      <td>0.875850</td>\n",
       "    </tr>\n",
       "    <tr>\n",
       "      <th>4</th>\n",
       "      <td>2005-01-01 04:00:00</td>\n",
       "      <td>87.357143</td>\n",
       "      <td>0.877551</td>\n",
       "    </tr>\n",
       "  </tbody>\n",
       "</table>\n",
       "</div>"
      ],
      "text/plain": [
       "            full_date  hourly_mean  normalized_humidity\n",
       "0 2005-01-01 00:00:00    87.535714             0.879677\n",
       "1 2005-01-01 01:00:00    86.678571             0.869473\n",
       "2 2005-01-01 02:00:00    86.964286             0.872874\n",
       "3 2005-01-01 03:00:00    87.214286             0.875850\n",
       "4 2005-01-01 04:00:00    87.357143             0.877551"
      ]
     },
     "execution_count": 72,
     "metadata": {},
     "output_type": "execute_result"
    }
   ],
   "source": [
    "humidity = pd.read_pickle('humidity_for_modelling')\n",
    "humidity.head(5)"
   ]
  },
  {
   "cell_type": "markdown",
   "metadata": {},
   "source": [
    "Functions for modelling\n",
    "--"
   ]
  },
  {
   "cell_type": "markdown",
   "metadata": {},
   "source": [
    "Split the data into train, validation, and test sets:"
   ]
  },
  {
   "cell_type": "code",
   "execution_count": 73,
   "metadata": {},
   "outputs": [],
   "source": [
    "def train_val_test_split(df, test_fraction, cols):\n",
    "    train_fraction = 1-test_fraction\n",
    "    val_fraction = train_fraction + test_fraction/2\n",
    "    dates = df.groupby(df.date.dt.date).count().date \n",
    "    split_train = (int)(len(dates)*train_fraction)\n",
    "    split_val = (int)(len(dates)*val_fraction)\n",
    "    end_train_date = pd.to_datetime(dates.index[split_train])\n",
    "    end_val_date = pd.to_datetime(dates.index[split_val])\n",
    "    \n",
    "    X_tr = df[df.date < end_train_date][cols].values\n",
    "    y_tr = df[df.date < end_train_date]['normalized_demand'].values\n",
    "                        \n",
    "    X_val = df[(df.date >= end_train_date) & (df.date < end_val_date)][cols].values\n",
    "    y_val = df[(df.date >= end_train_date) & (df.date < end_val_date)]['normalized_demand'].values\n",
    "    \n",
    "    X_te = df[df.date >= end_val_date][cols].values\n",
    "    y_te = df[df.date >= end_val_date]['normalized_demand'].values\n",
    "    \n",
    "    print('Train set')\n",
    "    print('---------')\n",
    "    print('Features: {} Target: {}\\n'.format(X_tr.shape,y_tr.shape))\n",
    "    \n",
    "    print('Validation set')\n",
    "    print('---------')\n",
    "    print('Features: {} Target: {}\\n'.format(X_val.shape,y_val.shape))\n",
    "\n",
    "    print('Test set')\n",
    "    print('--------')    \n",
    "    print('Features: {} Target: {}'.format(X_te.shape,y_te.shape))\n",
    "    \n",
    "    return (X_tr,X_val,X_te,y_tr,y_val,y_te)"
   ]
  },
  {
   "cell_type": "markdown",
   "metadata": {},
   "source": [
    "Split the data into train and test sets:"
   ]
  },
  {
   "cell_type": "code",
   "execution_count": 74,
   "metadata": {},
   "outputs": [],
   "source": [
    "def train_test_split(df, test_fraction, cols):\n",
    "    train_fraction = 1-test_fraction\n",
    "    dates = df.groupby(df.date.dt.date).count().date\n",
    "    split = (int)(len(dates)*train_fraction)\n",
    "    split_date = pd.to_datetime(dates.index[split])\n",
    "    \n",
    "    X_tr = df[df.date < split_date][cols].values\n",
    "    y_tr = df[df.date < split_date]['normalized_demand'].values\n",
    "    \n",
    "    X_te = df[df.date >= split_date][cols].values\n",
    "    y_te = df[df.date >= split_date]['normalized_demand'].values\n",
    "    \n",
    "    print('Train set')\n",
    "    print('---------')\n",
    "    print('Features: {} Target: {}\\n'.format(X_tr.shape,y_tr.shape))\n",
    "\n",
    "    print('Test set')\n",
    "    print('--------')    \n",
    "    print('Features: {} Target: {}'.format(X_te.shape,y_te.shape))\n",
    "    \n",
    "    return (X_tr,X_te,y_tr,y_te)"
   ]
  },
  {
   "cell_type": "markdown",
   "metadata": {},
   "source": [
    "Fine tune a k-NN regressor:"
   ]
  },
  {
   "cell_type": "code",
   "execution_count": 75,
   "metadata": {},
   "outputs": [],
   "source": [
    "def fine_tune_kNN(k_range,X_tr,X_val,y_tr,y_val):\n",
    "    # Function to perform a grid search for the parameters used in k-NN model\n",
    "    \n",
    "    # Create k-NN regressor\n",
    "    pipe = Pipeline([\n",
    "        ('knn', KNeighborsRegressor(\n",
    "            algorithm='brute', # Brute-force search\n",
    "            n_jobs=-1 # As many parallel jobs as possible\n",
    "        ))\n",
    "    ])\n",
    "    \n",
    "    grid = ParameterGrid({\n",
    "        'knn__n_neighbors': k_range, # k\n",
    "        'knn__weights': ['uniform', 'distance'], # Weighting function\n",
    "        'knn__p': [1, 2], # L1 and L2 distance metrics\n",
    "    })\n",
    "    \n",
    "    # Print the number of combinations\n",
    "    print('Number of combinations for grid search:', len(grid))\n",
    "    \n",
    "    # Save MAE computed on the validation set\n",
    "    valid_mae = []\n",
    "    \n",
    "    # Enumerate combinations starting from 1\n",
    "    for i, params_dict in enumerate(grid, 1):\n",
    "        \n",
    "        # Print progress\n",
    "        print('Combination {}/{}'.format(\n",
    "            i, len(grid) # Total number of combinations\n",
    "        ))\n",
    "        \n",
    "        # Set parameters\n",
    "        pipe.set_params(**params_dict)\n",
    "        \n",
    "        # Fit a k-NN regressor\n",
    "        pipe.fit(X_tr, y_tr) \n",
    "        \n",
    "        # Save MAE for the validation set\n",
    "        y_pred_val = pipe.predict(X_val)\n",
    "        params_dict['MAE'] = MAE(y_val, y_pred_val)\n",
    "        \n",
    "        # Save result\n",
    "        valid_mae.append(params_dict)\n",
    "    \n",
    "    print('done')\n",
    "    \n",
    "    # Create DataFrame with validation MAE\n",
    "    mae_df = pd.DataFrame(valid_mae)\n",
    "    return mae_df"
   ]
  },
  {
   "cell_type": "markdown",
   "metadata": {},
   "source": [
    "Fine tune number of neighbours:"
   ]
  },
  {
   "cell_type": "code",
   "execution_count": 76,
   "metadata": {},
   "outputs": [],
   "source": [
    "def fine_tune_k(p,weights,k_range,X_tr,X_val,X_te,y_tr,y_val,y_te):\n",
    "    # Function to refine k search\n",
    "    \n",
    "    pipe = Pipeline([\n",
    "        ('knn', KNeighborsRegressor(\n",
    "            algorithm='brute', \n",
    "            p=p, \n",
    "            weights=weights, \n",
    "            n_jobs=-1 \n",
    "        ))\n",
    "    ])\n",
    "    \n",
    "    # Refine the k grid\n",
    "    grid = ParameterGrid({\n",
    "        'knn__n_neighbors': k_range\n",
    "    })\n",
    "    \n",
    "    mae = []\n",
    "    \n",
    "    for i, params_dict in enumerate(grid, 1):\n",
    "        # Print progress\n",
    "        print('Combination {}/{}'.format(\n",
    "            i, len(grid) # Total number of combinations\n",
    "        ))\n",
    "        \n",
    "        # Set parameters\n",
    "        pipe.set_params(**params_dict)\n",
    "        \n",
    "        # Fit a k-NN regressor\n",
    "        pipe.fit(X_tr, y_tr)\n",
    "        \n",
    "        # Save MAE for the validation set\n",
    "        y_pred_val = pipe.predict(X_val)\n",
    "        params_dict['MAE_val'] = MAE(y_val, y_pred_val)\n",
    "        \n",
    "        # Save MAE for the test set\n",
    "        y_pred_te = pipe.predict(X_te)\n",
    "        params_dict['MAE_te'] = MAE(y_te, y_pred_te)\n",
    "        \n",
    "        # Save result\n",
    "        mae.append(params_dict)\n",
    "        \n",
    "    print('done')\n",
    "    \n",
    "    # Create DataFrame with validation MAE\n",
    "    mae_df = pd.DataFrame(mae)\n",
    "    return mae_df"
   ]
  },
  {
   "cell_type": "markdown",
   "metadata": {},
   "source": [
    "Compute MAE:"
   ]
  },
  {
   "cell_type": "code",
   "execution_count": 77,
   "metadata": {},
   "outputs": [],
   "source": [
    "def MAE(y,y_pred):    \n",
    "    return(np.mean(np.abs(y-y_pred)))"
   ]
  },
  {
   "cell_type": "markdown",
   "metadata": {},
   "source": [
    "Plot the results:"
   ]
  },
  {
   "cell_type": "code",
   "execution_count": 78,
   "metadata": {},
   "outputs": [],
   "source": [
    "def plot_predictions(X_tr,X_te,y_tr,y_te,y_pred_tr,y_pred_te):\n",
    "    \n",
    "    font = {'fontname':'Arial', 'size':'14'}\n",
    "    font_title = {'fontname':'Arial', 'size':'16'}\n",
    "\n",
    "    plt.figure(figsize=(9,6))\n",
    "\n",
    "    # True values\n",
    "    plt.plot(X_tr[:,0],y_tr,label='train set',color='black')\n",
    "    plt.plot(X_te[:,0],y_te,label='test set',color='grey')    \n",
    "\n",
    "    # Predictions\n",
    "    plt.plot(X_tr[:,0],y_pred_tr,label='predictions train',color='blue')\n",
    "    plt.plot(X_te[:,0],y_pred_te,label='predictions test',color='red')    \n",
    "\n",
    "    plt.xlabel('Date',**font)\n",
    "    plt.ylabel('Electricity demand',**font)\n",
    "\n",
    "    plt.legend()\n",
    "    plt.show()"
   ]
  },
  {
   "cell_type": "markdown",
   "metadata": {},
   "source": [
    "Save the results:"
   ]
  },
  {
   "cell_type": "code",
   "execution_count": 79,
   "metadata": {},
   "outputs": [],
   "source": [
    "def save_result(meter_id,X_tr,X_te,y_pred_tr,y_pred_te):\n",
    "    df1 = pd.DataFrame({\"meter_id\": [meter_id]*X_tr.shape[0], \"date\": X_tr[:,0], \\\n",
    "                        \"type\": ['training']*X_tr.shape[0], \"pred_value\": y_pred_tr})\n",
    "    df2 = pd.DataFrame({\"meter_id\": [meter_id]*X_te.shape[0], \"date\": X_te[:,0], \\\n",
    "                        \"type\": ['test']*X_te.shape[0], \"pred_value\": y_pred_te})\n",
    "    result = pd.concat([df1,df2], ignore_index=True)\n",
    "    return result"
   ]
  },
  {
   "cell_type": "markdown",
   "metadata": {},
   "source": [
    "Models for time-series from the clusters\n",
    "--"
   ]
  },
  {
   "cell_type": "code",
   "execution_count": 80,
   "metadata": {},
   "outputs": [
    {
     "data": {
      "text/html": [
       "<div>\n",
       "<style scoped>\n",
       "    .dataframe tbody tr th:only-of-type {\n",
       "        vertical-align: middle;\n",
       "    }\n",
       "\n",
       "    .dataframe tbody tr th {\n",
       "        vertical-align: top;\n",
       "    }\n",
       "\n",
       "    .dataframe thead th {\n",
       "        text-align: right;\n",
       "    }\n",
       "</style>\n",
       "<table border=\"1\" class=\"dataframe\">\n",
       "  <thead>\n",
       "    <tr style=\"text-align: right;\">\n",
       "      <th></th>\n",
       "      <th>cluster</th>\n",
       "    </tr>\n",
       "    <tr>\n",
       "      <th>meter_id_1</th>\n",
       "      <th></th>\n",
       "    </tr>\n",
       "  </thead>\n",
       "  <tbody>\n",
       "    <tr>\n",
       "      <th>481</th>\n",
       "      <td>1</td>\n",
       "    </tr>\n",
       "    <tr>\n",
       "      <th>422</th>\n",
       "      <td>1</td>\n",
       "    </tr>\n",
       "    <tr>\n",
       "      <th>52</th>\n",
       "      <td>1</td>\n",
       "    </tr>\n",
       "    <tr>\n",
       "      <th>419</th>\n",
       "      <td>1</td>\n",
       "    </tr>\n",
       "    <tr>\n",
       "      <th>81</th>\n",
       "      <td>1</td>\n",
       "    </tr>\n",
       "    <tr>\n",
       "      <th>86</th>\n",
       "      <td>1</td>\n",
       "    </tr>\n",
       "    <tr>\n",
       "      <th>89</th>\n",
       "      <td>1</td>\n",
       "    </tr>\n",
       "    <tr>\n",
       "      <th>104</th>\n",
       "      <td>1</td>\n",
       "    </tr>\n",
       "    <tr>\n",
       "      <th>113</th>\n",
       "      <td>1</td>\n",
       "    </tr>\n",
       "    <tr>\n",
       "      <th>472</th>\n",
       "      <td>1</td>\n",
       "    </tr>\n",
       "    <tr>\n",
       "      <th>209</th>\n",
       "      <td>1</td>\n",
       "    </tr>\n",
       "    <tr>\n",
       "      <th>362</th>\n",
       "      <td>1</td>\n",
       "    </tr>\n",
       "    <tr>\n",
       "      <th>400</th>\n",
       "      <td>1</td>\n",
       "    </tr>\n",
       "    <tr>\n",
       "      <th>10</th>\n",
       "      <td>2</td>\n",
       "    </tr>\n",
       "    <tr>\n",
       "      <th>60</th>\n",
       "      <td>2</td>\n",
       "    </tr>\n",
       "    <tr>\n",
       "      <th>51</th>\n",
       "      <td>2</td>\n",
       "    </tr>\n",
       "    <tr>\n",
       "      <th>157</th>\n",
       "      <td>2</td>\n",
       "    </tr>\n",
       "    <tr>\n",
       "      <th>446</th>\n",
       "      <td>3</td>\n",
       "    </tr>\n",
       "    <tr>\n",
       "      <th>453</th>\n",
       "      <td>3</td>\n",
       "    </tr>\n",
       "    <tr>\n",
       "      <th>412</th>\n",
       "      <td>3</td>\n",
       "    </tr>\n",
       "  </tbody>\n",
       "</table>\n",
       "</div>"
      ],
      "text/plain": [
       "            cluster\n",
       "meter_id_1         \n",
       "481               1\n",
       "422               1\n",
       "52                1\n",
       "419               1\n",
       "81                1\n",
       "86                1\n",
       "89                1\n",
       "104               1\n",
       "113               1\n",
       "472               1\n",
       "209               1\n",
       "362               1\n",
       "400               1\n",
       "10                2\n",
       "60                2\n",
       "51                2\n",
       "157               2\n",
       "446               3\n",
       "453               3\n",
       "412               3"
      ]
     },
     "execution_count": 80,
     "metadata": {},
     "output_type": "execute_result"
    }
   ],
   "source": [
    "dtw_clusters = pd.read_pickle('dtw_clusters')\n",
    "dtw_clusters.sort_values(by='cluster')"
   ]
  },
  {
   "cell_type": "markdown",
   "metadata": {},
   "source": [
    "__Cluster 1__"
   ]
  },
  {
   "cell_type": "markdown",
   "metadata": {},
   "source": [
    "Tune a k-NN model for a one time-series, meter 422, from the cluster 1."
   ]
  },
  {
   "cell_type": "code",
   "execution_count": 81,
   "metadata": {},
   "outputs": [],
   "source": [
    "meter_422 = df[df['meter_id']==422]"
   ]
  },
  {
   "cell_type": "markdown",
   "metadata": {},
   "source": [
    "Ensure the same dates in demand and weather time-series:"
   ]
  },
  {
   "cell_type": "code",
   "execution_count": 82,
   "metadata": {},
   "outputs": [],
   "source": [
    "temperature_422 = temperature[temperature.full_date.isin(meter_422.date)]\n",
    "humidity_422 = humidity[humidity.full_date.isin(meter_422.date)]"
   ]
  },
  {
   "cell_type": "code",
   "execution_count": 83,
   "metadata": {},
   "outputs": [],
   "source": [
    "meter_422 = meter_422[meter_422.date.isin(temperature_422.full_date)]\n",
    "meter_422 = meter_422[meter_422.date.isin(humidity_422.full_date)]\n",
    "meter_422 = meter_422.reset_index()"
   ]
  },
  {
   "cell_type": "code",
   "execution_count": 84,
   "metadata": {},
   "outputs": [],
   "source": [
    "meter_422['normalized_temp'] = temperature_422.normalized_temp\n",
    "meter_422['normalized_humid'] = humidity_422.normalized_humidity"
   ]
  },
  {
   "cell_type": "code",
   "execution_count": 85,
   "metadata": {},
   "outputs": [
    {
     "data": {
      "text/html": [
       "<div>\n",
       "<style scoped>\n",
       "    .dataframe tbody tr th:only-of-type {\n",
       "        vertical-align: middle;\n",
       "    }\n",
       "\n",
       "    .dataframe tbody tr th {\n",
       "        vertical-align: top;\n",
       "    }\n",
       "\n",
       "    .dataframe thead th {\n",
       "        text-align: right;\n",
       "    }\n",
       "</style>\n",
       "<table border=\"1\" class=\"dataframe\">\n",
       "  <thead>\n",
       "    <tr style=\"text-align: right;\">\n",
       "      <th></th>\n",
       "      <th>index</th>\n",
       "      <th>meter_id</th>\n",
       "      <th>date</th>\n",
       "      <th>demand</th>\n",
       "      <th>hours</th>\n",
       "      <th>normalized_demand</th>\n",
       "      <th>demand-24h</th>\n",
       "      <th>normalized_demand-24h</th>\n",
       "      <th>normalized_temp</th>\n",
       "      <th>normalized_humid</th>\n",
       "    </tr>\n",
       "  </thead>\n",
       "  <tbody>\n",
       "    <tr>\n",
       "      <th>0</th>\n",
       "      <td>8347632</td>\n",
       "      <td>422</td>\n",
       "      <td>2005-01-01 00:00:00</td>\n",
       "      <td>12258.0</td>\n",
       "      <td>0.0</td>\n",
       "      <td>0.440665</td>\n",
       "      <td>NaN</td>\n",
       "      <td>NaN</td>\n",
       "      <td>0.390571</td>\n",
       "      <td>0.879677</td>\n",
       "    </tr>\n",
       "    <tr>\n",
       "      <th>1</th>\n",
       "      <td>8347633</td>\n",
       "      <td>422</td>\n",
       "      <td>2005-01-01 01:00:00</td>\n",
       "      <td>8016.0</td>\n",
       "      <td>1.0</td>\n",
       "      <td>0.240268</td>\n",
       "      <td>NaN</td>\n",
       "      <td>NaN</td>\n",
       "      <td>0.389273</td>\n",
       "      <td>0.869473</td>\n",
       "    </tr>\n",
       "    <tr>\n",
       "      <th>2</th>\n",
       "      <td>8347634</td>\n",
       "      <td>422</td>\n",
       "      <td>2005-01-01 02:00:00</td>\n",
       "      <td>7813.0</td>\n",
       "      <td>2.0</td>\n",
       "      <td>0.230678</td>\n",
       "      <td>NaN</td>\n",
       "      <td>NaN</td>\n",
       "      <td>0.378460</td>\n",
       "      <td>0.872874</td>\n",
       "    </tr>\n",
       "    <tr>\n",
       "      <th>3</th>\n",
       "      <td>8347635</td>\n",
       "      <td>422</td>\n",
       "      <td>2005-01-01 03:00:00</td>\n",
       "      <td>7527.0</td>\n",
       "      <td>3.0</td>\n",
       "      <td>0.217167</td>\n",
       "      <td>NaN</td>\n",
       "      <td>NaN</td>\n",
       "      <td>0.381055</td>\n",
       "      <td>0.875850</td>\n",
       "    </tr>\n",
       "    <tr>\n",
       "      <th>4</th>\n",
       "      <td>8347636</td>\n",
       "      <td>422</td>\n",
       "      <td>2005-01-01 04:00:00</td>\n",
       "      <td>7529.0</td>\n",
       "      <td>4.0</td>\n",
       "      <td>0.217262</td>\n",
       "      <td>NaN</td>\n",
       "      <td>NaN</td>\n",
       "      <td>0.375865</td>\n",
       "      <td>0.877551</td>\n",
       "    </tr>\n",
       "  </tbody>\n",
       "</table>\n",
       "</div>"
      ],
      "text/plain": [
       "     index  meter_id                date   demand  hours  normalized_demand  \\\n",
       "0  8347632       422 2005-01-01 00:00:00  12258.0    0.0           0.440665   \n",
       "1  8347633       422 2005-01-01 01:00:00   8016.0    1.0           0.240268   \n",
       "2  8347634       422 2005-01-01 02:00:00   7813.0    2.0           0.230678   \n",
       "3  8347635       422 2005-01-01 03:00:00   7527.0    3.0           0.217167   \n",
       "4  8347636       422 2005-01-01 04:00:00   7529.0    4.0           0.217262   \n",
       "\n",
       "   demand-24h  normalized_demand-24h  normalized_temp  normalized_humid  \n",
       "0         NaN                    NaN         0.390571          0.879677  \n",
       "1         NaN                    NaN         0.389273          0.869473  \n",
       "2         NaN                    NaN         0.378460          0.872874  \n",
       "3         NaN                    NaN         0.381055          0.875850  \n",
       "4         NaN                    NaN         0.375865          0.877551  "
      ]
     },
     "execution_count": 85,
     "metadata": {},
     "output_type": "execute_result"
    }
   ],
   "source": [
    "meter_422.head(5)"
   ]
  },
  {
   "cell_type": "markdown",
   "metadata": {},
   "source": [
    "Split the data into train, validation, and test sets to fine tune k-NN model:"
   ]
  },
  {
   "cell_type": "code",
   "execution_count": 86,
   "metadata": {},
   "outputs": [
    {
     "name": "stdout",
     "output_type": "stream",
     "text": [
      "Train set\n",
      "---------\n",
      "Features: (49050, 4) Target: (49050,)\n",
      "\n",
      "Validation set\n",
      "---------\n",
      "Features: (6143, 4) Target: (6143,)\n",
      "\n",
      "Test set\n",
      "--------\n",
      "Features: (6144, 4) Target: (6144,)\n"
     ]
    }
   ],
   "source": [
    "X_tr_422,X_val_422,X_te_422,y_tr_422,y_val_422,y_te_422 = \\\n",
    "train_val_test_split(meter_422, 0.2, ['date','hours','normalized_temp','normalized_humid'])"
   ]
  },
  {
   "cell_type": "markdown",
   "metadata": {},
   "source": [
    "Fine tune a k-NN regressor (pass the features matrix without a 'date' column):"
   ]
  },
  {
   "cell_type": "code",
   "execution_count": 87,
   "metadata": {},
   "outputs": [
    {
     "name": "stdout",
     "output_type": "stream",
     "text": [
      "Number of combinations for grid search: 12\n",
      "Combination 1/12\n",
      "Combination 2/12\n",
      "Combination 3/12\n",
      "Combination 4/12\n",
      "Combination 5/12\n",
      "Combination 6/12\n",
      "Combination 7/12\n",
      "Combination 8/12\n",
      "Combination 9/12\n",
      "Combination 10/12\n",
      "Combination 11/12\n",
      "Combination 12/12\n",
      "done\n"
     ]
    }
   ],
   "source": [
    "grid_search_422 = fine_tune_kNN([10,20,30],X_tr_422[:,1:],X_val_422[:,1:],y_tr_422,y_val_422) "
   ]
  },
  {
   "cell_type": "code",
   "execution_count": 88,
   "metadata": {},
   "outputs": [
    {
     "data": {
      "text/html": [
       "<div>\n",
       "<style scoped>\n",
       "    .dataframe tbody tr th:only-of-type {\n",
       "        vertical-align: middle;\n",
       "    }\n",
       "\n",
       "    .dataframe tbody tr th {\n",
       "        vertical-align: top;\n",
       "    }\n",
       "\n",
       "    .dataframe thead th {\n",
       "        text-align: right;\n",
       "    }\n",
       "</style>\n",
       "<table border=\"1\" class=\"dataframe\">\n",
       "  <thead>\n",
       "    <tr style=\"text-align: right;\">\n",
       "      <th></th>\n",
       "      <th>MAE</th>\n",
       "      <th>knn__n_neighbors</th>\n",
       "      <th>knn__p</th>\n",
       "      <th>knn__weights</th>\n",
       "    </tr>\n",
       "  </thead>\n",
       "  <tbody>\n",
       "    <tr>\n",
       "      <th>8</th>\n",
       "      <td>0.124669</td>\n",
       "      <td>30</td>\n",
       "      <td>1</td>\n",
       "      <td>uniform</td>\n",
       "    </tr>\n",
       "    <tr>\n",
       "      <th>10</th>\n",
       "      <td>0.124669</td>\n",
       "      <td>30</td>\n",
       "      <td>2</td>\n",
       "      <td>uniform</td>\n",
       "    </tr>\n",
       "    <tr>\n",
       "      <th>9</th>\n",
       "      <td>0.124723</td>\n",
       "      <td>30</td>\n",
       "      <td>1</td>\n",
       "      <td>distance</td>\n",
       "    </tr>\n",
       "    <tr>\n",
       "      <th>11</th>\n",
       "      <td>0.124729</td>\n",
       "      <td>30</td>\n",
       "      <td>2</td>\n",
       "      <td>distance</td>\n",
       "    </tr>\n",
       "    <tr>\n",
       "      <th>4</th>\n",
       "      <td>0.138515</td>\n",
       "      <td>20</td>\n",
       "      <td>1</td>\n",
       "      <td>uniform</td>\n",
       "    </tr>\n",
       "    <tr>\n",
       "      <th>6</th>\n",
       "      <td>0.138515</td>\n",
       "      <td>20</td>\n",
       "      <td>2</td>\n",
       "      <td>uniform</td>\n",
       "    </tr>\n",
       "    <tr>\n",
       "      <th>5</th>\n",
       "      <td>0.138574</td>\n",
       "      <td>20</td>\n",
       "      <td>1</td>\n",
       "      <td>distance</td>\n",
       "    </tr>\n",
       "    <tr>\n",
       "      <th>7</th>\n",
       "      <td>0.138580</td>\n",
       "      <td>20</td>\n",
       "      <td>2</td>\n",
       "      <td>distance</td>\n",
       "    </tr>\n",
       "    <tr>\n",
       "      <th>1</th>\n",
       "      <td>0.178203</td>\n",
       "      <td>10</td>\n",
       "      <td>1</td>\n",
       "      <td>distance</td>\n",
       "    </tr>\n",
       "    <tr>\n",
       "      <th>3</th>\n",
       "      <td>0.178206</td>\n",
       "      <td>10</td>\n",
       "      <td>2</td>\n",
       "      <td>distance</td>\n",
       "    </tr>\n",
       "    <tr>\n",
       "      <th>0</th>\n",
       "      <td>0.178374</td>\n",
       "      <td>10</td>\n",
       "      <td>1</td>\n",
       "      <td>uniform</td>\n",
       "    </tr>\n",
       "    <tr>\n",
       "      <th>2</th>\n",
       "      <td>0.178374</td>\n",
       "      <td>10</td>\n",
       "      <td>2</td>\n",
       "      <td>uniform</td>\n",
       "    </tr>\n",
       "  </tbody>\n",
       "</table>\n",
       "</div>"
      ],
      "text/plain": [
       "         MAE  knn__n_neighbors  knn__p knn__weights\n",
       "8   0.124669                30       1      uniform\n",
       "10  0.124669                30       2      uniform\n",
       "9   0.124723                30       1     distance\n",
       "11  0.124729                30       2     distance\n",
       "4   0.138515                20       1      uniform\n",
       "6   0.138515                20       2      uniform\n",
       "5   0.138574                20       1     distance\n",
       "7   0.138580                20       2     distance\n",
       "1   0.178203                10       1     distance\n",
       "3   0.178206                10       2     distance\n",
       "0   0.178374                10       1      uniform\n",
       "2   0.178374                10       2      uniform"
      ]
     },
     "execution_count": 88,
     "metadata": {},
     "output_type": "execute_result"
    }
   ],
   "source": [
    "grid_search_422.sort_values(by='MAE',ascending=True)"
   ]
  },
  {
   "cell_type": "code",
   "execution_count": 89,
   "metadata": {},
   "outputs": [
    {
     "name": "stdout",
     "output_type": "stream",
     "text": [
      "Combination 1/5\n",
      "Combination 2/5\n",
      "Combination 3/5\n",
      "Combination 4/5\n",
      "Combination 5/5\n",
      "done\n"
     ]
    }
   ],
   "source": [
    "k_search_422 = fine_tune_k(1,'uniform',[28,30,32,35,40],X_tr_422[:,1:],X_val_422[:,1:],X_te_422[:,1:],y_tr_422,y_val_422,y_te_422)"
   ]
  },
  {
   "cell_type": "code",
   "execution_count": 90,
   "metadata": {},
   "outputs": [
    {
     "data": {
      "text/html": [
       "<div>\n",
       "<style scoped>\n",
       "    .dataframe tbody tr th:only-of-type {\n",
       "        vertical-align: middle;\n",
       "    }\n",
       "\n",
       "    .dataframe tbody tr th {\n",
       "        vertical-align: top;\n",
       "    }\n",
       "\n",
       "    .dataframe thead th {\n",
       "        text-align: right;\n",
       "    }\n",
       "</style>\n",
       "<table border=\"1\" class=\"dataframe\">\n",
       "  <thead>\n",
       "    <tr style=\"text-align: right;\">\n",
       "      <th></th>\n",
       "      <th>MAE_te</th>\n",
       "      <th>MAE_val</th>\n",
       "      <th>knn__n_neighbors</th>\n",
       "    </tr>\n",
       "  </thead>\n",
       "  <tbody>\n",
       "    <tr>\n",
       "      <th>1</th>\n",
       "      <td>0.127251</td>\n",
       "      <td>0.124669</td>\n",
       "      <td>30</td>\n",
       "    </tr>\n",
       "    <tr>\n",
       "      <th>0</th>\n",
       "      <td>0.128567</td>\n",
       "      <td>0.125601</td>\n",
       "      <td>28</td>\n",
       "    </tr>\n",
       "    <tr>\n",
       "      <th>2</th>\n",
       "      <td>0.128857</td>\n",
       "      <td>0.125808</td>\n",
       "      <td>32</td>\n",
       "    </tr>\n",
       "    <tr>\n",
       "      <th>3</th>\n",
       "      <td>0.139634</td>\n",
       "      <td>0.133946</td>\n",
       "      <td>35</td>\n",
       "    </tr>\n",
       "    <tr>\n",
       "      <th>4</th>\n",
       "      <td>0.150259</td>\n",
       "      <td>0.142477</td>\n",
       "      <td>40</td>\n",
       "    </tr>\n",
       "  </tbody>\n",
       "</table>\n",
       "</div>"
      ],
      "text/plain": [
       "     MAE_te   MAE_val  knn__n_neighbors\n",
       "1  0.127251  0.124669                30\n",
       "0  0.128567  0.125601                28\n",
       "2  0.128857  0.125808                32\n",
       "3  0.139634  0.133946                35\n",
       "4  0.150259  0.142477                40"
      ]
     },
     "execution_count": 90,
     "metadata": {},
     "output_type": "execute_result"
    }
   ],
   "source": [
    "k_search_422.sort_values(by='MAE_te',ascending=True)"
   ]
  },
  {
   "cell_type": "code",
   "execution_count": 91,
   "metadata": {},
   "outputs": [
    {
     "data": {
      "image/png": "[encoded data removed]",
      "text/plain": [
       "<Figure size 432x288 with 1 Axes>"
      ]
     },
     "metadata": {
      "needs_background": "light"
     },
     "output_type": "display_data"
    }
   ],
   "source": [
    "plt.plot(k_search_422.knn__n_neighbors,k_search_422.MAE_te)\n",
    "plt.xlabel('k nearest neighbours')\n",
    "plt.ylabel('MAE test')\n",
    "plt.show()"
   ]
  },
  {
   "cell_type": "markdown",
   "metadata": {},
   "source": [
    "More complex model based on more k neighbours leads to the increase of prediction error, signaling an overfitting."
   ]
  },
  {
   "cell_type": "markdown",
   "metadata": {},
   "source": [
    "Train regressor using the found parameters set and compute the forecast for a test time-series from the same cluster:"
   ]
  },
  {
   "cell_type": "code",
   "execution_count": 92,
   "metadata": {},
   "outputs": [],
   "source": [
    "meter_481 = df[df['meter_id']==481]"
   ]
  },
  {
   "cell_type": "code",
   "execution_count": 93,
   "metadata": {},
   "outputs": [],
   "source": [
    "temperature_481 = temperature[temperature.full_date.isin(meter_481.date)].reset_index()\n",
    "humidity_481 = humidity[humidity.full_date.isin(meter_481.date)].reset_index()"
   ]
  },
  {
   "cell_type": "code",
   "execution_count": 94,
   "metadata": {},
   "outputs": [],
   "source": [
    "meter_481 = meter_481[meter_481.date.isin(temperature_481.full_date)]\n",
    "meter_481 = meter_481[meter_481.date.isin(humidity_481.full_date)]\n",
    "meter_481 = meter_481.reset_index()"
   ]
  },
  {
   "cell_type": "code",
   "execution_count": 95,
   "metadata": {},
   "outputs": [],
   "source": [
    "meter_481['normalized_temp'] = temperature_481.normalized_temp\n",
    "meter_481['normalized_humid'] = humidity_481.normalized_humidity"
   ]
  },
  {
   "cell_type": "code",
   "execution_count": 96,
   "metadata": {},
   "outputs": [
    {
     "data": {
      "text/html": [
       "<div>\n",
       "<style scoped>\n",
       "    .dataframe tbody tr th:only-of-type {\n",
       "        vertical-align: middle;\n",
       "    }\n",
       "\n",
       "    .dataframe tbody tr th {\n",
       "        vertical-align: top;\n",
       "    }\n",
       "\n",
       "    .dataframe thead th {\n",
       "        text-align: right;\n",
       "    }\n",
       "</style>\n",
       "<table border=\"1\" class=\"dataframe\">\n",
       "  <thead>\n",
       "    <tr style=\"text-align: right;\">\n",
       "      <th></th>\n",
       "      <th>index</th>\n",
       "      <th>meter_id</th>\n",
       "      <th>date</th>\n",
       "      <th>demand</th>\n",
       "      <th>hours</th>\n",
       "      <th>normalized_demand</th>\n",
       "      <th>demand-24h</th>\n",
       "      <th>normalized_demand-24h</th>\n",
       "      <th>normalized_temp</th>\n",
       "      <th>normalized_humid</th>\n",
       "    </tr>\n",
       "  </thead>\n",
       "  <tbody>\n",
       "    <tr>\n",
       "      <th>0</th>\n",
       "      <td>9432360</td>\n",
       "      <td>481</td>\n",
       "      <td>2009-04-16 00:00:00</td>\n",
       "      <td>0.0</td>\n",
       "      <td>0.0</td>\n",
       "      <td>0.000000</td>\n",
       "      <td>NaN</td>\n",
       "      <td>NaN</td>\n",
       "      <td>0.424740</td>\n",
       "      <td>0.740221</td>\n",
       "    </tr>\n",
       "    <tr>\n",
       "      <th>1</th>\n",
       "      <td>9432361</td>\n",
       "      <td>481</td>\n",
       "      <td>2009-04-16 01:00:00</td>\n",
       "      <td>0.0</td>\n",
       "      <td>1.0</td>\n",
       "      <td>0.000000</td>\n",
       "      <td>NaN</td>\n",
       "      <td>NaN</td>\n",
       "      <td>0.410900</td>\n",
       "      <td>0.750850</td>\n",
       "    </tr>\n",
       "    <tr>\n",
       "      <th>2</th>\n",
       "      <td>9432362</td>\n",
       "      <td>481</td>\n",
       "      <td>2009-04-16 02:00:00</td>\n",
       "      <td>8.0</td>\n",
       "      <td>2.0</td>\n",
       "      <td>0.000563</td>\n",
       "      <td>NaN</td>\n",
       "      <td>NaN</td>\n",
       "      <td>0.397491</td>\n",
       "      <td>0.763605</td>\n",
       "    </tr>\n",
       "    <tr>\n",
       "      <th>3</th>\n",
       "      <td>9432363</td>\n",
       "      <td>481</td>\n",
       "      <td>2009-04-16 03:00:00</td>\n",
       "      <td>7.0</td>\n",
       "      <td>3.0</td>\n",
       "      <td>0.000492</td>\n",
       "      <td>NaN</td>\n",
       "      <td>NaN</td>\n",
       "      <td>0.387543</td>\n",
       "      <td>0.764881</td>\n",
       "    </tr>\n",
       "    <tr>\n",
       "      <th>4</th>\n",
       "      <td>9432364</td>\n",
       "      <td>481</td>\n",
       "      <td>2009-04-16 04:00:00</td>\n",
       "      <td>8.0</td>\n",
       "      <td>4.0</td>\n",
       "      <td>0.000563</td>\n",
       "      <td>NaN</td>\n",
       "      <td>NaN</td>\n",
       "      <td>0.380623</td>\n",
       "      <td>0.773384</td>\n",
       "    </tr>\n",
       "  </tbody>\n",
       "</table>\n",
       "</div>"
      ],
      "text/plain": [
       "     index  meter_id                date  demand  hours  normalized_demand  \\\n",
       "0  9432360       481 2009-04-16 00:00:00     0.0    0.0           0.000000   \n",
       "1  9432361       481 2009-04-16 01:00:00     0.0    1.0           0.000000   \n",
       "2  9432362       481 2009-04-16 02:00:00     8.0    2.0           0.000563   \n",
       "3  9432363       481 2009-04-16 03:00:00     7.0    3.0           0.000492   \n",
       "4  9432364       481 2009-04-16 04:00:00     8.0    4.0           0.000563   \n",
       "\n",
       "   demand-24h  normalized_demand-24h  normalized_temp  normalized_humid  \n",
       "0         NaN                    NaN         0.424740          0.740221  \n",
       "1         NaN                    NaN         0.410900          0.750850  \n",
       "2         NaN                    NaN         0.397491          0.763605  \n",
       "3         NaN                    NaN         0.387543          0.764881  \n",
       "4         NaN                    NaN         0.380623          0.773384  "
      ]
     },
     "execution_count": 96,
     "metadata": {},
     "output_type": "execute_result"
    }
   ],
   "source": [
    "meter_481.head()"
   ]
  },
  {
   "cell_type": "markdown",
   "metadata": {},
   "source": [
    "Split the data into training and test sets:"
   ]
  },
  {
   "cell_type": "code",
   "execution_count": 97,
   "metadata": {},
   "outputs": [
    {
     "name": "stdout",
     "output_type": "stream",
     "text": [
      "Train set\n",
      "---------\n",
      "Features: (19006, 4) Target: (19006,)\n",
      "\n",
      "Test set\n",
      "--------\n",
      "Features: (4752, 4) Target: (4752,)\n"
     ]
    }
   ],
   "source": [
    "X_tr_481,X_te_481,y_tr_481,y_te_481 = train_test_split(meter_481, 0.2, ['date','hours','normalized_temp','normalized_humid'])"
   ]
  },
  {
   "cell_type": "code",
   "execution_count": 98,
   "metadata": {},
   "outputs": [
    {
     "name": "stdout",
     "output_type": "stream",
     "text": [
      "Train set MAE\n",
      "---------\n",
      "MAE computed on the train set:  0.1\n",
      "Test set MAE\n",
      "--------\n",
      "MAE computed on the test set:  0.13\n"
     ]
    }
   ],
   "source": [
    "knn = KNeighborsRegressor(n_neighbors=30, p=1, weights='uniform')\n",
    "knn.fit(X_tr_481[:,1:],y_tr_481)\n",
    "\n",
    "# Compute predictions on train/test sets\n",
    "y_pred_tr = knn.predict(X_tr_481[:,1:])\n",
    "y_pred_te = knn.predict(X_te_481[:,1:])\n",
    "\n",
    "# Compute a MAE\n",
    "mae_tr = MAE(y_tr_481, y_pred_tr)\n",
    "mae_te = MAE(y_te_481, y_pred_te)\n",
    "\n",
    "print('Train set MAE')\n",
    "print('---------')\n",
    "print('MAE computed on the train set: ', np.round(mae_tr,2))\n",
    "\n",
    "print('Test set MAE')\n",
    "print('--------')    \n",
    "print('MAE computed on the test set: ', np.round(mae_te, 2))"
   ]
  },
  {
   "cell_type": "code",
   "execution_count": 99,
   "metadata": {},
   "outputs": [
    {
     "data": {
      "image/png": "[encoded data removed]",
      "text/plain": [
       "<Figure size 648x432 with 1 Axes>"
      ]
     },
     "metadata": {
      "needs_background": "light"
     },
     "output_type": "display_data"
    }
   ],
   "source": [
    "plot_predictions(X_tr_481,X_te_481,y_tr_481,y_te_481,y_pred_tr,y_pred_te)"
   ]
  },
  {
   "cell_type": "markdown",
   "metadata": {},
   "source": [
    "Computed forecast represents a line because the range of \"hours\" values in the test set was never observed in the training range. To correct this behaviour, use the offset of demand as a feature."
   ]
  },
  {
   "cell_type": "markdown",
   "metadata": {},
   "source": [
    "Tune k-NN model for the meter 422 with a new set of features:"
   ]
  },
  {
   "cell_type": "code",
   "execution_count": 100,
   "metadata": {},
   "outputs": [],
   "source": [
    "meter_422.dropna(inplace=True)"
   ]
  },
  {
   "cell_type": "code",
   "execution_count": 101,
   "metadata": {},
   "outputs": [
    {
     "name": "stdout",
     "output_type": "stream",
     "text": [
      "Train set\n",
      "---------\n",
      "Features: (49050, 4) Target: (49050,)\n",
      "\n",
      "Validation set\n",
      "---------\n",
      "Features: (6119, 4) Target: (6119,)\n",
      "\n",
      "Test set\n",
      "--------\n",
      "Features: (6144, 4) Target: (6144,)\n"
     ]
    }
   ],
   "source": [
    "X_tr_422,X_val_422,X_te_422,y_tr_422,y_val_422,y_te_422 = \\\n",
    "train_val_test_split(meter_422, 0.2, ['date','normalized_demand-24h','normalized_temp','normalized_humid'])"
   ]
  },
  {
   "cell_type": "code",
   "execution_count": 102,
   "metadata": {},
   "outputs": [
    {
     "name": "stdout",
     "output_type": "stream",
     "text": [
      "Number of combinations for grid search: 12\n",
      "Combination 1/12\n",
      "Combination 2/12\n",
      "Combination 3/12\n",
      "Combination 4/12\n",
      "Combination 5/12\n",
      "Combination 6/12\n",
      "Combination 7/12\n",
      "Combination 8/12\n",
      "Combination 9/12\n",
      "Combination 10/12\n",
      "Combination 11/12\n",
      "Combination 12/12\n",
      "done\n"
     ]
    }
   ],
   "source": [
    "grid_search_422 = fine_tune_kNN([10,20,30],X_tr_422[:,1:],X_val_422[:,1:],y_tr_422,y_val_422) "
   ]
  },
  {
   "cell_type": "code",
   "execution_count": 103,
   "metadata": {},
   "outputs": [
    {
     "data": {
      "text/html": [
       "<div>\n",
       "<style scoped>\n",
       "    .dataframe tbody tr th:only-of-type {\n",
       "        vertical-align: middle;\n",
       "    }\n",
       "\n",
       "    .dataframe tbody tr th {\n",
       "        vertical-align: top;\n",
       "    }\n",
       "\n",
       "    .dataframe thead th {\n",
       "        text-align: right;\n",
       "    }\n",
       "</style>\n",
       "<table border=\"1\" class=\"dataframe\">\n",
       "  <thead>\n",
       "    <tr style=\"text-align: right;\">\n",
       "      <th></th>\n",
       "      <th>MAE</th>\n",
       "      <th>knn__n_neighbors</th>\n",
       "      <th>knn__p</th>\n",
       "      <th>knn__weights</th>\n",
       "    </tr>\n",
       "  </thead>\n",
       "  <tbody>\n",
       "    <tr>\n",
       "      <th>8</th>\n",
       "      <td>0.050950</td>\n",
       "      <td>30</td>\n",
       "      <td>1</td>\n",
       "      <td>uniform</td>\n",
       "    </tr>\n",
       "    <tr>\n",
       "      <th>9</th>\n",
       "      <td>0.051084</td>\n",
       "      <td>30</td>\n",
       "      <td>1</td>\n",
       "      <td>distance</td>\n",
       "    </tr>\n",
       "    <tr>\n",
       "      <th>10</th>\n",
       "      <td>0.051106</td>\n",
       "      <td>30</td>\n",
       "      <td>2</td>\n",
       "      <td>uniform</td>\n",
       "    </tr>\n",
       "    <tr>\n",
       "      <th>11</th>\n",
       "      <td>0.051186</td>\n",
       "      <td>30</td>\n",
       "      <td>2</td>\n",
       "      <td>distance</td>\n",
       "    </tr>\n",
       "    <tr>\n",
       "      <th>6</th>\n",
       "      <td>0.051239</td>\n",
       "      <td>20</td>\n",
       "      <td>2</td>\n",
       "      <td>uniform</td>\n",
       "    </tr>\n",
       "    <tr>\n",
       "      <th>4</th>\n",
       "      <td>0.051450</td>\n",
       "      <td>20</td>\n",
       "      <td>1</td>\n",
       "      <td>uniform</td>\n",
       "    </tr>\n",
       "    <tr>\n",
       "      <th>7</th>\n",
       "      <td>0.051467</td>\n",
       "      <td>20</td>\n",
       "      <td>2</td>\n",
       "      <td>distance</td>\n",
       "    </tr>\n",
       "    <tr>\n",
       "      <th>5</th>\n",
       "      <td>0.051592</td>\n",
       "      <td>20</td>\n",
       "      <td>1</td>\n",
       "      <td>distance</td>\n",
       "    </tr>\n",
       "    <tr>\n",
       "      <th>0</th>\n",
       "      <td>0.052179</td>\n",
       "      <td>10</td>\n",
       "      <td>1</td>\n",
       "      <td>uniform</td>\n",
       "    </tr>\n",
       "    <tr>\n",
       "      <th>2</th>\n",
       "      <td>0.052241</td>\n",
       "      <td>10</td>\n",
       "      <td>2</td>\n",
       "      <td>uniform</td>\n",
       "    </tr>\n",
       "    <tr>\n",
       "      <th>1</th>\n",
       "      <td>0.052506</td>\n",
       "      <td>10</td>\n",
       "      <td>1</td>\n",
       "      <td>distance</td>\n",
       "    </tr>\n",
       "    <tr>\n",
       "      <th>3</th>\n",
       "      <td>0.052579</td>\n",
       "      <td>10</td>\n",
       "      <td>2</td>\n",
       "      <td>distance</td>\n",
       "    </tr>\n",
       "  </tbody>\n",
       "</table>\n",
       "</div>"
      ],
      "text/plain": [
       "         MAE  knn__n_neighbors  knn__p knn__weights\n",
       "8   0.050950                30       1      uniform\n",
       "9   0.051084                30       1     distance\n",
       "10  0.051106                30       2      uniform\n",
       "11  0.051186                30       2     distance\n",
       "6   0.051239                20       2      uniform\n",
       "4   0.051450                20       1      uniform\n",
       "7   0.051467                20       2     distance\n",
       "5   0.051592                20       1     distance\n",
       "0   0.052179                10       1      uniform\n",
       "2   0.052241                10       2      uniform\n",
       "1   0.052506                10       1     distance\n",
       "3   0.052579                10       2     distance"
      ]
     },
     "execution_count": 103,
     "metadata": {},
     "output_type": "execute_result"
    }
   ],
   "source": [
    "grid_search_422.sort_values(by='MAE',ascending=True)"
   ]
  },
  {
   "cell_type": "code",
   "execution_count": 104,
   "metadata": {},
   "outputs": [
    {
     "name": "stdout",
     "output_type": "stream",
     "text": [
      "Combination 1/6\n",
      "Combination 2/6\n",
      "Combination 3/6\n",
      "Combination 4/6\n",
      "Combination 5/6\n",
      "Combination 6/6\n",
      "done\n"
     ]
    }
   ],
   "source": [
    "k_search_422 = fine_tune_k(1,'uniform',[30,35,40,45,50,55],X_tr_422[:,1:],X_val_422[:,1:],X_te_422[:,1:],y_tr_422,y_val_422,y_te_422)"
   ]
  },
  {
   "cell_type": "code",
   "execution_count": 105,
   "metadata": {},
   "outputs": [
    {
     "data": {
      "text/html": [
       "<div>\n",
       "<style scoped>\n",
       "    .dataframe tbody tr th:only-of-type {\n",
       "        vertical-align: middle;\n",
       "    }\n",
       "\n",
       "    .dataframe tbody tr th {\n",
       "        vertical-align: top;\n",
       "    }\n",
       "\n",
       "    .dataframe thead th {\n",
       "        text-align: right;\n",
       "    }\n",
       "</style>\n",
       "<table border=\"1\" class=\"dataframe\">\n",
       "  <thead>\n",
       "    <tr style=\"text-align: right;\">\n",
       "      <th></th>\n",
       "      <th>MAE_te</th>\n",
       "      <th>MAE_val</th>\n",
       "      <th>knn__n_neighbors</th>\n",
       "    </tr>\n",
       "  </thead>\n",
       "  <tbody>\n",
       "    <tr>\n",
       "      <th>5</th>\n",
       "      <td>0.046654</td>\n",
       "      <td>0.050932</td>\n",
       "      <td>55</td>\n",
       "    </tr>\n",
       "    <tr>\n",
       "      <th>4</th>\n",
       "      <td>0.046670</td>\n",
       "      <td>0.050956</td>\n",
       "      <td>50</td>\n",
       "    </tr>\n",
       "    <tr>\n",
       "      <th>3</th>\n",
       "      <td>0.046694</td>\n",
       "      <td>0.050956</td>\n",
       "      <td>45</td>\n",
       "    </tr>\n",
       "    <tr>\n",
       "      <th>2</th>\n",
       "      <td>0.046724</td>\n",
       "      <td>0.050961</td>\n",
       "      <td>40</td>\n",
       "    </tr>\n",
       "    <tr>\n",
       "      <th>1</th>\n",
       "      <td>0.046773</td>\n",
       "      <td>0.050953</td>\n",
       "      <td>35</td>\n",
       "    </tr>\n",
       "    <tr>\n",
       "      <th>0</th>\n",
       "      <td>0.046813</td>\n",
       "      <td>0.050950</td>\n",
       "      <td>30</td>\n",
       "    </tr>\n",
       "  </tbody>\n",
       "</table>\n",
       "</div>"
      ],
      "text/plain": [
       "     MAE_te   MAE_val  knn__n_neighbors\n",
       "5  0.046654  0.050932                55\n",
       "4  0.046670  0.050956                50\n",
       "3  0.046694  0.050956                45\n",
       "2  0.046724  0.050961                40\n",
       "1  0.046773  0.050953                35\n",
       "0  0.046813  0.050950                30"
      ]
     },
     "execution_count": 105,
     "metadata": {},
     "output_type": "execute_result"
    }
   ],
   "source": [
    "k_search_422.sort_values(by='MAE_te',ascending=True)"
   ]
  },
  {
   "cell_type": "markdown",
   "metadata": {},
   "source": [
    "To train the regressor and compute the forecast for meter 481, use k=40 because the decrease in MAE for the test data set is very small when k is increased above 40."
   ]
  },
  {
   "cell_type": "markdown",
   "metadata": {},
   "source": [
    "Compute the forecast for meter 481 with a new set of features:"
   ]
  },
  {
   "cell_type": "code",
   "execution_count": 106,
   "metadata": {},
   "outputs": [
    {
     "name": "stdout",
     "output_type": "stream",
     "text": [
      "Train set\n",
      "---------\n",
      "Features: (18982, 4) Target: (18982,)\n",
      "\n",
      "Test set\n",
      "--------\n",
      "Features: (4752, 4) Target: (4752,)\n"
     ]
    }
   ],
   "source": [
    "meter_481.dropna(inplace=True)\n",
    "X_tr_481,X_te_481,y_tr_481,y_te_481 = \\\n",
    "train_test_split(meter_481, 0.2, ['date','normalized_demand-24h','normalized_temp','normalized_humid'])"
   ]
  },
  {
   "cell_type": "code",
   "execution_count": 107,
   "metadata": {},
   "outputs": [
    {
     "name": "stdout",
     "output_type": "stream",
     "text": [
      "Train set MAE\n",
      "---------\n",
      "MAE computed on the train set:  0.04\n",
      "Test set MAE\n",
      "--------\n",
      "MAE computed on the test set:  0.04\n"
     ]
    }
   ],
   "source": [
    "knn = KNeighborsRegressor(n_neighbors=40, p=1, weights='uniform') \n",
    "knn.fit(X_tr_481[:,1:],y_tr_481)\n",
    "\n",
    "# Compute predictions on train/test sets\n",
    "y_pred_tr = knn.predict(X_tr_481[:,1:])\n",
    "y_pred_te = knn.predict(X_te_481[:,1:])\n",
    "\n",
    "# Compute a MAE\n",
    "mae_tr = MAE(y_tr_481, y_pred_tr)\n",
    "mae_te = MAE(y_te_481, y_pred_te)\n",
    "\n",
    "print('Train set MAE')\n",
    "print('---------')\n",
    "print('MAE computed on the train set: ', np.round(mae_tr,2))\n",
    "\n",
    "print('Test set MAE')\n",
    "print('--------')    \n",
    "print('MAE computed on the test set: ', np.round(mae_te, 2))"
   ]
  },
  {
   "cell_type": "code",
   "execution_count": 108,
   "metadata": {},
   "outputs": [
    {
     "data": {
      "image/png": "[encoded data removed]",
      "text/plain": [
       "<Figure size 648x432 with 1 Axes>"
      ]
     },
     "metadata": {
      "needs_background": "light"
     },
     "output_type": "display_data"
    }
   ],
   "source": [
    "plot_predictions(X_tr_481,X_te_481,y_tr_481,y_te_481,y_pred_tr,y_pred_te)"
   ]
  },
  {
   "cell_type": "markdown",
   "metadata": {},
   "source": [
    "Forecast results were improved when using a lag in the demand data."
   ]
  },
  {
   "cell_type": "markdown",
   "metadata": {},
   "source": [
    "Save the results:"
   ]
  },
  {
   "cell_type": "code",
   "execution_count": 109,
   "metadata": {},
   "outputs": [],
   "source": [
    "pred_481 = save_result(481,X_tr_481,X_te_481,y_pred_tr,y_pred_te)"
   ]
  },
  {
   "cell_type": "code",
   "execution_count": 110,
   "metadata": {},
   "outputs": [],
   "source": [
    "pred_481.to_pickle('kNN_meter481')"
   ]
  },
  {
   "cell_type": "markdown",
   "metadata": {},
   "source": [
    "__Cluster 2__"
   ]
  },
  {
   "cell_type": "markdown",
   "metadata": {},
   "source": [
    "Tune a k-NN model for a one time-series, meter 60, from the cluster 2."
   ]
  },
  {
   "cell_type": "code",
   "execution_count": 111,
   "metadata": {},
   "outputs": [],
   "source": [
    "meter_60 = df[df['meter_id']==60]"
   ]
  },
  {
   "cell_type": "code",
   "execution_count": 112,
   "metadata": {},
   "outputs": [],
   "source": [
    "temperature_60 = temperature[temperature.full_date.isin(meter_60.date)]\n",
    "humidity_60 = humidity[humidity.full_date.isin(meter_60.date)]"
   ]
  },
  {
   "cell_type": "code",
   "execution_count": 113,
   "metadata": {},
   "outputs": [],
   "source": [
    "meter_60 = meter_60[meter_60.date.isin(temperature_60.full_date)]\n",
    "meter_60 = meter_60[meter_60.date.isin(humidity_60.full_date)]\n",
    "meter_60 = meter_60.reset_index()"
   ]
  },
  {
   "cell_type": "code",
   "execution_count": 114,
   "metadata": {},
   "outputs": [],
   "source": [
    "meter_60['normalized_temp'] = temperature_60.normalized_temp\n",
    "meter_60['normalized_humid'] = humidity_60.normalized_humidity"
   ]
  },
  {
   "cell_type": "code",
   "execution_count": 115,
   "metadata": {},
   "outputs": [
    {
     "data": {
      "text/html": [
       "<div>\n",
       "<style scoped>\n",
       "    .dataframe tbody tr th:only-of-type {\n",
       "        vertical-align: middle;\n",
       "    }\n",
       "\n",
       "    .dataframe tbody tr th {\n",
       "        vertical-align: top;\n",
       "    }\n",
       "\n",
       "    .dataframe thead th {\n",
       "        text-align: right;\n",
       "    }\n",
       "</style>\n",
       "<table border=\"1\" class=\"dataframe\">\n",
       "  <thead>\n",
       "    <tr style=\"text-align: right;\">\n",
       "      <th></th>\n",
       "      <th>index</th>\n",
       "      <th>meter_id</th>\n",
       "      <th>date</th>\n",
       "      <th>demand</th>\n",
       "      <th>hours</th>\n",
       "      <th>normalized_demand</th>\n",
       "      <th>demand-24h</th>\n",
       "      <th>normalized_demand-24h</th>\n",
       "      <th>normalized_temp</th>\n",
       "      <th>normalized_humid</th>\n",
       "    </tr>\n",
       "  </thead>\n",
       "  <tbody>\n",
       "    <tr>\n",
       "      <th>0</th>\n",
       "      <td>1587432</td>\n",
       "      <td>60</td>\n",
       "      <td>2005-01-01 00:00:00</td>\n",
       "      <td>4379.0</td>\n",
       "      <td>0.0</td>\n",
       "      <td>0.078669</td>\n",
       "      <td>NaN</td>\n",
       "      <td>NaN</td>\n",
       "      <td>0.390571</td>\n",
       "      <td>0.879677</td>\n",
       "    </tr>\n",
       "    <tr>\n",
       "      <th>1</th>\n",
       "      <td>1587433</td>\n",
       "      <td>60</td>\n",
       "      <td>2005-01-01 01:00:00</td>\n",
       "      <td>5598.0</td>\n",
       "      <td>1.0</td>\n",
       "      <td>0.155943</td>\n",
       "      <td>NaN</td>\n",
       "      <td>NaN</td>\n",
       "      <td>0.389273</td>\n",
       "      <td>0.869473</td>\n",
       "    </tr>\n",
       "    <tr>\n",
       "      <th>2</th>\n",
       "      <td>1587434</td>\n",
       "      <td>60</td>\n",
       "      <td>2005-01-01 02:00:00</td>\n",
       "      <td>5502.0</td>\n",
       "      <td>2.0</td>\n",
       "      <td>0.149857</td>\n",
       "      <td>NaN</td>\n",
       "      <td>NaN</td>\n",
       "      <td>0.378460</td>\n",
       "      <td>0.872874</td>\n",
       "    </tr>\n",
       "    <tr>\n",
       "      <th>3</th>\n",
       "      <td>1587435</td>\n",
       "      <td>60</td>\n",
       "      <td>2005-01-01 03:00:00</td>\n",
       "      <td>5442.0</td>\n",
       "      <td>3.0</td>\n",
       "      <td>0.146054</td>\n",
       "      <td>NaN</td>\n",
       "      <td>NaN</td>\n",
       "      <td>0.381055</td>\n",
       "      <td>0.875850</td>\n",
       "    </tr>\n",
       "    <tr>\n",
       "      <th>4</th>\n",
       "      <td>1587436</td>\n",
       "      <td>60</td>\n",
       "      <td>2005-01-01 04:00:00</td>\n",
       "      <td>5562.0</td>\n",
       "      <td>4.0</td>\n",
       "      <td>0.153661</td>\n",
       "      <td>NaN</td>\n",
       "      <td>NaN</td>\n",
       "      <td>0.375865</td>\n",
       "      <td>0.877551</td>\n",
       "    </tr>\n",
       "  </tbody>\n",
       "</table>\n",
       "</div>"
      ],
      "text/plain": [
       "     index  meter_id                date  demand  hours  normalized_demand  \\\n",
       "0  1587432        60 2005-01-01 00:00:00  4379.0    0.0           0.078669   \n",
       "1  1587433        60 2005-01-01 01:00:00  5598.0    1.0           0.155943   \n",
       "2  1587434        60 2005-01-01 02:00:00  5502.0    2.0           0.149857   \n",
       "3  1587435        60 2005-01-01 03:00:00  5442.0    3.0           0.146054   \n",
       "4  1587436        60 2005-01-01 04:00:00  5562.0    4.0           0.153661   \n",
       "\n",
       "   demand-24h  normalized_demand-24h  normalized_temp  normalized_humid  \n",
       "0         NaN                    NaN         0.390571          0.879677  \n",
       "1         NaN                    NaN         0.389273          0.869473  \n",
       "2         NaN                    NaN         0.378460          0.872874  \n",
       "3         NaN                    NaN         0.381055          0.875850  \n",
       "4         NaN                    NaN         0.375865          0.877551  "
      ]
     },
     "execution_count": 115,
     "metadata": {},
     "output_type": "execute_result"
    }
   ],
   "source": [
    "meter_60.head(5)"
   ]
  },
  {
   "cell_type": "code",
   "execution_count": 116,
   "metadata": {},
   "outputs": [],
   "source": [
    "meter_60.dropna(inplace=True)"
   ]
  },
  {
   "cell_type": "markdown",
   "metadata": {},
   "source": [
    "Use the lag in demand as an additional feature based on the observations from Cluster 1:"
   ]
  },
  {
   "cell_type": "code",
   "execution_count": 117,
   "metadata": {},
   "outputs": [
    {
     "name": "stdout",
     "output_type": "stream",
     "text": [
      "Train set\n",
      "---------\n",
      "Features: (49050, 4) Target: (49050,)\n",
      "\n",
      "Validation set\n",
      "---------\n",
      "Features: (6119, 4) Target: (6119,)\n",
      "\n",
      "Test set\n",
      "--------\n",
      "Features: (6144, 4) Target: (6144,)\n"
     ]
    }
   ],
   "source": [
    "X_tr_60,X_val_60,X_te_60,y_tr_60,y_val_60,y_te_60 = \\\n",
    "train_val_test_split(meter_60, 0.2, ['date','normalized_demand-24h','normalized_temp','normalized_humid'])"
   ]
  },
  {
   "cell_type": "code",
   "execution_count": 118,
   "metadata": {},
   "outputs": [
    {
     "name": "stdout",
     "output_type": "stream",
     "text": [
      "Number of combinations for grid search: 12\n",
      "Combination 1/12\n",
      "Combination 2/12\n",
      "Combination 3/12\n",
      "Combination 4/12\n",
      "Combination 5/12\n",
      "Combination 6/12\n",
      "Combination 7/12\n",
      "Combination 8/12\n",
      "Combination 9/12\n",
      "Combination 10/12\n",
      "Combination 11/12\n",
      "Combination 12/12\n",
      "done\n"
     ]
    }
   ],
   "source": [
    "grid_search_60 = fine_tune_kNN([10,20,30],X_tr_60[:,1:],X_val_60[:,1:],y_tr_60,y_val_60) "
   ]
  },
  {
   "cell_type": "code",
   "execution_count": 119,
   "metadata": {},
   "outputs": [
    {
     "data": {
      "text/html": [
       "<div>\n",
       "<style scoped>\n",
       "    .dataframe tbody tr th:only-of-type {\n",
       "        vertical-align: middle;\n",
       "    }\n",
       "\n",
       "    .dataframe tbody tr th {\n",
       "        vertical-align: top;\n",
       "    }\n",
       "\n",
       "    .dataframe thead th {\n",
       "        text-align: right;\n",
       "    }\n",
       "</style>\n",
       "<table border=\"1\" class=\"dataframe\">\n",
       "  <thead>\n",
       "    <tr style=\"text-align: right;\">\n",
       "      <th></th>\n",
       "      <th>MAE</th>\n",
       "      <th>knn__n_neighbors</th>\n",
       "      <th>knn__p</th>\n",
       "      <th>knn__weights</th>\n",
       "    </tr>\n",
       "  </thead>\n",
       "  <tbody>\n",
       "    <tr>\n",
       "      <th>10</th>\n",
       "      <td>0.059907</td>\n",
       "      <td>30</td>\n",
       "      <td>2</td>\n",
       "      <td>uniform</td>\n",
       "    </tr>\n",
       "    <tr>\n",
       "      <th>11</th>\n",
       "      <td>0.059963</td>\n",
       "      <td>30</td>\n",
       "      <td>2</td>\n",
       "      <td>distance</td>\n",
       "    </tr>\n",
       "    <tr>\n",
       "      <th>8</th>\n",
       "      <td>0.060007</td>\n",
       "      <td>30</td>\n",
       "      <td>1</td>\n",
       "      <td>uniform</td>\n",
       "    </tr>\n",
       "    <tr>\n",
       "      <th>9</th>\n",
       "      <td>0.060032</td>\n",
       "      <td>30</td>\n",
       "      <td>1</td>\n",
       "      <td>distance</td>\n",
       "    </tr>\n",
       "    <tr>\n",
       "      <th>6</th>\n",
       "      <td>0.060040</td>\n",
       "      <td>20</td>\n",
       "      <td>2</td>\n",
       "      <td>uniform</td>\n",
       "    </tr>\n",
       "    <tr>\n",
       "      <th>7</th>\n",
       "      <td>0.060187</td>\n",
       "      <td>20</td>\n",
       "      <td>2</td>\n",
       "      <td>distance</td>\n",
       "    </tr>\n",
       "    <tr>\n",
       "      <th>4</th>\n",
       "      <td>0.060204</td>\n",
       "      <td>20</td>\n",
       "      <td>1</td>\n",
       "      <td>uniform</td>\n",
       "    </tr>\n",
       "    <tr>\n",
       "      <th>5</th>\n",
       "      <td>0.060279</td>\n",
       "      <td>20</td>\n",
       "      <td>1</td>\n",
       "      <td>distance</td>\n",
       "    </tr>\n",
       "    <tr>\n",
       "      <th>0</th>\n",
       "      <td>0.060969</td>\n",
       "      <td>10</td>\n",
       "      <td>1</td>\n",
       "      <td>uniform</td>\n",
       "    </tr>\n",
       "    <tr>\n",
       "      <th>2</th>\n",
       "      <td>0.061012</td>\n",
       "      <td>10</td>\n",
       "      <td>2</td>\n",
       "      <td>uniform</td>\n",
       "    </tr>\n",
       "    <tr>\n",
       "      <th>1</th>\n",
       "      <td>0.061173</td>\n",
       "      <td>10</td>\n",
       "      <td>1</td>\n",
       "      <td>distance</td>\n",
       "    </tr>\n",
       "    <tr>\n",
       "      <th>3</th>\n",
       "      <td>0.061256</td>\n",
       "      <td>10</td>\n",
       "      <td>2</td>\n",
       "      <td>distance</td>\n",
       "    </tr>\n",
       "  </tbody>\n",
       "</table>\n",
       "</div>"
      ],
      "text/plain": [
       "         MAE  knn__n_neighbors  knn__p knn__weights\n",
       "10  0.059907                30       2      uniform\n",
       "11  0.059963                30       2     distance\n",
       "8   0.060007                30       1      uniform\n",
       "9   0.060032                30       1     distance\n",
       "6   0.060040                20       2      uniform\n",
       "7   0.060187                20       2     distance\n",
       "4   0.060204                20       1      uniform\n",
       "5   0.060279                20       1     distance\n",
       "0   0.060969                10       1      uniform\n",
       "2   0.061012                10       2      uniform\n",
       "1   0.061173                10       1     distance\n",
       "3   0.061256                10       2     distance"
      ]
     },
     "execution_count": 119,
     "metadata": {},
     "output_type": "execute_result"
    }
   ],
   "source": [
    "grid_search_60.sort_values(by='MAE',ascending=True)"
   ]
  },
  {
   "cell_type": "code",
   "execution_count": 120,
   "metadata": {},
   "outputs": [
    {
     "name": "stdout",
     "output_type": "stream",
     "text": [
      "Combination 1/5\n",
      "Combination 2/5\n",
      "Combination 3/5\n",
      "Combination 4/5\n",
      "Combination 5/5\n",
      "done\n"
     ]
    }
   ],
   "source": [
    "k_search_60 = \\\n",
    "fine_tune_k(2,'uniform',[28,30,32,35,40],X_tr_60[:,1:],X_val_60[:,1:],X_te_60[:,1:],y_tr_60,y_val_60,y_te_60)"
   ]
  },
  {
   "cell_type": "code",
   "execution_count": 121,
   "metadata": {},
   "outputs": [
    {
     "data": {
      "text/html": [
       "<div>\n",
       "<style scoped>\n",
       "    .dataframe tbody tr th:only-of-type {\n",
       "        vertical-align: middle;\n",
       "    }\n",
       "\n",
       "    .dataframe tbody tr th {\n",
       "        vertical-align: top;\n",
       "    }\n",
       "\n",
       "    .dataframe thead th {\n",
       "        text-align: right;\n",
       "    }\n",
       "</style>\n",
       "<table border=\"1\" class=\"dataframe\">\n",
       "  <thead>\n",
       "    <tr style=\"text-align: right;\">\n",
       "      <th></th>\n",
       "      <th>MAE_te</th>\n",
       "      <th>MAE_val</th>\n",
       "      <th>knn__n_neighbors</th>\n",
       "    </tr>\n",
       "  </thead>\n",
       "  <tbody>\n",
       "    <tr>\n",
       "      <th>3</th>\n",
       "      <td>0.053639</td>\n",
       "      <td>0.059900</td>\n",
       "      <td>35</td>\n",
       "    </tr>\n",
       "    <tr>\n",
       "      <th>1</th>\n",
       "      <td>0.053641</td>\n",
       "      <td>0.059907</td>\n",
       "      <td>30</td>\n",
       "    </tr>\n",
       "    <tr>\n",
       "      <th>0</th>\n",
       "      <td>0.053663</td>\n",
       "      <td>0.059917</td>\n",
       "      <td>28</td>\n",
       "    </tr>\n",
       "    <tr>\n",
       "      <th>4</th>\n",
       "      <td>0.053664</td>\n",
       "      <td>0.059883</td>\n",
       "      <td>40</td>\n",
       "    </tr>\n",
       "    <tr>\n",
       "      <th>2</th>\n",
       "      <td>0.053671</td>\n",
       "      <td>0.059887</td>\n",
       "      <td>32</td>\n",
       "    </tr>\n",
       "  </tbody>\n",
       "</table>\n",
       "</div>"
      ],
      "text/plain": [
       "     MAE_te   MAE_val  knn__n_neighbors\n",
       "3  0.053639  0.059900                35\n",
       "1  0.053641  0.059907                30\n",
       "0  0.053663  0.059917                28\n",
       "4  0.053664  0.059883                40\n",
       "2  0.053671  0.059887                32"
      ]
     },
     "execution_count": 121,
     "metadata": {},
     "output_type": "execute_result"
    }
   ],
   "source": [
    "k_search_60.sort_values(by='MAE_te',ascending=True)"
   ]
  },
  {
   "cell_type": "markdown",
   "metadata": {},
   "source": [
    "Using found parameters, compute the forecast for the meter 10:"
   ]
  },
  {
   "cell_type": "code",
   "execution_count": 122,
   "metadata": {},
   "outputs": [
    {
     "data": {
      "text/html": [
       "<div>\n",
       "<style scoped>\n",
       "    .dataframe tbody tr th:only-of-type {\n",
       "        vertical-align: middle;\n",
       "    }\n",
       "\n",
       "    .dataframe tbody tr th {\n",
       "        vertical-align: top;\n",
       "    }\n",
       "\n",
       "    .dataframe thead th {\n",
       "        text-align: right;\n",
       "    }\n",
       "</style>\n",
       "<table border=\"1\" class=\"dataframe\">\n",
       "  <thead>\n",
       "    <tr style=\"text-align: right;\">\n",
       "      <th></th>\n",
       "      <th>index</th>\n",
       "      <th>meter_id</th>\n",
       "      <th>date</th>\n",
       "      <th>demand</th>\n",
       "      <th>hours</th>\n",
       "      <th>normalized_demand</th>\n",
       "      <th>demand-24h</th>\n",
       "      <th>normalized_demand-24h</th>\n",
       "      <th>normalized_temp</th>\n",
       "      <th>normalized_humid</th>\n",
       "    </tr>\n",
       "  </thead>\n",
       "  <tbody>\n",
       "    <tr>\n",
       "      <th>0</th>\n",
       "      <td>483240</td>\n",
       "      <td>10</td>\n",
       "      <td>2005-01-01 00:00:00</td>\n",
       "      <td>2027.0</td>\n",
       "      <td>0.0</td>\n",
       "      <td>0.117804</td>\n",
       "      <td>NaN</td>\n",
       "      <td>NaN</td>\n",
       "      <td>0.390571</td>\n",
       "      <td>0.879677</td>\n",
       "    </tr>\n",
       "    <tr>\n",
       "      <th>1</th>\n",
       "      <td>483241</td>\n",
       "      <td>10</td>\n",
       "      <td>2005-01-01 01:00:00</td>\n",
       "      <td>3072.0</td>\n",
       "      <td>1.0</td>\n",
       "      <td>0.229211</td>\n",
       "      <td>NaN</td>\n",
       "      <td>NaN</td>\n",
       "      <td>0.389273</td>\n",
       "      <td>0.869473</td>\n",
       "    </tr>\n",
       "    <tr>\n",
       "      <th>2</th>\n",
       "      <td>483242</td>\n",
       "      <td>10</td>\n",
       "      <td>2005-01-01 02:00:00</td>\n",
       "      <td>2870.0</td>\n",
       "      <td>2.0</td>\n",
       "      <td>0.207676</td>\n",
       "      <td>NaN</td>\n",
       "      <td>NaN</td>\n",
       "      <td>0.378460</td>\n",
       "      <td>0.872874</td>\n",
       "    </tr>\n",
       "    <tr>\n",
       "      <th>3</th>\n",
       "      <td>483243</td>\n",
       "      <td>10</td>\n",
       "      <td>2005-01-01 03:00:00</td>\n",
       "      <td>2851.0</td>\n",
       "      <td>3.0</td>\n",
       "      <td>0.205650</td>\n",
       "      <td>NaN</td>\n",
       "      <td>NaN</td>\n",
       "      <td>0.381055</td>\n",
       "      <td>0.875850</td>\n",
       "    </tr>\n",
       "    <tr>\n",
       "      <th>4</th>\n",
       "      <td>483244</td>\n",
       "      <td>10</td>\n",
       "      <td>2005-01-01 04:00:00</td>\n",
       "      <td>2900.0</td>\n",
       "      <td>4.0</td>\n",
       "      <td>0.210874</td>\n",
       "      <td>NaN</td>\n",
       "      <td>NaN</td>\n",
       "      <td>0.375865</td>\n",
       "      <td>0.877551</td>\n",
       "    </tr>\n",
       "  </tbody>\n",
       "</table>\n",
       "</div>"
      ],
      "text/plain": [
       "    index  meter_id                date  demand  hours  normalized_demand  \\\n",
       "0  483240        10 2005-01-01 00:00:00  2027.0    0.0           0.117804   \n",
       "1  483241        10 2005-01-01 01:00:00  3072.0    1.0           0.229211   \n",
       "2  483242        10 2005-01-01 02:00:00  2870.0    2.0           0.207676   \n",
       "3  483243        10 2005-01-01 03:00:00  2851.0    3.0           0.205650   \n",
       "4  483244        10 2005-01-01 04:00:00  2900.0    4.0           0.210874   \n",
       "\n",
       "   demand-24h  normalized_demand-24h  normalized_temp  normalized_humid  \n",
       "0         NaN                    NaN         0.390571          0.879677  \n",
       "1         NaN                    NaN         0.389273          0.869473  \n",
       "2         NaN                    NaN         0.378460          0.872874  \n",
       "3         NaN                    NaN         0.381055          0.875850  \n",
       "4         NaN                    NaN         0.375865          0.877551  "
      ]
     },
     "execution_count": 122,
     "metadata": {},
     "output_type": "execute_result"
    }
   ],
   "source": [
    "meter_10 = df[df['meter_id']==10]\n",
    "temperature_10 = temperature[temperature.full_date.isin(meter_10.date)].reset_index()\n",
    "humidity_10 = humidity[humidity.full_date.isin(meter_10.date)].reset_index()\n",
    "meter_10 = meter_10[meter_10.date.isin(temperature_10.full_date)]\n",
    "meter_10 = meter_10[meter_10.date.isin(humidity_10.full_date)]\n",
    "meter_10 = meter_10.reset_index()\n",
    "meter_10['normalized_temp'] = temperature_10.normalized_temp\n",
    "meter_10['normalized_humid'] = humidity_10.normalized_humidity\n",
    "meter_10.head(5)"
   ]
  },
  {
   "cell_type": "code",
   "execution_count": 123,
   "metadata": {},
   "outputs": [],
   "source": [
    "meter_10.dropna(inplace=True)"
   ]
  },
  {
   "cell_type": "code",
   "execution_count": 124,
   "metadata": {},
   "outputs": [
    {
     "name": "stdout",
     "output_type": "stream",
     "text": [
      "Train set\n",
      "---------\n",
      "Features: (49050, 4) Target: (49050,)\n",
      "\n",
      "Test set\n",
      "--------\n",
      "Features: (12263, 4) Target: (12263,)\n"
     ]
    }
   ],
   "source": [
    "X_tr_10,X_te_10,y_tr_10,y_te_10 = \\\n",
    "train_test_split(meter_10, 0.2, ['date','normalized_demand-24h','normalized_temp','normalized_humid'])"
   ]
  },
  {
   "cell_type": "code",
   "execution_count": 125,
   "metadata": {},
   "outputs": [
    {
     "name": "stdout",
     "output_type": "stream",
     "text": [
      "Train set MAE\n",
      "---------\n",
      "MAE computed on the train set:  0.04\n",
      "Test set MAE\n",
      "--------\n",
      "MAE computed on the test set:  0.04\n"
     ]
    }
   ],
   "source": [
    "knn = KNeighborsRegressor(n_neighbors=40, p=2, weights='uniform') \n",
    "knn.fit(X_tr_10[:,1:],y_tr_10)\n",
    "\n",
    "# Compute predictions on train/test sets\n",
    "y_pred_tr = knn.predict(X_tr_10[:,1:])\n",
    "y_pred_te = knn.predict(X_te_10[:,1:])\n",
    "\n",
    "# Compute a MAE\n",
    "mae_tr = MAE(y_tr_10, y_pred_tr)\n",
    "mae_te = MAE(y_te_10, y_pred_te)\n",
    "\n",
    "print('Train set MAE')\n",
    "print('---------')\n",
    "print('MAE computed on the train set: ', np.round(mae_tr,2))\n",
    "\n",
    "print('Test set MAE')\n",
    "print('--------')    \n",
    "print('MAE computed on the test set: ', np.round(mae_te, 2))"
   ]
  },
  {
   "cell_type": "code",
   "execution_count": 126,
   "metadata": {},
   "outputs": [
    {
     "data": {
      "image/png": "[encoded data removed]",
      "text/plain": [
       "<Figure size 648x432 with 1 Axes>"
      ]
     },
     "metadata": {
      "needs_background": "light"
     },
     "output_type": "display_data"
    }
   ],
   "source": [
    "plot_predictions(X_tr_10,X_te_10,y_tr_10,y_te_10,y_pred_tr,y_pred_te)"
   ]
  },
  {
   "cell_type": "code",
   "execution_count": 127,
   "metadata": {},
   "outputs": [],
   "source": [
    "pred_10 = save_result(10,X_tr_10,X_te_10,y_pred_tr,y_pred_te)"
   ]
  },
  {
   "cell_type": "code",
   "execution_count": 128,
   "metadata": {},
   "outputs": [],
   "source": [
    "pred_10.to_pickle('kNN_meter10')"
   ]
  },
  {
   "cell_type": "markdown",
   "metadata": {},
   "source": [
    "__Cluster 3__"
   ]
  },
  {
   "cell_type": "markdown",
   "metadata": {},
   "source": [
    "Tune a k-NN model for a one time-series, meter 412, from the cluster 3."
   ]
  },
  {
   "cell_type": "code",
   "execution_count": 129,
   "metadata": {},
   "outputs": [
    {
     "data": {
      "text/html": [
       "<div>\n",
       "<style scoped>\n",
       "    .dataframe tbody tr th:only-of-type {\n",
       "        vertical-align: middle;\n",
       "    }\n",
       "\n",
       "    .dataframe tbody tr th {\n",
       "        vertical-align: top;\n",
       "    }\n",
       "\n",
       "    .dataframe thead th {\n",
       "        text-align: right;\n",
       "    }\n",
       "</style>\n",
       "<table border=\"1\" class=\"dataframe\">\n",
       "  <thead>\n",
       "    <tr style=\"text-align: right;\">\n",
       "      <th></th>\n",
       "      <th>index</th>\n",
       "      <th>meter_id</th>\n",
       "      <th>date</th>\n",
       "      <th>demand</th>\n",
       "      <th>hours</th>\n",
       "      <th>normalized_demand</th>\n",
       "      <th>demand-24h</th>\n",
       "      <th>normalized_demand-24h</th>\n",
       "      <th>normalized_temp</th>\n",
       "      <th>normalized_humid</th>\n",
       "    </tr>\n",
       "  </thead>\n",
       "  <tbody>\n",
       "    <tr>\n",
       "      <th>0</th>\n",
       "      <td>7979568</td>\n",
       "      <td>412</td>\n",
       "      <td>2005-01-01 00:00:00</td>\n",
       "      <td>714.5</td>\n",
       "      <td>0.0</td>\n",
       "      <td>0.324478</td>\n",
       "      <td>NaN</td>\n",
       "      <td>NaN</td>\n",
       "      <td>0.390571</td>\n",
       "      <td>0.879677</td>\n",
       "    </tr>\n",
       "    <tr>\n",
       "      <th>1</th>\n",
       "      <td>7979569</td>\n",
       "      <td>412</td>\n",
       "      <td>2005-01-01 01:00:00</td>\n",
       "      <td>8.0</td>\n",
       "      <td>1.0</td>\n",
       "      <td>0.003633</td>\n",
       "      <td>NaN</td>\n",
       "      <td>NaN</td>\n",
       "      <td>0.389273</td>\n",
       "      <td>0.869473</td>\n",
       "    </tr>\n",
       "    <tr>\n",
       "      <th>2</th>\n",
       "      <td>7979570</td>\n",
       "      <td>412</td>\n",
       "      <td>2005-01-01 02:00:00</td>\n",
       "      <td>8.0</td>\n",
       "      <td>2.0</td>\n",
       "      <td>0.003633</td>\n",
       "      <td>NaN</td>\n",
       "      <td>NaN</td>\n",
       "      <td>0.378460</td>\n",
       "      <td>0.872874</td>\n",
       "    </tr>\n",
       "    <tr>\n",
       "      <th>3</th>\n",
       "      <td>7979571</td>\n",
       "      <td>412</td>\n",
       "      <td>2005-01-01 03:00:00</td>\n",
       "      <td>8.0</td>\n",
       "      <td>3.0</td>\n",
       "      <td>0.003633</td>\n",
       "      <td>NaN</td>\n",
       "      <td>NaN</td>\n",
       "      <td>0.381055</td>\n",
       "      <td>0.875850</td>\n",
       "    </tr>\n",
       "    <tr>\n",
       "      <th>4</th>\n",
       "      <td>7979572</td>\n",
       "      <td>412</td>\n",
       "      <td>2005-01-01 04:00:00</td>\n",
       "      <td>8.0</td>\n",
       "      <td>4.0</td>\n",
       "      <td>0.003633</td>\n",
       "      <td>NaN</td>\n",
       "      <td>NaN</td>\n",
       "      <td>0.375865</td>\n",
       "      <td>0.877551</td>\n",
       "    </tr>\n",
       "  </tbody>\n",
       "</table>\n",
       "</div>"
      ],
      "text/plain": [
       "     index  meter_id                date  demand  hours  normalized_demand  \\\n",
       "0  7979568       412 2005-01-01 00:00:00   714.5    0.0           0.324478   \n",
       "1  7979569       412 2005-01-01 01:00:00     8.0    1.0           0.003633   \n",
       "2  7979570       412 2005-01-01 02:00:00     8.0    2.0           0.003633   \n",
       "3  7979571       412 2005-01-01 03:00:00     8.0    3.0           0.003633   \n",
       "4  7979572       412 2005-01-01 04:00:00     8.0    4.0           0.003633   \n",
       "\n",
       "   demand-24h  normalized_demand-24h  normalized_temp  normalized_humid  \n",
       "0         NaN                    NaN         0.390571          0.879677  \n",
       "1         NaN                    NaN         0.389273          0.869473  \n",
       "2         NaN                    NaN         0.378460          0.872874  \n",
       "3         NaN                    NaN         0.381055          0.875850  \n",
       "4         NaN                    NaN         0.375865          0.877551  "
      ]
     },
     "execution_count": 129,
     "metadata": {},
     "output_type": "execute_result"
    }
   ],
   "source": [
    "meter_412 = df[df['meter_id']==412]\n",
    "temperature_412 = temperature[temperature.full_date.isin(meter_412.date)]\n",
    "humidity_412 = humidity[humidity.full_date.isin(meter_412.date)]\n",
    "meter_412 = meter_412[meter_412.date.isin(temperature_412.full_date)]\n",
    "meter_412 = meter_412[meter_412.date.isin(humidity_412.full_date)]\n",
    "meter_412 = meter_412.reset_index()\n",
    "meter_412['normalized_temp'] = temperature_412.normalized_temp\n",
    "meter_412['normalized_humid'] = humidity_412.normalized_humidity\n",
    "meter_412.head()"
   ]
  },
  {
   "cell_type": "code",
   "execution_count": 130,
   "metadata": {},
   "outputs": [],
   "source": [
    "meter_412.dropna(inplace=True)"
   ]
  },
  {
   "cell_type": "code",
   "execution_count": 131,
   "metadata": {},
   "outputs": [
    {
     "name": "stdout",
     "output_type": "stream",
     "text": [
      "Train set\n",
      "---------\n",
      "Features: (49050, 4) Target: (49050,)\n",
      "\n",
      "Validation set\n",
      "---------\n",
      "Features: (6119, 4) Target: (6119,)\n",
      "\n",
      "Test set\n",
      "--------\n",
      "Features: (6144, 4) Target: (6144,)\n"
     ]
    }
   ],
   "source": [
    "X_tr_412,X_val_412,X_te_412,y_tr_412,y_val_412,y_te_412 = \\\n",
    "train_val_test_split(meter_412, 0.2, ['date','normalized_demand-24h','normalized_temp','normalized_humid'])"
   ]
  },
  {
   "cell_type": "code",
   "execution_count": 132,
   "metadata": {},
   "outputs": [
    {
     "name": "stdout",
     "output_type": "stream",
     "text": [
      "Number of combinations for grid search: 12\n",
      "Combination 1/12\n",
      "Combination 2/12\n",
      "Combination 3/12\n",
      "Combination 4/12\n",
      "Combination 5/12\n",
      "Combination 6/12\n",
      "Combination 7/12\n",
      "Combination 8/12\n",
      "Combination 9/12\n",
      "Combination 10/12\n",
      "Combination 11/12\n",
      "Combination 12/12\n",
      "done\n"
     ]
    }
   ],
   "source": [
    "grid_search_412 = fine_tune_kNN([10,20,30],X_tr_412[:,1:],X_val_412[:,1:],y_tr_412,y_val_412) "
   ]
  },
  {
   "cell_type": "code",
   "execution_count": 133,
   "metadata": {},
   "outputs": [
    {
     "data": {
      "text/html": [
       "<div>\n",
       "<style scoped>\n",
       "    .dataframe tbody tr th:only-of-type {\n",
       "        vertical-align: middle;\n",
       "    }\n",
       "\n",
       "    .dataframe tbody tr th {\n",
       "        vertical-align: top;\n",
       "    }\n",
       "\n",
       "    .dataframe thead th {\n",
       "        text-align: right;\n",
       "    }\n",
       "</style>\n",
       "<table border=\"1\" class=\"dataframe\">\n",
       "  <thead>\n",
       "    <tr style=\"text-align: right;\">\n",
       "      <th></th>\n",
       "      <th>MAE</th>\n",
       "      <th>knn__n_neighbors</th>\n",
       "      <th>knn__p</th>\n",
       "      <th>knn__weights</th>\n",
       "    </tr>\n",
       "  </thead>\n",
       "  <tbody>\n",
       "    <tr>\n",
       "      <th>11</th>\n",
       "      <td>0.029414</td>\n",
       "      <td>30</td>\n",
       "      <td>2</td>\n",
       "      <td>distance</td>\n",
       "    </tr>\n",
       "    <tr>\n",
       "      <th>9</th>\n",
       "      <td>0.029448</td>\n",
       "      <td>30</td>\n",
       "      <td>1</td>\n",
       "      <td>distance</td>\n",
       "    </tr>\n",
       "    <tr>\n",
       "      <th>10</th>\n",
       "      <td>0.029463</td>\n",
       "      <td>30</td>\n",
       "      <td>2</td>\n",
       "      <td>uniform</td>\n",
       "    </tr>\n",
       "    <tr>\n",
       "      <th>8</th>\n",
       "      <td>0.029474</td>\n",
       "      <td>30</td>\n",
       "      <td>1</td>\n",
       "      <td>uniform</td>\n",
       "    </tr>\n",
       "    <tr>\n",
       "      <th>6</th>\n",
       "      <td>0.029571</td>\n",
       "      <td>20</td>\n",
       "      <td>2</td>\n",
       "      <td>uniform</td>\n",
       "    </tr>\n",
       "    <tr>\n",
       "      <th>7</th>\n",
       "      <td>0.029605</td>\n",
       "      <td>20</td>\n",
       "      <td>2</td>\n",
       "      <td>distance</td>\n",
       "    </tr>\n",
       "    <tr>\n",
       "      <th>4</th>\n",
       "      <td>0.029612</td>\n",
       "      <td>20</td>\n",
       "      <td>1</td>\n",
       "      <td>uniform</td>\n",
       "    </tr>\n",
       "    <tr>\n",
       "      <th>5</th>\n",
       "      <td>0.029636</td>\n",
       "      <td>20</td>\n",
       "      <td>1</td>\n",
       "      <td>distance</td>\n",
       "    </tr>\n",
       "    <tr>\n",
       "      <th>0</th>\n",
       "      <td>0.030108</td>\n",
       "      <td>10</td>\n",
       "      <td>1</td>\n",
       "      <td>uniform</td>\n",
       "    </tr>\n",
       "    <tr>\n",
       "      <th>2</th>\n",
       "      <td>0.030219</td>\n",
       "      <td>10</td>\n",
       "      <td>2</td>\n",
       "      <td>uniform</td>\n",
       "    </tr>\n",
       "    <tr>\n",
       "      <th>1</th>\n",
       "      <td>0.030253</td>\n",
       "      <td>10</td>\n",
       "      <td>1</td>\n",
       "      <td>distance</td>\n",
       "    </tr>\n",
       "    <tr>\n",
       "      <th>3</th>\n",
       "      <td>0.030324</td>\n",
       "      <td>10</td>\n",
       "      <td>2</td>\n",
       "      <td>distance</td>\n",
       "    </tr>\n",
       "  </tbody>\n",
       "</table>\n",
       "</div>"
      ],
      "text/plain": [
       "         MAE  knn__n_neighbors  knn__p knn__weights\n",
       "11  0.029414                30       2     distance\n",
       "9   0.029448                30       1     distance\n",
       "10  0.029463                30       2      uniform\n",
       "8   0.029474                30       1      uniform\n",
       "6   0.029571                20       2      uniform\n",
       "7   0.029605                20       2     distance\n",
       "4   0.029612                20       1      uniform\n",
       "5   0.029636                20       1     distance\n",
       "0   0.030108                10       1      uniform\n",
       "2   0.030219                10       2      uniform\n",
       "1   0.030253                10       1     distance\n",
       "3   0.030324                10       2     distance"
      ]
     },
     "execution_count": 133,
     "metadata": {},
     "output_type": "execute_result"
    }
   ],
   "source": [
    "grid_search_412.sort_values(by='MAE',ascending=True)"
   ]
  },
  {
   "cell_type": "code",
   "execution_count": 134,
   "metadata": {},
   "outputs": [
    {
     "name": "stdout",
     "output_type": "stream",
     "text": [
      "Combination 1/5\n",
      "Combination 2/5\n",
      "Combination 3/5\n",
      "Combination 4/5\n",
      "Combination 5/5\n",
      "done\n"
     ]
    }
   ],
   "source": [
    "k_search_412 = \\\n",
    "fine_tune_k(1,'distance',[28,30,32,35,40],X_tr_412[:,1:],X_val_412[:,1:],X_te_412[:,1:],y_tr_412,y_val_412,y_te_412)"
   ]
  },
  {
   "cell_type": "code",
   "execution_count": 135,
   "metadata": {},
   "outputs": [
    {
     "data": {
      "text/html": [
       "<div>\n",
       "<style scoped>\n",
       "    .dataframe tbody tr th:only-of-type {\n",
       "        vertical-align: middle;\n",
       "    }\n",
       "\n",
       "    .dataframe tbody tr th {\n",
       "        vertical-align: top;\n",
       "    }\n",
       "\n",
       "    .dataframe thead th {\n",
       "        text-align: right;\n",
       "    }\n",
       "</style>\n",
       "<table border=\"1\" class=\"dataframe\">\n",
       "  <thead>\n",
       "    <tr style=\"text-align: right;\">\n",
       "      <th></th>\n",
       "      <th>MAE_te</th>\n",
       "      <th>MAE_val</th>\n",
       "      <th>knn__n_neighbors</th>\n",
       "    </tr>\n",
       "  </thead>\n",
       "  <tbody>\n",
       "    <tr>\n",
       "      <th>1</th>\n",
       "      <td>0.020852</td>\n",
       "      <td>0.029448</td>\n",
       "      <td>30</td>\n",
       "    </tr>\n",
       "    <tr>\n",
       "      <th>2</th>\n",
       "      <td>0.020858</td>\n",
       "      <td>0.029424</td>\n",
       "      <td>32</td>\n",
       "    </tr>\n",
       "    <tr>\n",
       "      <th>3</th>\n",
       "      <td>0.020868</td>\n",
       "      <td>0.029392</td>\n",
       "      <td>35</td>\n",
       "    </tr>\n",
       "    <tr>\n",
       "      <th>0</th>\n",
       "      <td>0.020871</td>\n",
       "      <td>0.029474</td>\n",
       "      <td>28</td>\n",
       "    </tr>\n",
       "    <tr>\n",
       "      <th>4</th>\n",
       "      <td>0.020908</td>\n",
       "      <td>0.029360</td>\n",
       "      <td>40</td>\n",
       "    </tr>\n",
       "  </tbody>\n",
       "</table>\n",
       "</div>"
      ],
      "text/plain": [
       "     MAE_te   MAE_val  knn__n_neighbors\n",
       "1  0.020852  0.029448                30\n",
       "2  0.020858  0.029424                32\n",
       "3  0.020868  0.029392                35\n",
       "0  0.020871  0.029474                28\n",
       "4  0.020908  0.029360                40"
      ]
     },
     "execution_count": 135,
     "metadata": {},
     "output_type": "execute_result"
    }
   ],
   "source": [
    "k_search_412.sort_values(by='MAE_te',ascending=True)"
   ]
  },
  {
   "cell_type": "markdown",
   "metadata": {},
   "source": [
    "Using found parameters, compute the forecast for the meter 453:"
   ]
  },
  {
   "cell_type": "code",
   "execution_count": 136,
   "metadata": {},
   "outputs": [
    {
     "data": {
      "text/html": [
       "<div>\n",
       "<style scoped>\n",
       "    .dataframe tbody tr th:only-of-type {\n",
       "        vertical-align: middle;\n",
       "    }\n",
       "\n",
       "    .dataframe tbody tr th {\n",
       "        vertical-align: top;\n",
       "    }\n",
       "\n",
       "    .dataframe thead th {\n",
       "        text-align: right;\n",
       "    }\n",
       "</style>\n",
       "<table border=\"1\" class=\"dataframe\">\n",
       "  <thead>\n",
       "    <tr style=\"text-align: right;\">\n",
       "      <th></th>\n",
       "      <th>index</th>\n",
       "      <th>meter_id</th>\n",
       "      <th>date</th>\n",
       "      <th>demand</th>\n",
       "      <th>hours</th>\n",
       "      <th>normalized_demand</th>\n",
       "      <th>demand-24h</th>\n",
       "      <th>normalized_demand-24h</th>\n",
       "      <th>normalized_temp</th>\n",
       "      <th>normalized_humid</th>\n",
       "    </tr>\n",
       "  </thead>\n",
       "  <tbody>\n",
       "    <tr>\n",
       "      <th>0</th>\n",
       "      <td>8980008</td>\n",
       "      <td>453</td>\n",
       "      <td>2005-06-01 00:00:00</td>\n",
       "      <td>1898.5</td>\n",
       "      <td>0.0</td>\n",
       "      <td>0.392983</td>\n",
       "      <td>NaN</td>\n",
       "      <td>NaN</td>\n",
       "      <td>0.608131</td>\n",
       "      <td>0.737245</td>\n",
       "    </tr>\n",
       "    <tr>\n",
       "      <th>1</th>\n",
       "      <td>8980009</td>\n",
       "      <td>453</td>\n",
       "      <td>2005-06-01 01:00:00</td>\n",
       "      <td>0.0</td>\n",
       "      <td>1.0</td>\n",
       "      <td>0.000000</td>\n",
       "      <td>NaN</td>\n",
       "      <td>NaN</td>\n",
       "      <td>0.602941</td>\n",
       "      <td>0.736395</td>\n",
       "    </tr>\n",
       "    <tr>\n",
       "      <th>2</th>\n",
       "      <td>8980010</td>\n",
       "      <td>453</td>\n",
       "      <td>2005-06-01 02:00:00</td>\n",
       "      <td>0.0</td>\n",
       "      <td>2.0</td>\n",
       "      <td>0.000000</td>\n",
       "      <td>NaN</td>\n",
       "      <td>NaN</td>\n",
       "      <td>0.595156</td>\n",
       "      <td>0.760204</td>\n",
       "    </tr>\n",
       "    <tr>\n",
       "      <th>3</th>\n",
       "      <td>8980011</td>\n",
       "      <td>453</td>\n",
       "      <td>2005-06-01 03:00:00</td>\n",
       "      <td>0.0</td>\n",
       "      <td>3.0</td>\n",
       "      <td>0.000000</td>\n",
       "      <td>NaN</td>\n",
       "      <td>NaN</td>\n",
       "      <td>0.586505</td>\n",
       "      <td>0.781037</td>\n",
       "    </tr>\n",
       "    <tr>\n",
       "      <th>4</th>\n",
       "      <td>8980012</td>\n",
       "      <td>453</td>\n",
       "      <td>2005-06-01 04:00:00</td>\n",
       "      <td>0.0</td>\n",
       "      <td>4.0</td>\n",
       "      <td>0.000000</td>\n",
       "      <td>NaN</td>\n",
       "      <td>NaN</td>\n",
       "      <td>0.581315</td>\n",
       "      <td>0.802721</td>\n",
       "    </tr>\n",
       "  </tbody>\n",
       "</table>\n",
       "</div>"
      ],
      "text/plain": [
       "     index  meter_id                date  demand  hours  normalized_demand  \\\n",
       "0  8980008       453 2005-06-01 00:00:00  1898.5    0.0           0.392983   \n",
       "1  8980009       453 2005-06-01 01:00:00     0.0    1.0           0.000000   \n",
       "2  8980010       453 2005-06-01 02:00:00     0.0    2.0           0.000000   \n",
       "3  8980011       453 2005-06-01 03:00:00     0.0    3.0           0.000000   \n",
       "4  8980012       453 2005-06-01 04:00:00     0.0    4.0           0.000000   \n",
       "\n",
       "   demand-24h  normalized_demand-24h  normalized_temp  normalized_humid  \n",
       "0         NaN                    NaN         0.608131          0.737245  \n",
       "1         NaN                    NaN         0.602941          0.736395  \n",
       "2         NaN                    NaN         0.595156          0.760204  \n",
       "3         NaN                    NaN         0.586505          0.781037  \n",
       "4         NaN                    NaN         0.581315          0.802721  "
      ]
     },
     "execution_count": 136,
     "metadata": {},
     "output_type": "execute_result"
    }
   ],
   "source": [
    "meter_453 = df[df['meter_id']==453]\n",
    "temperature_453 = temperature[temperature.full_date.isin(meter_453.date)].reset_index()\n",
    "humidity_453 = humidity[humidity.full_date.isin(meter_453.date)].reset_index()\n",
    "meter_453 = meter_453[meter_453.date.isin(temperature_453.full_date)]\n",
    "meter_453 = meter_453[meter_453.date.isin(humidity_453.full_date)]\n",
    "meter_453 = meter_453.reset_index()\n",
    "meter_453['normalized_temp'] = temperature_453.normalized_temp\n",
    "meter_453['normalized_humid'] = humidity_453.normalized_humidity\n",
    "meter_453.head(5)"
   ]
  },
  {
   "cell_type": "code",
   "execution_count": 137,
   "metadata": {},
   "outputs": [],
   "source": [
    "meter_453.dropna(inplace=True)"
   ]
  },
  {
   "cell_type": "code",
   "execution_count": 138,
   "metadata": {},
   "outputs": [
    {
     "name": "stdout",
     "output_type": "stream",
     "text": [
      "Train set\n",
      "---------\n",
      "Features: (46147, 4) Target: (46147,)\n",
      "\n",
      "Test set\n",
      "--------\n",
      "Features: (11543, 4) Target: (11543,)\n"
     ]
    }
   ],
   "source": [
    "X_tr_453,X_te_453,y_tr_453,y_te_453 = \\\n",
    "train_test_split(meter_453, 0.2, ['date','normalized_demand-24h','normalized_temp','normalized_humid'])"
   ]
  },
  {
   "cell_type": "code",
   "execution_count": 140,
   "metadata": {},
   "outputs": [
    {
     "name": "stdout",
     "output_type": "stream",
     "text": [
      "Train set MAE\n",
      "---------\n",
      "MAE computed on the train set:  0.0\n",
      "Test set MAE\n",
      "--------\n",
      "MAE computed on the test set:  0.04\n"
     ]
    }
   ],
   "source": [
    "knn = KNeighborsRegressor(n_neighbors=30, p=1, weights='distance') \n",
    "knn.fit(X_tr_453[:,1:],y_tr_453)\n",
    "\n",
    "# Compute predictions on train/test sets\n",
    "y_pred_tr = knn.predict(X_tr_453[:,1:])\n",
    "y_pred_te = knn.predict(X_te_453[:,1:])\n",
    "\n",
    "# Compute a MAE\n",
    "mae_tr = MAE(y_tr_453, y_pred_tr)\n",
    "mae_te = MAE(y_te_453, y_pred_te)\n",
    "\n",
    "print('Train set MAE')\n",
    "print('---------')\n",
    "print('MAE computed on the train set: ', np.round(mae_tr,2))\n",
    "\n",
    "print('Test set MAE')\n",
    "print('--------')    \n",
    "print('MAE computed on the test set: ', np.round(mae_te, 2))"
   ]
  },
  {
   "cell_type": "code",
   "execution_count": 141,
   "metadata": {},
   "outputs": [
    {
     "data": {
      "image/png": "[encoded data removed]",
      "text/plain": [
       "<Figure size 648x432 with 1 Axes>"
      ]
     },
     "metadata": {
      "needs_background": "light"
     },
     "output_type": "display_data"
    }
   ],
   "source": [
    "plot_predictions(X_tr_453,X_te_453,y_tr_453,y_te_453,y_pred_tr,y_pred_te)"
   ]
  },
  {
   "cell_type": "code",
   "execution_count": 142,
   "metadata": {},
   "outputs": [],
   "source": [
    "pred_453 = save_result(453,X_tr_453,X_te_453,y_pred_tr,y_pred_te)"
   ]
  },
  {
   "cell_type": "code",
   "execution_count": 145,
   "metadata": {},
   "outputs": [],
   "source": [
    "pred_453.to_pickle('kNN_meter453')"
   ]
  }
 ],
 "metadata": {
  "kernelspec": {
   "display_name": "Python 3",
   "language": "python",
   "name": "python3"
  },
  "language_info": {
   "codemirror_mode": {
    "name": "ipython",
    "version": 3
   },
   "file_extension": ".py",
   "mimetype": "text/x-python",
   "name": "python",
   "nbconvert_exporter": "python",
   "pygments_lexer": "ipython3",
   "version": "3.6.10"
  }
 },
 "nbformat": 4,
 "nbformat_minor": 4
}
