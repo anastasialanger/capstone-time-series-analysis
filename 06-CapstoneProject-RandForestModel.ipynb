{
 "cells": [
  {
   "cell_type": "markdown",
   "metadata": {},
   "source": [
    "## 6. Random Forest model"
   ]
  },
  {
   "cell_type": "markdown",
   "metadata": {},
   "source": [
    "<li> Train and tune the number of trees in the Random Forest model for a one time-series from each cluster. </li> <li> Using found parameters, compute the forecast for a different time-series from the same cluster. </li>"
   ]
  },
  {
   "cell_type": "code",
   "execution_count": 1,
   "metadata": {},
   "outputs": [],
   "source": [
    "import pandas as pd\n",
    "import numpy as np\n",
    "import os\n",
    "import pickle\n",
    "import matplotlib.pyplot as plt\n",
    "%matplotlib inline\n",
    "from sklearn.ensemble import RandomForestRegressor\n",
    "from sklearn.pipeline import Pipeline\n",
    "from sklearn.model_selection import ParameterGrid"
   ]
  },
  {
   "cell_type": "code",
   "execution_count": 2,
   "metadata": {},
   "outputs": [
    {
     "data": {
      "text/html": [
       "<div>\n",
       "<style scoped>\n",
       "    .dataframe tbody tr th:only-of-type {\n",
       "        vertical-align: middle;\n",
       "    }\n",
       "\n",
       "    .dataframe tbody tr th {\n",
       "        vertical-align: top;\n",
       "    }\n",
       "\n",
       "    .dataframe thead th {\n",
       "        text-align: right;\n",
       "    }\n",
       "</style>\n",
       "<table border=\"1\" class=\"dataframe\">\n",
       "  <thead>\n",
       "    <tr style=\"text-align: right;\">\n",
       "      <th></th>\n",
       "      <th>meter_id</th>\n",
       "      <th>date</th>\n",
       "      <th>demand</th>\n",
       "      <th>hours</th>\n",
       "      <th>normalized_demand</th>\n",
       "      <th>demand-24h</th>\n",
       "      <th>normalized_demand-24h</th>\n",
       "    </tr>\n",
       "  </thead>\n",
       "  <tbody>\n",
       "    <tr>\n",
       "      <th>0</th>\n",
       "      <td>1</td>\n",
       "      <td>2005-01-01 00:00:00</td>\n",
       "      <td>3304.0</td>\n",
       "      <td>0.0</td>\n",
       "      <td>0.330996</td>\n",
       "      <td>NaN</td>\n",
       "      <td>NaN</td>\n",
       "    </tr>\n",
       "    <tr>\n",
       "      <th>1</th>\n",
       "      <td>1</td>\n",
       "      <td>2005-01-01 01:00:00</td>\n",
       "      <td>3178.0</td>\n",
       "      <td>1.0</td>\n",
       "      <td>0.318373</td>\n",
       "      <td>NaN</td>\n",
       "      <td>NaN</td>\n",
       "    </tr>\n",
       "    <tr>\n",
       "      <th>2</th>\n",
       "      <td>1</td>\n",
       "      <td>2005-01-01 02:00:00</td>\n",
       "      <td>2981.0</td>\n",
       "      <td>2.0</td>\n",
       "      <td>0.298638</td>\n",
       "      <td>NaN</td>\n",
       "      <td>NaN</td>\n",
       "    </tr>\n",
       "    <tr>\n",
       "      <th>3</th>\n",
       "      <td>1</td>\n",
       "      <td>2005-01-01 03:00:00</td>\n",
       "      <td>2944.0</td>\n",
       "      <td>3.0</td>\n",
       "      <td>0.294931</td>\n",
       "      <td>NaN</td>\n",
       "      <td>NaN</td>\n",
       "    </tr>\n",
       "    <tr>\n",
       "      <th>4</th>\n",
       "      <td>1</td>\n",
       "      <td>2005-01-01 04:00:00</td>\n",
       "      <td>2934.0</td>\n",
       "      <td>4.0</td>\n",
       "      <td>0.293929</td>\n",
       "      <td>NaN</td>\n",
       "      <td>NaN</td>\n",
       "    </tr>\n",
       "  </tbody>\n",
       "</table>\n",
       "</div>"
      ],
      "text/plain": [
       "   meter_id                date  demand  hours  normalized_demand  demand-24h  \\\n",
       "0         1 2005-01-01 00:00:00  3304.0    0.0           0.330996         NaN   \n",
       "1         1 2005-01-01 01:00:00  3178.0    1.0           0.318373         NaN   \n",
       "2         1 2005-01-01 02:00:00  2981.0    2.0           0.298638         NaN   \n",
       "3         1 2005-01-01 03:00:00  2944.0    3.0           0.294931         NaN   \n",
       "4         1 2005-01-01 04:00:00  2934.0    4.0           0.293929         NaN   \n",
       "\n",
       "   normalized_demand-24h  \n",
       "0                    NaN  \n",
       "1                    NaN  \n",
       "2                    NaN  \n",
       "3                    NaN  \n",
       "4                    NaN  "
      ]
     },
     "execution_count": 2,
     "metadata": {},
     "output_type": "execute_result"
    }
   ],
   "source": [
    "df = pd.read_pickle('demand_data_for_modelling')\n",
    "df.head(5)"
   ]
  },
  {
   "cell_type": "code",
   "execution_count": 3,
   "metadata": {},
   "outputs": [
    {
     "data": {
      "text/html": [
       "<div>\n",
       "<style scoped>\n",
       "    .dataframe tbody tr th:only-of-type {\n",
       "        vertical-align: middle;\n",
       "    }\n",
       "\n",
       "    .dataframe tbody tr th {\n",
       "        vertical-align: top;\n",
       "    }\n",
       "\n",
       "    .dataframe thead th {\n",
       "        text-align: right;\n",
       "    }\n",
       "</style>\n",
       "<table border=\"1\" class=\"dataframe\">\n",
       "  <thead>\n",
       "    <tr style=\"text-align: right;\">\n",
       "      <th></th>\n",
       "      <th>full_date</th>\n",
       "      <th>hourly_mean</th>\n",
       "      <th>normalized_temp</th>\n",
       "    </tr>\n",
       "  </thead>\n",
       "  <tbody>\n",
       "    <tr>\n",
       "      <th>0</th>\n",
       "      <td>2005-01-01 00:00:00</td>\n",
       "      <td>44.535714</td>\n",
       "      <td>0.390571</td>\n",
       "    </tr>\n",
       "    <tr>\n",
       "      <th>1</th>\n",
       "      <td>2005-01-01 01:00:00</td>\n",
       "      <td>44.428571</td>\n",
       "      <td>0.389273</td>\n",
       "    </tr>\n",
       "    <tr>\n",
       "      <th>2</th>\n",
       "      <td>2005-01-01 02:00:00</td>\n",
       "      <td>43.535714</td>\n",
       "      <td>0.378460</td>\n",
       "    </tr>\n",
       "    <tr>\n",
       "      <th>3</th>\n",
       "      <td>2005-01-01 03:00:00</td>\n",
       "      <td>43.750000</td>\n",
       "      <td>0.381055</td>\n",
       "    </tr>\n",
       "    <tr>\n",
       "      <th>4</th>\n",
       "      <td>2005-01-01 04:00:00</td>\n",
       "      <td>43.321429</td>\n",
       "      <td>0.375865</td>\n",
       "    </tr>\n",
       "  </tbody>\n",
       "</table>\n",
       "</div>"
      ],
      "text/plain": [
       "            full_date  hourly_mean  normalized_temp\n",
       "0 2005-01-01 00:00:00    44.535714         0.390571\n",
       "1 2005-01-01 01:00:00    44.428571         0.389273\n",
       "2 2005-01-01 02:00:00    43.535714         0.378460\n",
       "3 2005-01-01 03:00:00    43.750000         0.381055\n",
       "4 2005-01-01 04:00:00    43.321429         0.375865"
      ]
     },
     "execution_count": 3,
     "metadata": {},
     "output_type": "execute_result"
    }
   ],
   "source": [
    "temperature = pd.read_pickle('temperature_for_modelling')\n",
    "temperature.head(5)"
   ]
  },
  {
   "cell_type": "code",
   "execution_count": 4,
   "metadata": {},
   "outputs": [
    {
     "data": {
      "text/html": [
       "<div>\n",
       "<style scoped>\n",
       "    .dataframe tbody tr th:only-of-type {\n",
       "        vertical-align: middle;\n",
       "    }\n",
       "\n",
       "    .dataframe tbody tr th {\n",
       "        vertical-align: top;\n",
       "    }\n",
       "\n",
       "    .dataframe thead th {\n",
       "        text-align: right;\n",
       "    }\n",
       "</style>\n",
       "<table border=\"1\" class=\"dataframe\">\n",
       "  <thead>\n",
       "    <tr style=\"text-align: right;\">\n",
       "      <th></th>\n",
       "      <th>full_date</th>\n",
       "      <th>hourly_mean</th>\n",
       "      <th>normalized_humidity</th>\n",
       "    </tr>\n",
       "  </thead>\n",
       "  <tbody>\n",
       "    <tr>\n",
       "      <th>0</th>\n",
       "      <td>2005-01-01 00:00:00</td>\n",
       "      <td>87.535714</td>\n",
       "      <td>0.879677</td>\n",
       "    </tr>\n",
       "    <tr>\n",
       "      <th>1</th>\n",
       "      <td>2005-01-01 01:00:00</td>\n",
       "      <td>86.678571</td>\n",
       "      <td>0.869473</td>\n",
       "    </tr>\n",
       "    <tr>\n",
       "      <th>2</th>\n",
       "      <td>2005-01-01 02:00:00</td>\n",
       "      <td>86.964286</td>\n",
       "      <td>0.872874</td>\n",
       "    </tr>\n",
       "    <tr>\n",
       "      <th>3</th>\n",
       "      <td>2005-01-01 03:00:00</td>\n",
       "      <td>87.214286</td>\n",
       "      <td>0.875850</td>\n",
       "    </tr>\n",
       "    <tr>\n",
       "      <th>4</th>\n",
       "      <td>2005-01-01 04:00:00</td>\n",
       "      <td>87.357143</td>\n",
       "      <td>0.877551</td>\n",
       "    </tr>\n",
       "  </tbody>\n",
       "</table>\n",
       "</div>"
      ],
      "text/plain": [
       "            full_date  hourly_mean  normalized_humidity\n",
       "0 2005-01-01 00:00:00    87.535714             0.879677\n",
       "1 2005-01-01 01:00:00    86.678571             0.869473\n",
       "2 2005-01-01 02:00:00    86.964286             0.872874\n",
       "3 2005-01-01 03:00:00    87.214286             0.875850\n",
       "4 2005-01-01 04:00:00    87.357143             0.877551"
      ]
     },
     "execution_count": 4,
     "metadata": {},
     "output_type": "execute_result"
    }
   ],
   "source": [
    "humidity = pd.read_pickle('humidity_for_modelling')\n",
    "humidity.head(5)"
   ]
  },
  {
   "cell_type": "markdown",
   "metadata": {},
   "source": [
    "Functions for modelling\n",
    "--"
   ]
  },
  {
   "cell_type": "markdown",
   "metadata": {},
   "source": [
    "Split the data into train, validation, and test sets:"
   ]
  },
  {
   "cell_type": "code",
   "execution_count": 5,
   "metadata": {},
   "outputs": [],
   "source": [
    "def train_val_test_split(df, test_fraction, cols):\n",
    "    train_fraction = 1-test_fraction\n",
    "    val_fraction = train_fraction + test_fraction/2\n",
    "    dates = df.groupby(df.date.dt.date).count().date \n",
    "    split_train = (int)(len(dates)*train_fraction)\n",
    "    split_val = (int)(len(dates)*val_fraction)\n",
    "    end_train_date = pd.to_datetime(dates.index[split_train])\n",
    "    end_val_date = pd.to_datetime(dates.index[split_val])\n",
    "    \n",
    "    X_tr = df[df.date < end_train_date][cols].values\n",
    "    y_tr = df[df.date < end_train_date]['normalized_demand'].values\n",
    "                        \n",
    "    X_val = df[(df.date >= end_train_date) & (df.date < end_val_date)][cols].values\n",
    "    y_val = df[(df.date >= end_train_date) & (df.date < end_val_date)]['normalized_demand'].values\n",
    "    \n",
    "    X_te = df[df.date >= end_val_date][cols].values\n",
    "    y_te = df[df.date >= end_val_date]['normalized_demand'].values\n",
    "    \n",
    "    print('Train set')\n",
    "    print('---------')\n",
    "    print('Features: {} Target: {}\\n'.format(X_tr.shape,y_tr.shape))\n",
    "    \n",
    "    print('Validation set')\n",
    "    print('---------')\n",
    "    print('Features: {} Target: {}\\n'.format(X_val.shape,y_val.shape))\n",
    "\n",
    "    print('Test set')\n",
    "    print('--------')    \n",
    "    print('Features: {} Target: {}'.format(X_te.shape,y_te.shape))\n",
    "    \n",
    "    return (X_tr,X_val,X_te,y_tr,y_val,y_te)"
   ]
  },
  {
   "cell_type": "markdown",
   "metadata": {},
   "source": [
    "Split the data into train and test sets:"
   ]
  },
  {
   "cell_type": "code",
   "execution_count": 6,
   "metadata": {},
   "outputs": [],
   "source": [
    "def train_test_split(df, test_fraction, cols):\n",
    "    train_fraction = 1-test_fraction\n",
    "    dates = df.groupby(df.date.dt.date).count().date\n",
    "    split = (int)(len(dates)*train_fraction)\n",
    "    split_date = pd.to_datetime(dates.index[split])\n",
    "    \n",
    "    X_tr = df[df.date < split_date][cols].values\n",
    "    y_tr = df[df.date < split_date]['normalized_demand'].values\n",
    "    \n",
    "    X_te = df[df.date >= split_date][cols].values\n",
    "    y_te = df[df.date >= split_date]['normalized_demand'].values\n",
    "    \n",
    "    print('Train set')\n",
    "    print('---------')\n",
    "    print('Features: {} Target: {}\\n'.format(X_tr.shape,y_tr.shape))\n",
    "\n",
    "    print('Test set')\n",
    "    print('--------')    \n",
    "    print('Features: {} Target: {}'.format(X_te.shape,y_te.shape))\n",
    "    \n",
    "    return (X_tr,X_te,y_tr,y_te)"
   ]
  },
  {
   "cell_type": "markdown",
   "metadata": {},
   "source": [
    "Fine tune the number of trees in the Random Forest model:"
   ]
  },
  {
   "cell_type": "code",
   "execution_count": 16,
   "metadata": {},
   "outputs": [],
   "source": [
    "def fine_tune_n(n_range,X_tr,X_val,X_te,y_tr,y_val,y_te):\n",
    "    \n",
    "    # Function to perform a grid search for number of trees \n",
    "    pipe = Pipeline([\n",
    "        ('RandForest', RandomForestRegressor( \n",
    "            max_depth=None, \n",
    "            random_state=0, \n",
    "            n_jobs=-1 \n",
    "        ))\n",
    "    ])\n",
    "    \n",
    "    # Grid search for the optimal n_estimators\n",
    "    grid = ParameterGrid({\n",
    "        'RandForest__n_estimators': n_range\n",
    "    })\n",
    "    \n",
    "    mae = []\n",
    "    \n",
    "    for i, params_dict in enumerate(grid, 1):\n",
    "        \n",
    "        # Print progress\n",
    "        print('Combination {}/{}'.format(\n",
    "            i, len(grid) # Total number of combinations\n",
    "        ))\n",
    "        \n",
    "        # Set parameters\n",
    "        pipe.set_params(**params_dict)\n",
    "        \n",
    "        # Fit a RandomForest regressor\n",
    "        pipe.fit(X_tr, y_tr)\n",
    "        \n",
    "        # Save MAE for the validation set\n",
    "        y_pred_val = pipe.predict(X_val)\n",
    "        params_dict['MAE_val'] = MAE(y_val, y_pred_val)\n",
    "        \n",
    "        # Save MAE for the test set\n",
    "        y_pred_te = pipe.predict(X_te)\n",
    "        params_dict['MAE_te'] = MAE(y_te, y_pred_te)\n",
    "        \n",
    "        # Save result\n",
    "        mae.append(params_dict)\n",
    "        \n",
    "    print('done')\n",
    "    \n",
    "    # Create DataFrame with validation MAE\n",
    "    mae_df = pd.DataFrame(mae)\n",
    "    \n",
    "    return mae_df"
   ]
  },
  {
   "cell_type": "markdown",
   "metadata": {},
   "source": [
    "Compute MAE:"
   ]
  },
  {
   "cell_type": "code",
   "execution_count": 7,
   "metadata": {},
   "outputs": [],
   "source": [
    "def MAE(y,y_pred):    \n",
    "    return(np.mean(np.abs(y-y_pred)))"
   ]
  },
  {
   "cell_type": "markdown",
   "metadata": {},
   "source": [
    "Plot the results:"
   ]
  },
  {
   "cell_type": "code",
   "execution_count": 8,
   "metadata": {},
   "outputs": [],
   "source": [
    "def plot_predictions(X_tr,X_te,y_tr,y_te,y_pred_tr,y_pred_te):\n",
    "    \n",
    "    font = {'fontname':'Arial', 'size':'14'}\n",
    "    font_title = {'fontname':'Arial', 'size':'16'}\n",
    "\n",
    "    plt.figure(figsize=(9,6))\n",
    "\n",
    "    # True values\n",
    "    plt.plot(X_tr[:,0],y_tr,label='train set',color='black')\n",
    "    plt.plot(X_te[:,0],y_te,label='test set',color='grey')    \n",
    "\n",
    "    # Predictions\n",
    "    plt.plot(X_tr[:,0],y_pred_tr,label='predictions train',color='blue')\n",
    "    plt.plot(X_te[:,0],y_pred_te,label='predictions test',color='red')    \n",
    "\n",
    "    plt.xlabel('Date',**font)\n",
    "    plt.ylabel('Electricity demand',**font)\n",
    "\n",
    "    plt.legend()\n",
    "    plt.show()"
   ]
  },
  {
   "cell_type": "markdown",
   "metadata": {},
   "source": [
    "Save the results:"
   ]
  },
  {
   "cell_type": "code",
   "execution_count": 60,
   "metadata": {},
   "outputs": [],
   "source": [
    "def save_result(meter_id,X_tr,X_te,y_pred_tr,y_pred_te):\n",
    "    df1 = pd.DataFrame({\"meter_id\": [meter_id]*X_tr.shape[0], \"date\": X_tr[:,0], \\\n",
    "                        \"type\": ['training']*X_tr.shape[0], \"pred_value\": y_pred_tr})\n",
    "    df2 = pd.DataFrame({\"meter_id\": [meter_id]*X_te.shape[0], \"date\": X_te[:,0], \\\n",
    "                        \"type\": ['test']*X_te.shape[0], \"pred_value\": y_pred_te})\n",
    "    result = pd.concat([df1,df2], ignore_index=True)\n",
    "    return result"
   ]
  },
  {
   "cell_type": "markdown",
   "metadata": {},
   "source": [
    "Models for time-series from clusters\n",
    "--"
   ]
  },
  {
   "cell_type": "markdown",
   "metadata": {},
   "source": [
    "__Cluster 1__"
   ]
  },
  {
   "cell_type": "markdown",
   "metadata": {},
   "source": [
    "Tune a Random Forest model for a one time-series, meter 422, from the cluster 1."
   ]
  },
  {
   "cell_type": "code",
   "execution_count": 10,
   "metadata": {},
   "outputs": [
    {
     "data": {
      "text/html": [
       "<div>\n",
       "<style scoped>\n",
       "    .dataframe tbody tr th:only-of-type {\n",
       "        vertical-align: middle;\n",
       "    }\n",
       "\n",
       "    .dataframe tbody tr th {\n",
       "        vertical-align: top;\n",
       "    }\n",
       "\n",
       "    .dataframe thead th {\n",
       "        text-align: right;\n",
       "    }\n",
       "</style>\n",
       "<table border=\"1\" class=\"dataframe\">\n",
       "  <thead>\n",
       "    <tr style=\"text-align: right;\">\n",
       "      <th></th>\n",
       "      <th>index</th>\n",
       "      <th>meter_id</th>\n",
       "      <th>date</th>\n",
       "      <th>demand</th>\n",
       "      <th>hours</th>\n",
       "      <th>normalized_demand</th>\n",
       "      <th>demand-24h</th>\n",
       "      <th>normalized_demand-24h</th>\n",
       "      <th>normalized_temp</th>\n",
       "      <th>normalized_humid</th>\n",
       "    </tr>\n",
       "  </thead>\n",
       "  <tbody>\n",
       "    <tr>\n",
       "      <th>0</th>\n",
       "      <td>8347632</td>\n",
       "      <td>422</td>\n",
       "      <td>2005-01-01 00:00:00</td>\n",
       "      <td>12258.0</td>\n",
       "      <td>0.0</td>\n",
       "      <td>0.440665</td>\n",
       "      <td>NaN</td>\n",
       "      <td>NaN</td>\n",
       "      <td>0.390571</td>\n",
       "      <td>0.879677</td>\n",
       "    </tr>\n",
       "    <tr>\n",
       "      <th>1</th>\n",
       "      <td>8347633</td>\n",
       "      <td>422</td>\n",
       "      <td>2005-01-01 01:00:00</td>\n",
       "      <td>8016.0</td>\n",
       "      <td>1.0</td>\n",
       "      <td>0.240268</td>\n",
       "      <td>NaN</td>\n",
       "      <td>NaN</td>\n",
       "      <td>0.389273</td>\n",
       "      <td>0.869473</td>\n",
       "    </tr>\n",
       "    <tr>\n",
       "      <th>2</th>\n",
       "      <td>8347634</td>\n",
       "      <td>422</td>\n",
       "      <td>2005-01-01 02:00:00</td>\n",
       "      <td>7813.0</td>\n",
       "      <td>2.0</td>\n",
       "      <td>0.230678</td>\n",
       "      <td>NaN</td>\n",
       "      <td>NaN</td>\n",
       "      <td>0.378460</td>\n",
       "      <td>0.872874</td>\n",
       "    </tr>\n",
       "    <tr>\n",
       "      <th>3</th>\n",
       "      <td>8347635</td>\n",
       "      <td>422</td>\n",
       "      <td>2005-01-01 03:00:00</td>\n",
       "      <td>7527.0</td>\n",
       "      <td>3.0</td>\n",
       "      <td>0.217167</td>\n",
       "      <td>NaN</td>\n",
       "      <td>NaN</td>\n",
       "      <td>0.381055</td>\n",
       "      <td>0.875850</td>\n",
       "    </tr>\n",
       "    <tr>\n",
       "      <th>4</th>\n",
       "      <td>8347636</td>\n",
       "      <td>422</td>\n",
       "      <td>2005-01-01 04:00:00</td>\n",
       "      <td>7529.0</td>\n",
       "      <td>4.0</td>\n",
       "      <td>0.217262</td>\n",
       "      <td>NaN</td>\n",
       "      <td>NaN</td>\n",
       "      <td>0.375865</td>\n",
       "      <td>0.877551</td>\n",
       "    </tr>\n",
       "  </tbody>\n",
       "</table>\n",
       "</div>"
      ],
      "text/plain": [
       "     index  meter_id                date   demand  hours  normalized_demand  \\\n",
       "0  8347632       422 2005-01-01 00:00:00  12258.0    0.0           0.440665   \n",
       "1  8347633       422 2005-01-01 01:00:00   8016.0    1.0           0.240268   \n",
       "2  8347634       422 2005-01-01 02:00:00   7813.0    2.0           0.230678   \n",
       "3  8347635       422 2005-01-01 03:00:00   7527.0    3.0           0.217167   \n",
       "4  8347636       422 2005-01-01 04:00:00   7529.0    4.0           0.217262   \n",
       "\n",
       "   demand-24h  normalized_demand-24h  normalized_temp  normalized_humid  \n",
       "0         NaN                    NaN         0.390571          0.879677  \n",
       "1         NaN                    NaN         0.389273          0.869473  \n",
       "2         NaN                    NaN         0.378460          0.872874  \n",
       "3         NaN                    NaN         0.381055          0.875850  \n",
       "4         NaN                    NaN         0.375865          0.877551  "
      ]
     },
     "execution_count": 10,
     "metadata": {},
     "output_type": "execute_result"
    }
   ],
   "source": [
    "meter_422 = df[df['meter_id']==422]\n",
    "temperature_422 = temperature[temperature.full_date.isin(meter_422.date)]\n",
    "humidity_422 = humidity[humidity.full_date.isin(meter_422.date)]\n",
    "meter_422 = meter_422[meter_422.date.isin(temperature_422.full_date)]\n",
    "meter_422 = meter_422[meter_422.date.isin(humidity_422.full_date)]\n",
    "meter_422 = meter_422.reset_index()\n",
    "meter_422['normalized_temp'] = temperature_422.normalized_temp\n",
    "meter_422['normalized_humid'] = humidity_422.normalized_humidity\n",
    "meter_422.head(5)"
   ]
  },
  {
   "cell_type": "code",
   "execution_count": 11,
   "metadata": {},
   "outputs": [],
   "source": [
    "meter_422.dropna(inplace=True)"
   ]
  },
  {
   "cell_type": "code",
   "execution_count": 12,
   "metadata": {},
   "outputs": [
    {
     "name": "stdout",
     "output_type": "stream",
     "text": [
      "Train set\n",
      "---------\n",
      "Features: (49050, 4) Target: (49050,)\n",
      "\n",
      "Validation set\n",
      "---------\n",
      "Features: (6119, 4) Target: (6119,)\n",
      "\n",
      "Test set\n",
      "--------\n",
      "Features: (6144, 4) Target: (6144,)\n"
     ]
    }
   ],
   "source": [
    "X_tr_422,X_val_422,X_te_422,y_tr_422,y_val_422,y_te_422 = \\\n",
    "train_val_test_split(meter_422, 0.2, ['date','normalized_demand-24h','normalized_temp','normalized_humid'])"
   ]
  },
  {
   "cell_type": "markdown",
   "metadata": {},
   "source": [
    "Tune the number of trees:"
   ]
  },
  {
   "cell_type": "code",
   "execution_count": 22,
   "metadata": {},
   "outputs": [
    {
     "name": "stdout",
     "output_type": "stream",
     "text": [
      "Combination 1/7\n",
      "Combination 2/7\n",
      "Combination 3/7\n",
      "Combination 4/7\n",
      "Combination 5/7\n",
      "Combination 6/7\n",
      "Combination 7/7\n",
      "done\n"
     ]
    }
   ],
   "source": [
    "n_search_422 = \\\n",
    "fine_tune_n([5,10,20,30,35,40,50],X_tr_422[:,1:],X_val_422[:,1:],X_te_422[:,1:],y_tr_422,y_val_422,y_te_422)"
   ]
  },
  {
   "cell_type": "code",
   "execution_count": 23,
   "metadata": {},
   "outputs": [
    {
     "data": {
      "text/html": [
       "<div>\n",
       "<style scoped>\n",
       "    .dataframe tbody tr th:only-of-type {\n",
       "        vertical-align: middle;\n",
       "    }\n",
       "\n",
       "    .dataframe tbody tr th {\n",
       "        vertical-align: top;\n",
       "    }\n",
       "\n",
       "    .dataframe thead th {\n",
       "        text-align: right;\n",
       "    }\n",
       "</style>\n",
       "<table border=\"1\" class=\"dataframe\">\n",
       "  <thead>\n",
       "    <tr style=\"text-align: right;\">\n",
       "      <th></th>\n",
       "      <th>MAE_te</th>\n",
       "      <th>MAE_val</th>\n",
       "      <th>RandForest__n_estimators</th>\n",
       "    </tr>\n",
       "  </thead>\n",
       "  <tbody>\n",
       "    <tr>\n",
       "      <th>6</th>\n",
       "      <td>0.048100</td>\n",
       "      <td>0.052953</td>\n",
       "      <td>50</td>\n",
       "    </tr>\n",
       "    <tr>\n",
       "      <th>5</th>\n",
       "      <td>0.048175</td>\n",
       "      <td>0.053075</td>\n",
       "      <td>40</td>\n",
       "    </tr>\n",
       "    <tr>\n",
       "      <th>4</th>\n",
       "      <td>0.048266</td>\n",
       "      <td>0.053049</td>\n",
       "      <td>35</td>\n",
       "    </tr>\n",
       "    <tr>\n",
       "      <th>3</th>\n",
       "      <td>0.048351</td>\n",
       "      <td>0.053110</td>\n",
       "      <td>30</td>\n",
       "    </tr>\n",
       "    <tr>\n",
       "      <th>2</th>\n",
       "      <td>0.048506</td>\n",
       "      <td>0.053439</td>\n",
       "      <td>20</td>\n",
       "    </tr>\n",
       "    <tr>\n",
       "      <th>1</th>\n",
       "      <td>0.049261</td>\n",
       "      <td>0.054090</td>\n",
       "      <td>10</td>\n",
       "    </tr>\n",
       "    <tr>\n",
       "      <th>0</th>\n",
       "      <td>0.050867</td>\n",
       "      <td>0.056120</td>\n",
       "      <td>5</td>\n",
       "    </tr>\n",
       "  </tbody>\n",
       "</table>\n",
       "</div>"
      ],
      "text/plain": [
       "     MAE_te   MAE_val  RandForest__n_estimators\n",
       "6  0.048100  0.052953                        50\n",
       "5  0.048175  0.053075                        40\n",
       "4  0.048266  0.053049                        35\n",
       "3  0.048351  0.053110                        30\n",
       "2  0.048506  0.053439                        20\n",
       "1  0.049261  0.054090                        10\n",
       "0  0.050867  0.056120                         5"
      ]
     },
     "execution_count": 23,
     "metadata": {},
     "output_type": "execute_result"
    }
   ],
   "source": [
    "n_search_422.sort_values(by='MAE_te', ascending=True)"
   ]
  },
  {
   "cell_type": "markdown",
   "metadata": {},
   "source": [
    "Train regressor using the found parameters set and compute the forecast for a test time-series, meter 481, from the same cluster:"
   ]
  },
  {
   "cell_type": "code",
   "execution_count": 24,
   "metadata": {},
   "outputs": [
    {
     "data": {
      "text/html": [
       "<div>\n",
       "<style scoped>\n",
       "    .dataframe tbody tr th:only-of-type {\n",
       "        vertical-align: middle;\n",
       "    }\n",
       "\n",
       "    .dataframe tbody tr th {\n",
       "        vertical-align: top;\n",
       "    }\n",
       "\n",
       "    .dataframe thead th {\n",
       "        text-align: right;\n",
       "    }\n",
       "</style>\n",
       "<table border=\"1\" class=\"dataframe\">\n",
       "  <thead>\n",
       "    <tr style=\"text-align: right;\">\n",
       "      <th></th>\n",
       "      <th>index</th>\n",
       "      <th>meter_id</th>\n",
       "      <th>date</th>\n",
       "      <th>demand</th>\n",
       "      <th>hours</th>\n",
       "      <th>normalized_demand</th>\n",
       "      <th>demand-24h</th>\n",
       "      <th>normalized_demand-24h</th>\n",
       "      <th>normalized_temp</th>\n",
       "      <th>normalized_humid</th>\n",
       "    </tr>\n",
       "  </thead>\n",
       "  <tbody>\n",
       "    <tr>\n",
       "      <th>0</th>\n",
       "      <td>9432360</td>\n",
       "      <td>481</td>\n",
       "      <td>2009-04-16 00:00:00</td>\n",
       "      <td>0.0</td>\n",
       "      <td>0.0</td>\n",
       "      <td>0.000000</td>\n",
       "      <td>NaN</td>\n",
       "      <td>NaN</td>\n",
       "      <td>0.424740</td>\n",
       "      <td>0.740221</td>\n",
       "    </tr>\n",
       "    <tr>\n",
       "      <th>1</th>\n",
       "      <td>9432361</td>\n",
       "      <td>481</td>\n",
       "      <td>2009-04-16 01:00:00</td>\n",
       "      <td>0.0</td>\n",
       "      <td>1.0</td>\n",
       "      <td>0.000000</td>\n",
       "      <td>NaN</td>\n",
       "      <td>NaN</td>\n",
       "      <td>0.410900</td>\n",
       "      <td>0.750850</td>\n",
       "    </tr>\n",
       "    <tr>\n",
       "      <th>2</th>\n",
       "      <td>9432362</td>\n",
       "      <td>481</td>\n",
       "      <td>2009-04-16 02:00:00</td>\n",
       "      <td>8.0</td>\n",
       "      <td>2.0</td>\n",
       "      <td>0.000563</td>\n",
       "      <td>NaN</td>\n",
       "      <td>NaN</td>\n",
       "      <td>0.397491</td>\n",
       "      <td>0.763605</td>\n",
       "    </tr>\n",
       "    <tr>\n",
       "      <th>3</th>\n",
       "      <td>9432363</td>\n",
       "      <td>481</td>\n",
       "      <td>2009-04-16 03:00:00</td>\n",
       "      <td>7.0</td>\n",
       "      <td>3.0</td>\n",
       "      <td>0.000492</td>\n",
       "      <td>NaN</td>\n",
       "      <td>NaN</td>\n",
       "      <td>0.387543</td>\n",
       "      <td>0.764881</td>\n",
       "    </tr>\n",
       "    <tr>\n",
       "      <th>4</th>\n",
       "      <td>9432364</td>\n",
       "      <td>481</td>\n",
       "      <td>2009-04-16 04:00:00</td>\n",
       "      <td>8.0</td>\n",
       "      <td>4.0</td>\n",
       "      <td>0.000563</td>\n",
       "      <td>NaN</td>\n",
       "      <td>NaN</td>\n",
       "      <td>0.380623</td>\n",
       "      <td>0.773384</td>\n",
       "    </tr>\n",
       "  </tbody>\n",
       "</table>\n",
       "</div>"
      ],
      "text/plain": [
       "     index  meter_id                date  demand  hours  normalized_demand  \\\n",
       "0  9432360       481 2009-04-16 00:00:00     0.0    0.0           0.000000   \n",
       "1  9432361       481 2009-04-16 01:00:00     0.0    1.0           0.000000   \n",
       "2  9432362       481 2009-04-16 02:00:00     8.0    2.0           0.000563   \n",
       "3  9432363       481 2009-04-16 03:00:00     7.0    3.0           0.000492   \n",
       "4  9432364       481 2009-04-16 04:00:00     8.0    4.0           0.000563   \n",
       "\n",
       "   demand-24h  normalized_demand-24h  normalized_temp  normalized_humid  \n",
       "0         NaN                    NaN         0.424740          0.740221  \n",
       "1         NaN                    NaN         0.410900          0.750850  \n",
       "2         NaN                    NaN         0.397491          0.763605  \n",
       "3         NaN                    NaN         0.387543          0.764881  \n",
       "4         NaN                    NaN         0.380623          0.773384  "
      ]
     },
     "execution_count": 24,
     "metadata": {},
     "output_type": "execute_result"
    }
   ],
   "source": [
    "meter_481 = df[df['meter_id']==481]\n",
    "temperature_481 = temperature[temperature.full_date.isin(meter_481.date)].reset_index()\n",
    "humidity_481 = humidity[humidity.full_date.isin(meter_481.date)].reset_index()\n",
    "meter_481 = meter_481[meter_481.date.isin(temperature_481.full_date)]\n",
    "meter_481 = meter_481[meter_481.date.isin(humidity_481.full_date)]\n",
    "meter_481 = meter_481.reset_index()\n",
    "meter_481['normalized_temp'] = temperature_481.normalized_temp\n",
    "meter_481['normalized_humid'] = humidity_481.normalized_humidity\n",
    "meter_481.head()"
   ]
  },
  {
   "cell_type": "code",
   "execution_count": 25,
   "metadata": {},
   "outputs": [],
   "source": [
    "meter_481.dropna(inplace=True)"
   ]
  },
  {
   "cell_type": "code",
   "execution_count": 26,
   "metadata": {},
   "outputs": [
    {
     "name": "stdout",
     "output_type": "stream",
     "text": [
      "Train set\n",
      "---------\n",
      "Features: (18982, 4) Target: (18982,)\n",
      "\n",
      "Test set\n",
      "--------\n",
      "Features: (4752, 4) Target: (4752,)\n"
     ]
    }
   ],
   "source": [
    "X_tr_481,X_te_481,y_tr_481,y_te_481 = \\\n",
    "train_test_split(meter_481, 0.2, ['date','hours','normalized_temp','normalized_humid'])"
   ]
  },
  {
   "cell_type": "code",
   "execution_count": 27,
   "metadata": {},
   "outputs": [
    {
     "name": "stdout",
     "output_type": "stream",
     "text": [
      "Train set MAE\n",
      "---------\n",
      "MAE computed on the train set:  0.02\n",
      "Test set MAE\n",
      "--------\n",
      "MAE computed on the test set:  0.06\n"
     ]
    }
   ],
   "source": [
    "RandForest = RandomForestRegressor(n_estimators=40, max_depth=None, random_state=0, n_jobs=-1)\n",
    "RandForest.fit(X_tr_481[:,1:],y_tr_481)\n",
    "\n",
    "# Compute predictions on train/test sets\n",
    "y_pred_tr = RandForest.predict(X_tr_481[:,1:])\n",
    "y_pred_te = RandForest.predict(X_te_481[:,1:])\n",
    "\n",
    "# Compute a MAE\n",
    "mae_tr = MAE(y_tr_481, y_pred_tr)\n",
    "mae_te = MAE(y_te_481, y_pred_te)\n",
    "\n",
    "print('Train set MAE')\n",
    "print('---------')\n",
    "print('MAE computed on the train set: ', np.round(mae_tr,2))\n",
    "\n",
    "print('Test set MAE')\n",
    "print('--------')    \n",
    "print('MAE computed on the test set: ', np.round(mae_te, 2))"
   ]
  },
  {
   "cell_type": "code",
   "execution_count": 28,
   "metadata": {},
   "outputs": [
    {
     "name": "stderr",
     "output_type": "stream",
     "text": [
      "/Users/anastasiagolubkova/anaconda3/envs/exts-ml/lib/python3.6/site-packages/pandas/plotting/_converter.py:129: FutureWarning: Using an implicitly registered datetime converter for a matplotlib plotting method. The converter was registered by pandas on import. Future versions of pandas will require you to explicitly register matplotlib converters.\n",
      "\n",
      "To register the converters:\n",
      "\t>>> from pandas.plotting import register_matplotlib_converters\n",
      "\t>>> register_matplotlib_converters()\n",
      "  warnings.warn(msg, FutureWarning)\n"
     ]
    },
    {
     "data": {
      "image/png": "[encoded data removed]",
      "text/plain": [
       "<Figure size 648x432 with 1 Axes>"
      ]
     },
     "metadata": {
      "needs_background": "light"
     },
     "output_type": "display_data"
    }
   ],
   "source": [
    "plot_predictions(X_tr_481,X_te_481,y_tr_481,y_te_481,y_pred_tr,y_pred_te)"
   ]
  },
  {
   "cell_type": "code",
   "execution_count": 29,
   "metadata": {},
   "outputs": [],
   "source": [
    "pred_481 = save_result(481,X_tr_481,X_te_481,y_pred_tr,y_pred_te)"
   ]
  },
  {
   "cell_type": "code",
   "execution_count": 31,
   "metadata": {},
   "outputs": [],
   "source": [
    "pred_481.to_pickle('RandForest_meter481')"
   ]
  },
  {
   "cell_type": "markdown",
   "metadata": {},
   "source": [
    "__Cluster 2__"
   ]
  },
  {
   "cell_type": "markdown",
   "metadata": {},
   "source": [
    "Tune a Random Forest model for a one time-series, meter 60, from the cluster 2."
   ]
  },
  {
   "cell_type": "code",
   "execution_count": 32,
   "metadata": {},
   "outputs": [
    {
     "data": {
      "text/html": [
       "<div>\n",
       "<style scoped>\n",
       "    .dataframe tbody tr th:only-of-type {\n",
       "        vertical-align: middle;\n",
       "    }\n",
       "\n",
       "    .dataframe tbody tr th {\n",
       "        vertical-align: top;\n",
       "    }\n",
       "\n",
       "    .dataframe thead th {\n",
       "        text-align: right;\n",
       "    }\n",
       "</style>\n",
       "<table border=\"1\" class=\"dataframe\">\n",
       "  <thead>\n",
       "    <tr style=\"text-align: right;\">\n",
       "      <th></th>\n",
       "      <th>index</th>\n",
       "      <th>meter_id</th>\n",
       "      <th>date</th>\n",
       "      <th>demand</th>\n",
       "      <th>hours</th>\n",
       "      <th>normalized_demand</th>\n",
       "      <th>demand-24h</th>\n",
       "      <th>normalized_demand-24h</th>\n",
       "      <th>normalized_temp</th>\n",
       "      <th>normalized_humid</th>\n",
       "    </tr>\n",
       "  </thead>\n",
       "  <tbody>\n",
       "    <tr>\n",
       "      <th>0</th>\n",
       "      <td>1587432</td>\n",
       "      <td>60</td>\n",
       "      <td>2005-01-01 00:00:00</td>\n",
       "      <td>4379.0</td>\n",
       "      <td>0.0</td>\n",
       "      <td>0.078669</td>\n",
       "      <td>NaN</td>\n",
       "      <td>NaN</td>\n",
       "      <td>0.390571</td>\n",
       "      <td>0.879677</td>\n",
       "    </tr>\n",
       "    <tr>\n",
       "      <th>1</th>\n",
       "      <td>1587433</td>\n",
       "      <td>60</td>\n",
       "      <td>2005-01-01 01:00:00</td>\n",
       "      <td>5598.0</td>\n",
       "      <td>1.0</td>\n",
       "      <td>0.155943</td>\n",
       "      <td>NaN</td>\n",
       "      <td>NaN</td>\n",
       "      <td>0.389273</td>\n",
       "      <td>0.869473</td>\n",
       "    </tr>\n",
       "    <tr>\n",
       "      <th>2</th>\n",
       "      <td>1587434</td>\n",
       "      <td>60</td>\n",
       "      <td>2005-01-01 02:00:00</td>\n",
       "      <td>5502.0</td>\n",
       "      <td>2.0</td>\n",
       "      <td>0.149857</td>\n",
       "      <td>NaN</td>\n",
       "      <td>NaN</td>\n",
       "      <td>0.378460</td>\n",
       "      <td>0.872874</td>\n",
       "    </tr>\n",
       "    <tr>\n",
       "      <th>3</th>\n",
       "      <td>1587435</td>\n",
       "      <td>60</td>\n",
       "      <td>2005-01-01 03:00:00</td>\n",
       "      <td>5442.0</td>\n",
       "      <td>3.0</td>\n",
       "      <td>0.146054</td>\n",
       "      <td>NaN</td>\n",
       "      <td>NaN</td>\n",
       "      <td>0.381055</td>\n",
       "      <td>0.875850</td>\n",
       "    </tr>\n",
       "    <tr>\n",
       "      <th>4</th>\n",
       "      <td>1587436</td>\n",
       "      <td>60</td>\n",
       "      <td>2005-01-01 04:00:00</td>\n",
       "      <td>5562.0</td>\n",
       "      <td>4.0</td>\n",
       "      <td>0.153661</td>\n",
       "      <td>NaN</td>\n",
       "      <td>NaN</td>\n",
       "      <td>0.375865</td>\n",
       "      <td>0.877551</td>\n",
       "    </tr>\n",
       "  </tbody>\n",
       "</table>\n",
       "</div>"
      ],
      "text/plain": [
       "     index  meter_id                date  demand  hours  normalized_demand  \\\n",
       "0  1587432        60 2005-01-01 00:00:00  4379.0    0.0           0.078669   \n",
       "1  1587433        60 2005-01-01 01:00:00  5598.0    1.0           0.155943   \n",
       "2  1587434        60 2005-01-01 02:00:00  5502.0    2.0           0.149857   \n",
       "3  1587435        60 2005-01-01 03:00:00  5442.0    3.0           0.146054   \n",
       "4  1587436        60 2005-01-01 04:00:00  5562.0    4.0           0.153661   \n",
       "\n",
       "   demand-24h  normalized_demand-24h  normalized_temp  normalized_humid  \n",
       "0         NaN                    NaN         0.390571          0.879677  \n",
       "1         NaN                    NaN         0.389273          0.869473  \n",
       "2         NaN                    NaN         0.378460          0.872874  \n",
       "3         NaN                    NaN         0.381055          0.875850  \n",
       "4         NaN                    NaN         0.375865          0.877551  "
      ]
     },
     "execution_count": 32,
     "metadata": {},
     "output_type": "execute_result"
    }
   ],
   "source": [
    "meter_60 = df[df['meter_id']==60]\n",
    "temperature_60 = temperature[temperature.full_date.isin(meter_60.date)]\n",
    "humidity_60 = humidity[humidity.full_date.isin(meter_60.date)]\n",
    "meter_60 = meter_60[meter_60.date.isin(temperature_60.full_date)]\n",
    "meter_60 = meter_60[meter_60.date.isin(humidity_60.full_date)]\n",
    "meter_60 = meter_60.reset_index()\n",
    "meter_60['normalized_temp'] = temperature_60.normalized_temp\n",
    "meter_60['normalized_humid'] = humidity_60.normalized_humidity\n",
    "meter_60.head(5)"
   ]
  },
  {
   "cell_type": "code",
   "execution_count": 33,
   "metadata": {},
   "outputs": [],
   "source": [
    "meter_60.dropna(inplace=True)"
   ]
  },
  {
   "cell_type": "code",
   "execution_count": 34,
   "metadata": {},
   "outputs": [
    {
     "name": "stdout",
     "output_type": "stream",
     "text": [
      "Train set\n",
      "---------\n",
      "Features: (49050, 4) Target: (49050,)\n",
      "\n",
      "Validation set\n",
      "---------\n",
      "Features: (6119, 4) Target: (6119,)\n",
      "\n",
      "Test set\n",
      "--------\n",
      "Features: (6144, 4) Target: (6144,)\n"
     ]
    }
   ],
   "source": [
    "X_tr_60,X_val_60,X_te_60,y_tr_60,y_val_60,y_te_60 = \\\n",
    "train_val_test_split(meter_60, 0.2, ['date','normalized_demand-24h','normalized_temp','normalized_humid'])"
   ]
  },
  {
   "cell_type": "code",
   "execution_count": 35,
   "metadata": {},
   "outputs": [
    {
     "name": "stdout",
     "output_type": "stream",
     "text": [
      "Combination 1/7\n",
      "Combination 2/7\n",
      "Combination 3/7\n",
      "Combination 4/7\n",
      "Combination 5/7\n",
      "Combination 6/7\n",
      "Combination 7/7\n",
      "done\n"
     ]
    }
   ],
   "source": [
    "n_search_60 = \\\n",
    "fine_tune_n([5,10,20,30,35,40,50],X_tr_60[:,1:],X_val_60[:,1:],X_te_60[:,1:],y_tr_60,y_val_60,y_te_60)"
   ]
  },
  {
   "cell_type": "code",
   "execution_count": 36,
   "metadata": {},
   "outputs": [
    {
     "data": {
      "text/html": [
       "<div>\n",
       "<style scoped>\n",
       "    .dataframe tbody tr th:only-of-type {\n",
       "        vertical-align: middle;\n",
       "    }\n",
       "\n",
       "    .dataframe tbody tr th {\n",
       "        vertical-align: top;\n",
       "    }\n",
       "\n",
       "    .dataframe thead th {\n",
       "        text-align: right;\n",
       "    }\n",
       "</style>\n",
       "<table border=\"1\" class=\"dataframe\">\n",
       "  <thead>\n",
       "    <tr style=\"text-align: right;\">\n",
       "      <th></th>\n",
       "      <th>MAE_te</th>\n",
       "      <th>MAE_val</th>\n",
       "      <th>RandForest__n_estimators</th>\n",
       "    </tr>\n",
       "  </thead>\n",
       "  <tbody>\n",
       "    <tr>\n",
       "      <th>6</th>\n",
       "      <td>0.054754</td>\n",
       "      <td>0.061507</td>\n",
       "      <td>50</td>\n",
       "    </tr>\n",
       "    <tr>\n",
       "      <th>5</th>\n",
       "      <td>0.054876</td>\n",
       "      <td>0.061665</td>\n",
       "      <td>40</td>\n",
       "    </tr>\n",
       "    <tr>\n",
       "      <th>4</th>\n",
       "      <td>0.054901</td>\n",
       "      <td>0.061709</td>\n",
       "      <td>35</td>\n",
       "    </tr>\n",
       "    <tr>\n",
       "      <th>3</th>\n",
       "      <td>0.054945</td>\n",
       "      <td>0.061952</td>\n",
       "      <td>30</td>\n",
       "    </tr>\n",
       "    <tr>\n",
       "      <th>2</th>\n",
       "      <td>0.055175</td>\n",
       "      <td>0.062459</td>\n",
       "      <td>20</td>\n",
       "    </tr>\n",
       "    <tr>\n",
       "      <th>1</th>\n",
       "      <td>0.056097</td>\n",
       "      <td>0.063631</td>\n",
       "      <td>10</td>\n",
       "    </tr>\n",
       "    <tr>\n",
       "      <th>0</th>\n",
       "      <td>0.057272</td>\n",
       "      <td>0.065210</td>\n",
       "      <td>5</td>\n",
       "    </tr>\n",
       "  </tbody>\n",
       "</table>\n",
       "</div>"
      ],
      "text/plain": [
       "     MAE_te   MAE_val  RandForest__n_estimators\n",
       "6  0.054754  0.061507                        50\n",
       "5  0.054876  0.061665                        40\n",
       "4  0.054901  0.061709                        35\n",
       "3  0.054945  0.061952                        30\n",
       "2  0.055175  0.062459                        20\n",
       "1  0.056097  0.063631                        10\n",
       "0  0.057272  0.065210                         5"
      ]
     },
     "execution_count": 36,
     "metadata": {},
     "output_type": "execute_result"
    }
   ],
   "source": [
    "n_search_60.sort_values(by='MAE_te', ascending=True)"
   ]
  },
  {
   "cell_type": "markdown",
   "metadata": {},
   "source": [
    "Using found parameters, compute the forecast for the meter 10:"
   ]
  },
  {
   "cell_type": "code",
   "execution_count": 37,
   "metadata": {},
   "outputs": [
    {
     "data": {
      "text/html": [
       "<div>\n",
       "<style scoped>\n",
       "    .dataframe tbody tr th:only-of-type {\n",
       "        vertical-align: middle;\n",
       "    }\n",
       "\n",
       "    .dataframe tbody tr th {\n",
       "        vertical-align: top;\n",
       "    }\n",
       "\n",
       "    .dataframe thead th {\n",
       "        text-align: right;\n",
       "    }\n",
       "</style>\n",
       "<table border=\"1\" class=\"dataframe\">\n",
       "  <thead>\n",
       "    <tr style=\"text-align: right;\">\n",
       "      <th></th>\n",
       "      <th>index</th>\n",
       "      <th>meter_id</th>\n",
       "      <th>date</th>\n",
       "      <th>demand</th>\n",
       "      <th>hours</th>\n",
       "      <th>normalized_demand</th>\n",
       "      <th>demand-24h</th>\n",
       "      <th>normalized_demand-24h</th>\n",
       "      <th>normalized_temp</th>\n",
       "      <th>normalized_humid</th>\n",
       "    </tr>\n",
       "  </thead>\n",
       "  <tbody>\n",
       "    <tr>\n",
       "      <th>0</th>\n",
       "      <td>483240</td>\n",
       "      <td>10</td>\n",
       "      <td>2005-01-01 00:00:00</td>\n",
       "      <td>2027.0</td>\n",
       "      <td>0.0</td>\n",
       "      <td>0.117804</td>\n",
       "      <td>NaN</td>\n",
       "      <td>NaN</td>\n",
       "      <td>0.390571</td>\n",
       "      <td>0.879677</td>\n",
       "    </tr>\n",
       "    <tr>\n",
       "      <th>1</th>\n",
       "      <td>483241</td>\n",
       "      <td>10</td>\n",
       "      <td>2005-01-01 01:00:00</td>\n",
       "      <td>3072.0</td>\n",
       "      <td>1.0</td>\n",
       "      <td>0.229211</td>\n",
       "      <td>NaN</td>\n",
       "      <td>NaN</td>\n",
       "      <td>0.389273</td>\n",
       "      <td>0.869473</td>\n",
       "    </tr>\n",
       "    <tr>\n",
       "      <th>2</th>\n",
       "      <td>483242</td>\n",
       "      <td>10</td>\n",
       "      <td>2005-01-01 02:00:00</td>\n",
       "      <td>2870.0</td>\n",
       "      <td>2.0</td>\n",
       "      <td>0.207676</td>\n",
       "      <td>NaN</td>\n",
       "      <td>NaN</td>\n",
       "      <td>0.378460</td>\n",
       "      <td>0.872874</td>\n",
       "    </tr>\n",
       "    <tr>\n",
       "      <th>3</th>\n",
       "      <td>483243</td>\n",
       "      <td>10</td>\n",
       "      <td>2005-01-01 03:00:00</td>\n",
       "      <td>2851.0</td>\n",
       "      <td>3.0</td>\n",
       "      <td>0.205650</td>\n",
       "      <td>NaN</td>\n",
       "      <td>NaN</td>\n",
       "      <td>0.381055</td>\n",
       "      <td>0.875850</td>\n",
       "    </tr>\n",
       "    <tr>\n",
       "      <th>4</th>\n",
       "      <td>483244</td>\n",
       "      <td>10</td>\n",
       "      <td>2005-01-01 04:00:00</td>\n",
       "      <td>2900.0</td>\n",
       "      <td>4.0</td>\n",
       "      <td>0.210874</td>\n",
       "      <td>NaN</td>\n",
       "      <td>NaN</td>\n",
       "      <td>0.375865</td>\n",
       "      <td>0.877551</td>\n",
       "    </tr>\n",
       "  </tbody>\n",
       "</table>\n",
       "</div>"
      ],
      "text/plain": [
       "    index  meter_id                date  demand  hours  normalized_demand  \\\n",
       "0  483240        10 2005-01-01 00:00:00  2027.0    0.0           0.117804   \n",
       "1  483241        10 2005-01-01 01:00:00  3072.0    1.0           0.229211   \n",
       "2  483242        10 2005-01-01 02:00:00  2870.0    2.0           0.207676   \n",
       "3  483243        10 2005-01-01 03:00:00  2851.0    3.0           0.205650   \n",
       "4  483244        10 2005-01-01 04:00:00  2900.0    4.0           0.210874   \n",
       "\n",
       "   demand-24h  normalized_demand-24h  normalized_temp  normalized_humid  \n",
       "0         NaN                    NaN         0.390571          0.879677  \n",
       "1         NaN                    NaN         0.389273          0.869473  \n",
       "2         NaN                    NaN         0.378460          0.872874  \n",
       "3         NaN                    NaN         0.381055          0.875850  \n",
       "4         NaN                    NaN         0.375865          0.877551  "
      ]
     },
     "execution_count": 37,
     "metadata": {},
     "output_type": "execute_result"
    }
   ],
   "source": [
    "meter_10 = df[df['meter_id']==10]\n",
    "temperature_10 = temperature[temperature.full_date.isin(meter_10.date)].reset_index()\n",
    "humidity_10 = humidity[humidity.full_date.isin(meter_10.date)].reset_index()\n",
    "meter_10 = meter_10[meter_10.date.isin(temperature_10.full_date)]\n",
    "meter_10 = meter_10[meter_10.date.isin(humidity_10.full_date)]\n",
    "meter_10 = meter_10.reset_index()\n",
    "meter_10['normalized_temp'] = temperature_10.normalized_temp\n",
    "meter_10['normalized_humid'] = humidity_10.normalized_humidity\n",
    "meter_10.head(5)"
   ]
  },
  {
   "cell_type": "code",
   "execution_count": 38,
   "metadata": {},
   "outputs": [],
   "source": [
    "meter_10.dropna(inplace=True)"
   ]
  },
  {
   "cell_type": "code",
   "execution_count": 39,
   "metadata": {},
   "outputs": [
    {
     "name": "stdout",
     "output_type": "stream",
     "text": [
      "Train set\n",
      "---------\n",
      "Features: (49050, 4) Target: (49050,)\n",
      "\n",
      "Test set\n",
      "--------\n",
      "Features: (12263, 4) Target: (12263,)\n"
     ]
    }
   ],
   "source": [
    "X_tr_10,X_te_10,y_tr_10,y_te_10 = \\\n",
    "train_test_split(meter_10, 0.2, ['date','normalized_demand-24h','normalized_temp','normalized_humid'])"
   ]
  },
  {
   "cell_type": "code",
   "execution_count": 40,
   "metadata": {},
   "outputs": [
    {
     "name": "stdout",
     "output_type": "stream",
     "text": [
      "Train set MAE\n",
      "---------\n",
      "MAE computed on the train set:  0.01\n",
      "Test set MAE\n",
      "--------\n",
      "MAE computed on the test set:  0.05\n"
     ]
    }
   ],
   "source": [
    "RandForest = RandomForestRegressor(n_estimators=50, max_depth=None, random_state=0, n_jobs=-1)\n",
    "RandForest.fit(X_tr_10[:,1:],y_tr_10)\n",
    "\n",
    "# Compute predictions on train/test sets\n",
    "y_pred_tr = RandForest.predict(X_tr_10[:,1:])\n",
    "y_pred_te = RandForest.predict(X_te_10[:,1:])\n",
    "\n",
    "# Compute a MAE\n",
    "mae_tr = MAE(y_tr_10, y_pred_tr)\n",
    "mae_te = MAE(y_te_10, y_pred_te)\n",
    "\n",
    "print('Train set MAE')\n",
    "print('---------')\n",
    "print('MAE computed on the train set: ', np.round(mae_tr,2))\n",
    "\n",
    "print('Test set MAE')\n",
    "print('--------')    \n",
    "print('MAE computed on the test set: ', np.round(mae_te, 2))"
   ]
  },
  {
   "cell_type": "code",
   "execution_count": 41,
   "metadata": {},
   "outputs": [
    {
     "data": {
      "image/png": "[encoded data removed]",
      "text/plain": [
       "<Figure size 648x432 with 1 Axes>"
      ]
     },
     "metadata": {
      "needs_background": "light"
     },
     "output_type": "display_data"
    }
   ],
   "source": [
    "plot_predictions(X_tr_10,X_te_10,y_tr_10,y_te_10,y_pred_tr,y_pred_te)"
   ]
  },
  {
   "cell_type": "code",
   "execution_count": 42,
   "metadata": {},
   "outputs": [],
   "source": [
    "pred_10 = save_result(10,X_tr_10,X_te_10,y_pred_tr,y_pred_te)"
   ]
  },
  {
   "cell_type": "code",
   "execution_count": 44,
   "metadata": {},
   "outputs": [],
   "source": [
    "pred_10.to_pickle('RandForest_meter10')"
   ]
  },
  {
   "cell_type": "markdown",
   "metadata": {},
   "source": [
    "__Cluster 3__"
   ]
  },
  {
   "cell_type": "markdown",
   "metadata": {},
   "source": [
    "Tune a Random Forest model for a one time-series, meter 412, from the cluster 3."
   ]
  },
  {
   "cell_type": "code",
   "execution_count": 45,
   "metadata": {},
   "outputs": [
    {
     "data": {
      "text/html": [
       "<div>\n",
       "<style scoped>\n",
       "    .dataframe tbody tr th:only-of-type {\n",
       "        vertical-align: middle;\n",
       "    }\n",
       "\n",
       "    .dataframe tbody tr th {\n",
       "        vertical-align: top;\n",
       "    }\n",
       "\n",
       "    .dataframe thead th {\n",
       "        text-align: right;\n",
       "    }\n",
       "</style>\n",
       "<table border=\"1\" class=\"dataframe\">\n",
       "  <thead>\n",
       "    <tr style=\"text-align: right;\">\n",
       "      <th></th>\n",
       "      <th>index</th>\n",
       "      <th>meter_id</th>\n",
       "      <th>date</th>\n",
       "      <th>demand</th>\n",
       "      <th>hours</th>\n",
       "      <th>normalized_demand</th>\n",
       "      <th>demand-24h</th>\n",
       "      <th>normalized_demand-24h</th>\n",
       "      <th>normalized_temp</th>\n",
       "      <th>normalized_humid</th>\n",
       "    </tr>\n",
       "  </thead>\n",
       "  <tbody>\n",
       "    <tr>\n",
       "      <th>0</th>\n",
       "      <td>7979568</td>\n",
       "      <td>412</td>\n",
       "      <td>2005-01-01 00:00:00</td>\n",
       "      <td>714.5</td>\n",
       "      <td>0.0</td>\n",
       "      <td>0.324478</td>\n",
       "      <td>NaN</td>\n",
       "      <td>NaN</td>\n",
       "      <td>0.390571</td>\n",
       "      <td>0.879677</td>\n",
       "    </tr>\n",
       "    <tr>\n",
       "      <th>1</th>\n",
       "      <td>7979569</td>\n",
       "      <td>412</td>\n",
       "      <td>2005-01-01 01:00:00</td>\n",
       "      <td>8.0</td>\n",
       "      <td>1.0</td>\n",
       "      <td>0.003633</td>\n",
       "      <td>NaN</td>\n",
       "      <td>NaN</td>\n",
       "      <td>0.389273</td>\n",
       "      <td>0.869473</td>\n",
       "    </tr>\n",
       "    <tr>\n",
       "      <th>2</th>\n",
       "      <td>7979570</td>\n",
       "      <td>412</td>\n",
       "      <td>2005-01-01 02:00:00</td>\n",
       "      <td>8.0</td>\n",
       "      <td>2.0</td>\n",
       "      <td>0.003633</td>\n",
       "      <td>NaN</td>\n",
       "      <td>NaN</td>\n",
       "      <td>0.378460</td>\n",
       "      <td>0.872874</td>\n",
       "    </tr>\n",
       "    <tr>\n",
       "      <th>3</th>\n",
       "      <td>7979571</td>\n",
       "      <td>412</td>\n",
       "      <td>2005-01-01 03:00:00</td>\n",
       "      <td>8.0</td>\n",
       "      <td>3.0</td>\n",
       "      <td>0.003633</td>\n",
       "      <td>NaN</td>\n",
       "      <td>NaN</td>\n",
       "      <td>0.381055</td>\n",
       "      <td>0.875850</td>\n",
       "    </tr>\n",
       "    <tr>\n",
       "      <th>4</th>\n",
       "      <td>7979572</td>\n",
       "      <td>412</td>\n",
       "      <td>2005-01-01 04:00:00</td>\n",
       "      <td>8.0</td>\n",
       "      <td>4.0</td>\n",
       "      <td>0.003633</td>\n",
       "      <td>NaN</td>\n",
       "      <td>NaN</td>\n",
       "      <td>0.375865</td>\n",
       "      <td>0.877551</td>\n",
       "    </tr>\n",
       "  </tbody>\n",
       "</table>\n",
       "</div>"
      ],
      "text/plain": [
       "     index  meter_id                date  demand  hours  normalized_demand  \\\n",
       "0  7979568       412 2005-01-01 00:00:00   714.5    0.0           0.324478   \n",
       "1  7979569       412 2005-01-01 01:00:00     8.0    1.0           0.003633   \n",
       "2  7979570       412 2005-01-01 02:00:00     8.0    2.0           0.003633   \n",
       "3  7979571       412 2005-01-01 03:00:00     8.0    3.0           0.003633   \n",
       "4  7979572       412 2005-01-01 04:00:00     8.0    4.0           0.003633   \n",
       "\n",
       "   demand-24h  normalized_demand-24h  normalized_temp  normalized_humid  \n",
       "0         NaN                    NaN         0.390571          0.879677  \n",
       "1         NaN                    NaN         0.389273          0.869473  \n",
       "2         NaN                    NaN         0.378460          0.872874  \n",
       "3         NaN                    NaN         0.381055          0.875850  \n",
       "4         NaN                    NaN         0.375865          0.877551  "
      ]
     },
     "execution_count": 45,
     "metadata": {},
     "output_type": "execute_result"
    }
   ],
   "source": [
    "meter_412 = df[df['meter_id']==412]\n",
    "temperature_412 = temperature[temperature.full_date.isin(meter_412.date)]\n",
    "humidity_412 = humidity[humidity.full_date.isin(meter_412.date)]\n",
    "meter_412 = meter_412[meter_412.date.isin(temperature_412.full_date)]\n",
    "meter_412 = meter_412[meter_412.date.isin(humidity_412.full_date)]\n",
    "meter_412 = meter_412.reset_index()\n",
    "meter_412['normalized_temp'] = temperature_412.normalized_temp\n",
    "meter_412['normalized_humid'] = humidity_412.normalized_humidity\n",
    "meter_412.head()"
   ]
  },
  {
   "cell_type": "code",
   "execution_count": 46,
   "metadata": {},
   "outputs": [],
   "source": [
    "meter_412.dropna(inplace=True)"
   ]
  },
  {
   "cell_type": "code",
   "execution_count": 47,
   "metadata": {},
   "outputs": [
    {
     "name": "stdout",
     "output_type": "stream",
     "text": [
      "Train set\n",
      "---------\n",
      "Features: (49050, 4) Target: (49050,)\n",
      "\n",
      "Validation set\n",
      "---------\n",
      "Features: (6119, 4) Target: (6119,)\n",
      "\n",
      "Test set\n",
      "--------\n",
      "Features: (6144, 4) Target: (6144,)\n"
     ]
    }
   ],
   "source": [
    "X_tr_412,X_val_412,X_te_412,y_tr_412,y_val_412,y_te_412 = \\\n",
    "train_val_test_split(meter_412, 0.2, ['date','normalized_demand-24h','normalized_temp','normalized_humid'])"
   ]
  },
  {
   "cell_type": "code",
   "execution_count": 48,
   "metadata": {},
   "outputs": [
    {
     "name": "stdout",
     "output_type": "stream",
     "text": [
      "Combination 1/7\n",
      "Combination 2/7\n",
      "Combination 3/7\n",
      "Combination 4/7\n",
      "Combination 5/7\n",
      "Combination 6/7\n",
      "Combination 7/7\n",
      "done\n"
     ]
    }
   ],
   "source": [
    "n_search_412 = \\\n",
    "fine_tune_n([5,10,20,30,35,40,50],X_tr_412[:,1:],X_val_412[:,1:],X_te_412[:,1:],y_tr_412,y_val_412,y_te_412)"
   ]
  },
  {
   "cell_type": "code",
   "execution_count": 49,
   "metadata": {},
   "outputs": [
    {
     "data": {
      "text/html": [
       "<div>\n",
       "<style scoped>\n",
       "    .dataframe tbody tr th:only-of-type {\n",
       "        vertical-align: middle;\n",
       "    }\n",
       "\n",
       "    .dataframe tbody tr th {\n",
       "        vertical-align: top;\n",
       "    }\n",
       "\n",
       "    .dataframe thead th {\n",
       "        text-align: right;\n",
       "    }\n",
       "</style>\n",
       "<table border=\"1\" class=\"dataframe\">\n",
       "  <thead>\n",
       "    <tr style=\"text-align: right;\">\n",
       "      <th></th>\n",
       "      <th>MAE_te</th>\n",
       "      <th>MAE_val</th>\n",
       "      <th>RandForest__n_estimators</th>\n",
       "    </tr>\n",
       "  </thead>\n",
       "  <tbody>\n",
       "    <tr>\n",
       "      <th>5</th>\n",
       "      <td>0.020319</td>\n",
       "      <td>0.030546</td>\n",
       "      <td>40</td>\n",
       "    </tr>\n",
       "    <tr>\n",
       "      <th>6</th>\n",
       "      <td>0.020364</td>\n",
       "      <td>0.030524</td>\n",
       "      <td>50</td>\n",
       "    </tr>\n",
       "    <tr>\n",
       "      <th>4</th>\n",
       "      <td>0.020383</td>\n",
       "      <td>0.030548</td>\n",
       "      <td>35</td>\n",
       "    </tr>\n",
       "    <tr>\n",
       "      <th>3</th>\n",
       "      <td>0.020396</td>\n",
       "      <td>0.030586</td>\n",
       "      <td>30</td>\n",
       "    </tr>\n",
       "    <tr>\n",
       "      <th>2</th>\n",
       "      <td>0.020505</td>\n",
       "      <td>0.030903</td>\n",
       "      <td>20</td>\n",
       "    </tr>\n",
       "    <tr>\n",
       "      <th>1</th>\n",
       "      <td>0.020834</td>\n",
       "      <td>0.031521</td>\n",
       "      <td>10</td>\n",
       "    </tr>\n",
       "    <tr>\n",
       "      <th>0</th>\n",
       "      <td>0.021561</td>\n",
       "      <td>0.032695</td>\n",
       "      <td>5</td>\n",
       "    </tr>\n",
       "  </tbody>\n",
       "</table>\n",
       "</div>"
      ],
      "text/plain": [
       "     MAE_te   MAE_val  RandForest__n_estimators\n",
       "5  0.020319  0.030546                        40\n",
       "6  0.020364  0.030524                        50\n",
       "4  0.020383  0.030548                        35\n",
       "3  0.020396  0.030586                        30\n",
       "2  0.020505  0.030903                        20\n",
       "1  0.020834  0.031521                        10\n",
       "0  0.021561  0.032695                         5"
      ]
     },
     "execution_count": 49,
     "metadata": {},
     "output_type": "execute_result"
    }
   ],
   "source": [
    "n_search_412.sort_values(by='MAE_te', ascending=True)"
   ]
  },
  {
   "cell_type": "markdown",
   "metadata": {},
   "source": [
    "Using found parameters, compute the forecast for the meter 453:\n",
    "\n"
   ]
  },
  {
   "cell_type": "code",
   "execution_count": 52,
   "metadata": {},
   "outputs": [
    {
     "data": {
      "text/html": [
       "<div>\n",
       "<style scoped>\n",
       "    .dataframe tbody tr th:only-of-type {\n",
       "        vertical-align: middle;\n",
       "    }\n",
       "\n",
       "    .dataframe tbody tr th {\n",
       "        vertical-align: top;\n",
       "    }\n",
       "\n",
       "    .dataframe thead th {\n",
       "        text-align: right;\n",
       "    }\n",
       "</style>\n",
       "<table border=\"1\" class=\"dataframe\">\n",
       "  <thead>\n",
       "    <tr style=\"text-align: right;\">\n",
       "      <th></th>\n",
       "      <th>index</th>\n",
       "      <th>meter_id</th>\n",
       "      <th>date</th>\n",
       "      <th>demand</th>\n",
       "      <th>hours</th>\n",
       "      <th>normalized_demand</th>\n",
       "      <th>demand-24h</th>\n",
       "      <th>normalized_demand-24h</th>\n",
       "      <th>normalized_temp</th>\n",
       "      <th>normalized_humid</th>\n",
       "    </tr>\n",
       "  </thead>\n",
       "  <tbody>\n",
       "    <tr>\n",
       "      <th>0</th>\n",
       "      <td>8980008</td>\n",
       "      <td>453</td>\n",
       "      <td>2005-06-01 00:00:00</td>\n",
       "      <td>1898.5</td>\n",
       "      <td>0.0</td>\n",
       "      <td>0.392983</td>\n",
       "      <td>NaN</td>\n",
       "      <td>NaN</td>\n",
       "      <td>0.608131</td>\n",
       "      <td>0.737245</td>\n",
       "    </tr>\n",
       "    <tr>\n",
       "      <th>1</th>\n",
       "      <td>8980009</td>\n",
       "      <td>453</td>\n",
       "      <td>2005-06-01 01:00:00</td>\n",
       "      <td>0.0</td>\n",
       "      <td>1.0</td>\n",
       "      <td>0.000000</td>\n",
       "      <td>NaN</td>\n",
       "      <td>NaN</td>\n",
       "      <td>0.602941</td>\n",
       "      <td>0.736395</td>\n",
       "    </tr>\n",
       "    <tr>\n",
       "      <th>2</th>\n",
       "      <td>8980010</td>\n",
       "      <td>453</td>\n",
       "      <td>2005-06-01 02:00:00</td>\n",
       "      <td>0.0</td>\n",
       "      <td>2.0</td>\n",
       "      <td>0.000000</td>\n",
       "      <td>NaN</td>\n",
       "      <td>NaN</td>\n",
       "      <td>0.595156</td>\n",
       "      <td>0.760204</td>\n",
       "    </tr>\n",
       "    <tr>\n",
       "      <th>3</th>\n",
       "      <td>8980011</td>\n",
       "      <td>453</td>\n",
       "      <td>2005-06-01 03:00:00</td>\n",
       "      <td>0.0</td>\n",
       "      <td>3.0</td>\n",
       "      <td>0.000000</td>\n",
       "      <td>NaN</td>\n",
       "      <td>NaN</td>\n",
       "      <td>0.586505</td>\n",
       "      <td>0.781037</td>\n",
       "    </tr>\n",
       "    <tr>\n",
       "      <th>4</th>\n",
       "      <td>8980012</td>\n",
       "      <td>453</td>\n",
       "      <td>2005-06-01 04:00:00</td>\n",
       "      <td>0.0</td>\n",
       "      <td>4.0</td>\n",
       "      <td>0.000000</td>\n",
       "      <td>NaN</td>\n",
       "      <td>NaN</td>\n",
       "      <td>0.581315</td>\n",
       "      <td>0.802721</td>\n",
       "    </tr>\n",
       "  </tbody>\n",
       "</table>\n",
       "</div>"
      ],
      "text/plain": [
       "     index  meter_id                date  demand  hours  normalized_demand  \\\n",
       "0  8980008       453 2005-06-01 00:00:00  1898.5    0.0           0.392983   \n",
       "1  8980009       453 2005-06-01 01:00:00     0.0    1.0           0.000000   \n",
       "2  8980010       453 2005-06-01 02:00:00     0.0    2.0           0.000000   \n",
       "3  8980011       453 2005-06-01 03:00:00     0.0    3.0           0.000000   \n",
       "4  8980012       453 2005-06-01 04:00:00     0.0    4.0           0.000000   \n",
       "\n",
       "   demand-24h  normalized_demand-24h  normalized_temp  normalized_humid  \n",
       "0         NaN                    NaN         0.608131          0.737245  \n",
       "1         NaN                    NaN         0.602941          0.736395  \n",
       "2         NaN                    NaN         0.595156          0.760204  \n",
       "3         NaN                    NaN         0.586505          0.781037  \n",
       "4         NaN                    NaN         0.581315          0.802721  "
      ]
     },
     "execution_count": 52,
     "metadata": {},
     "output_type": "execute_result"
    }
   ],
   "source": [
    "meter_453 = df[df['meter_id']==453]\n",
    "temperature_453 = temperature[temperature.full_date.isin(meter_453.date)].reset_index()\n",
    "humidity_453 = humidity[humidity.full_date.isin(meter_453.date)].reset_index()\n",
    "meter_453 = meter_453[meter_453.date.isin(temperature_453.full_date)]\n",
    "meter_453 = meter_453[meter_453.date.isin(humidity_453.full_date)]\n",
    "meter_453 = meter_453.reset_index()\n",
    "meter_453['normalized_temp'] = temperature_453.normalized_temp\n",
    "meter_453['normalized_humid'] = humidity_453.normalized_humidity\n",
    "meter_453.head(5)"
   ]
  },
  {
   "cell_type": "code",
   "execution_count": 53,
   "metadata": {},
   "outputs": [],
   "source": [
    "meter_453.dropna(inplace=True)"
   ]
  },
  {
   "cell_type": "code",
   "execution_count": 54,
   "metadata": {},
   "outputs": [
    {
     "name": "stdout",
     "output_type": "stream",
     "text": [
      "Train set\n",
      "---------\n",
      "Features: (46147, 4) Target: (46147,)\n",
      "\n",
      "Test set\n",
      "--------\n",
      "Features: (11543, 4) Target: (11543,)\n"
     ]
    }
   ],
   "source": [
    "X_tr_453,X_te_453,y_tr_453,y_te_453 = \\\n",
    "train_test_split(meter_453, 0.2, ['date','normalized_demand-24h','normalized_temp','normalized_humid'])"
   ]
  },
  {
   "cell_type": "code",
   "execution_count": 55,
   "metadata": {},
   "outputs": [
    {
     "name": "stdout",
     "output_type": "stream",
     "text": [
      "Train set MAE\n",
      "---------\n",
      "MAE computed on the train set:  0.01\n",
      "Test set MAE\n",
      "--------\n",
      "MAE computed on the test set:  0.04\n"
     ]
    }
   ],
   "source": [
    "RandForest = RandomForestRegressor(n_estimators=40, max_depth=None, random_state=0, n_jobs=-1)\n",
    "RandForest.fit(X_tr_453[:,1:],y_tr_453)\n",
    "\n",
    "# Compute predictions on train/test sets\n",
    "y_pred_tr = RandForest.predict(X_tr_453[:,1:])\n",
    "y_pred_te = RandForest.predict(X_te_453[:,1:])\n",
    "\n",
    "# Compute a MAE\n",
    "mae_tr = MAE(y_tr_453, y_pred_tr)\n",
    "mae_te = MAE(y_te_453, y_pred_te)\n",
    "\n",
    "print('Train set MAE')\n",
    "print('---------')\n",
    "print('MAE computed on the train set: ', np.round(mae_tr,2))\n",
    "\n",
    "print('Test set MAE')\n",
    "print('--------')    \n",
    "print('MAE computed on the test set: ', np.round(mae_te, 2))"
   ]
  },
  {
   "cell_type": "code",
   "execution_count": 56,
   "metadata": {},
   "outputs": [
    {
     "data": {
      "image/png": "[encoded data removed]",
      "text/plain": [
       "<Figure size 648x432 with 1 Axes>"
      ]
     },
     "metadata": {
      "needs_background": "light"
     },
     "output_type": "display_data"
    }
   ],
   "source": [
    "plot_predictions(X_tr_453,X_te_453,y_tr_453,y_te_453,y_pred_tr,y_pred_te)"
   ]
  },
  {
   "cell_type": "code",
   "execution_count": 57,
   "metadata": {},
   "outputs": [],
   "source": [
    "pred_453 = save_result(453,X_tr_453,X_te_453,y_pred_tr,y_pred_te)"
   ]
  },
  {
   "cell_type": "code",
   "execution_count": 59,
   "metadata": {},
   "outputs": [],
   "source": [
    "pred_453.to_pickle('RandForest_meter453')"
   ]
  }
 ],
 "metadata": {
  "kernelspec": {
   "display_name": "Python 3",
   "language": "python",
   "name": "python3"
  },
  "language_info": {
   "codemirror_mode": {
    "name": "ipython",
    "version": 3
   },
   "file_extension": ".py",
   "mimetype": "text/x-python",
   "name": "python",
   "nbconvert_exporter": "python",
   "pygments_lexer": "ipython3",
   "version": "3.6.10"
  }
 },
 "nbformat": 4,
 "nbformat_minor": 4
}
