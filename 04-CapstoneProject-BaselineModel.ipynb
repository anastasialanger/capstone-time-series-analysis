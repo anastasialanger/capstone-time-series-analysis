{
 "cells": [
  {
   "cell_type": "markdown",
   "metadata": {},
   "source": [
    "## 5. Baseline model"
   ]
  },
  {
   "cell_type": "markdown",
   "metadata": {},
   "source": [
    "As a baseline model, an average of historical data will be computed."
   ]
  },
  {
   "cell_type": "code",
   "execution_count": 2,
   "metadata": {},
   "outputs": [],
   "source": [
    "import pandas as pd\n",
    "import numpy as np\n",
    "import os\n",
    "import pickle\n",
    "import matplotlib.pyplot as plt\n",
    "%matplotlib inline"
   ]
  },
  {
   "cell_type": "code",
   "execution_count": 3,
   "metadata": {},
   "outputs": [],
   "source": [
    "df = pd.read_pickle('demand_data_for_modelling')"
   ]
  },
  {
   "cell_type": "code",
   "execution_count": 4,
   "metadata": {},
   "outputs": [
    {
     "data": {
      "text/html": [
       "<div>\n",
       "<style scoped>\n",
       "    .dataframe tbody tr th:only-of-type {\n",
       "        vertical-align: middle;\n",
       "    }\n",
       "\n",
       "    .dataframe tbody tr th {\n",
       "        vertical-align: top;\n",
       "    }\n",
       "\n",
       "    .dataframe thead th {\n",
       "        text-align: right;\n",
       "    }\n",
       "</style>\n",
       "<table border=\"1\" class=\"dataframe\">\n",
       "  <thead>\n",
       "    <tr style=\"text-align: right;\">\n",
       "      <th></th>\n",
       "      <th>meter_id</th>\n",
       "      <th>date</th>\n",
       "      <th>demand</th>\n",
       "      <th>hours</th>\n",
       "      <th>normalized_demand</th>\n",
       "      <th>demand-24h</th>\n",
       "      <th>normalized_demand-24h</th>\n",
       "    </tr>\n",
       "  </thead>\n",
       "  <tbody>\n",
       "    <tr>\n",
       "      <th>0</th>\n",
       "      <td>1</td>\n",
       "      <td>2005-01-01 00:00:00</td>\n",
       "      <td>3304.0</td>\n",
       "      <td>0.0</td>\n",
       "      <td>0.330996</td>\n",
       "      <td>NaN</td>\n",
       "      <td>NaN</td>\n",
       "    </tr>\n",
       "    <tr>\n",
       "      <th>1</th>\n",
       "      <td>1</td>\n",
       "      <td>2005-01-01 01:00:00</td>\n",
       "      <td>3178.0</td>\n",
       "      <td>1.0</td>\n",
       "      <td>0.318373</td>\n",
       "      <td>NaN</td>\n",
       "      <td>NaN</td>\n",
       "    </tr>\n",
       "    <tr>\n",
       "      <th>2</th>\n",
       "      <td>1</td>\n",
       "      <td>2005-01-01 02:00:00</td>\n",
       "      <td>2981.0</td>\n",
       "      <td>2.0</td>\n",
       "      <td>0.298638</td>\n",
       "      <td>NaN</td>\n",
       "      <td>NaN</td>\n",
       "    </tr>\n",
       "    <tr>\n",
       "      <th>3</th>\n",
       "      <td>1</td>\n",
       "      <td>2005-01-01 03:00:00</td>\n",
       "      <td>2944.0</td>\n",
       "      <td>3.0</td>\n",
       "      <td>0.294931</td>\n",
       "      <td>NaN</td>\n",
       "      <td>NaN</td>\n",
       "    </tr>\n",
       "    <tr>\n",
       "      <th>4</th>\n",
       "      <td>1</td>\n",
       "      <td>2005-01-01 04:00:00</td>\n",
       "      <td>2934.0</td>\n",
       "      <td>4.0</td>\n",
       "      <td>0.293929</td>\n",
       "      <td>NaN</td>\n",
       "      <td>NaN</td>\n",
       "    </tr>\n",
       "  </tbody>\n",
       "</table>\n",
       "</div>"
      ],
      "text/plain": [
       "   meter_id                date  demand  hours  normalized_demand  demand-24h  \\\n",
       "0         1 2005-01-01 00:00:00  3304.0    0.0           0.330996         NaN   \n",
       "1         1 2005-01-01 01:00:00  3178.0    1.0           0.318373         NaN   \n",
       "2         1 2005-01-01 02:00:00  2981.0    2.0           0.298638         NaN   \n",
       "3         1 2005-01-01 03:00:00  2944.0    3.0           0.294931         NaN   \n",
       "4         1 2005-01-01 04:00:00  2934.0    4.0           0.293929         NaN   \n",
       "\n",
       "   normalized_demand-24h  \n",
       "0                    NaN  \n",
       "1                    NaN  \n",
       "2                    NaN  \n",
       "3                    NaN  \n",
       "4                    NaN  "
      ]
     },
     "execution_count": 4,
     "metadata": {},
     "output_type": "execute_result"
    }
   ],
   "source": [
    "df.head()"
   ]
  },
  {
   "cell_type": "markdown",
   "metadata": {},
   "source": [
    "Functions for modelling\n",
    "--"
   ]
  },
  {
   "cell_type": "markdown",
   "metadata": {},
   "source": [
    "Split the data into training and test sets:"
   ]
  },
  {
   "cell_type": "code",
   "execution_count": 5,
   "metadata": {},
   "outputs": [],
   "source": [
    "def train_test_split(df, test_fraction, cols):\n",
    "    train_fraction = 1-test_fraction\n",
    "    dates = df.groupby(df.date.dt.date).count().date\n",
    "    split = (int)(len(dates)*train_fraction)\n",
    "    split_date = pd.to_datetime(dates.index[split])\n",
    "    \n",
    "    X_tr = df[df.date < split_date][cols].values\n",
    "    y_tr = df[df.date < split_date]['normalized_demand'].values\n",
    "    \n",
    "    X_te = df[df.date >= split_date][cols].values\n",
    "    y_te = df[df.date >= split_date]['normalized_demand'].values\n",
    "    \n",
    "    print('Train set')\n",
    "    print('---------')\n",
    "    print('Features: {} Target: {}\\n'.format(X_tr.shape,y_tr.shape))\n",
    "\n",
    "    print('Test set')\n",
    "    print('--------')    \n",
    "    print('Features: {} Target: {}'.format(X_te.shape,y_te.shape))\n",
    "    \n",
    "    return (X_tr,X_te,y_tr,y_te)"
   ]
  },
  {
   "cell_type": "markdown",
   "metadata": {},
   "source": [
    "Compute the average of training data:"
   ]
  },
  {
   "cell_type": "code",
   "execution_count": 6,
   "metadata": {},
   "outputs": [],
   "source": [
    "def average_forecast(y):\n",
    "    return y.mean()"
   ]
  },
  {
   "cell_type": "markdown",
   "metadata": {},
   "source": [
    "Compute mean absolute error:"
   ]
  },
  {
   "cell_type": "code",
   "execution_count": 7,
   "metadata": {},
   "outputs": [],
   "source": [
    "def MAE(y,y_pred):    \n",
    "    return(np.mean(np.abs(y-y_pred)))"
   ]
  },
  {
   "cell_type": "markdown",
   "metadata": {},
   "source": [
    "Plot the results:"
   ]
  },
  {
   "cell_type": "code",
   "execution_count": 8,
   "metadata": {},
   "outputs": [],
   "source": [
    "def plot_predictions(X_tr,X_te,y_tr,y_te,y_pred_tr,y_pred_te):\n",
    "    \n",
    "    font = {'fontname':'Arial', 'size':'14'}\n",
    "    font_title = {'fontname':'Arial', 'size':'16'}\n",
    "    \n",
    "    plt.figure(figsize=(9,6))\n",
    "    \n",
    "    # True values\n",
    "    plt.plot(X_tr[:,0],y_tr,label='train set',color='black')\n",
    "    plt.plot(X_te[:,0],y_te,label='test set',color='grey')    \n",
    "    \n",
    "    # Predictions\n",
    "    plt.plot(X_tr[:,0],[y_pred_tr]*X_tr.shape[0],label='predictions train',color='blue')\n",
    "    plt.plot(X_te[:,0],[y_pred_te]*X_te.shape[0],label='predictions test',color='red')    \n",
    "    \n",
    "    plt.xlabel('Date',**font)\n",
    "    plt.ylabel('Electricity demand',**font)\n",
    "    \n",
    "    plt.legend()\n",
    "    plt.show()"
   ]
  },
  {
   "cell_type": "markdown",
   "metadata": {},
   "source": [
    "Save the results:"
   ]
  },
  {
   "cell_type": "code",
   "execution_count": 9,
   "metadata": {},
   "outputs": [],
   "source": [
    "def save_result(meter_id,X_tr,X_te,y_pred_tr,y_pred_te):\n",
    "    df1 = pd.DataFrame({\"meter_id\": [meter_id]*X_tr.shape[0], \"date\": X_tr[:,0], \"type\": ['training']*X_tr.shape[0], \"pred_value\": [y_pred_tr]*X_tr.shape[0]})\n",
    "    df2 = pd.DataFrame({\"meter_id\": [meter_id]*X_te.shape[0], \"date\": X_te[:,0], \"type\": ['test']*X_te.shape[0], \"pred_value\": [y_pred_te]*X_te.shape[0]})\n",
    "    result = pd.concat([df1,df2], ignore_index=True)\n",
    "    return result"
   ]
  },
  {
   "cell_type": "markdown",
   "metadata": {},
   "source": [
    "Forecasts for the time-series from clusters\n",
    "--"
   ]
  },
  {
   "cell_type": "code",
   "execution_count": 10,
   "metadata": {},
   "outputs": [
    {
     "data": {
      "text/html": [
       "<div>\n",
       "<style scoped>\n",
       "    .dataframe tbody tr th:only-of-type {\n",
       "        vertical-align: middle;\n",
       "    }\n",
       "\n",
       "    .dataframe tbody tr th {\n",
       "        vertical-align: top;\n",
       "    }\n",
       "\n",
       "    .dataframe thead th {\n",
       "        text-align: right;\n",
       "    }\n",
       "</style>\n",
       "<table border=\"1\" class=\"dataframe\">\n",
       "  <thead>\n",
       "    <tr style=\"text-align: right;\">\n",
       "      <th></th>\n",
       "      <th>cluster</th>\n",
       "    </tr>\n",
       "    <tr>\n",
       "      <th>meter_id_1</th>\n",
       "      <th></th>\n",
       "    </tr>\n",
       "  </thead>\n",
       "  <tbody>\n",
       "    <tr>\n",
       "      <th>481</th>\n",
       "      <td>1</td>\n",
       "    </tr>\n",
       "    <tr>\n",
       "      <th>422</th>\n",
       "      <td>1</td>\n",
       "    </tr>\n",
       "    <tr>\n",
       "      <th>52</th>\n",
       "      <td>1</td>\n",
       "    </tr>\n",
       "    <tr>\n",
       "      <th>419</th>\n",
       "      <td>1</td>\n",
       "    </tr>\n",
       "    <tr>\n",
       "      <th>81</th>\n",
       "      <td>1</td>\n",
       "    </tr>\n",
       "    <tr>\n",
       "      <th>86</th>\n",
       "      <td>1</td>\n",
       "    </tr>\n",
       "    <tr>\n",
       "      <th>89</th>\n",
       "      <td>1</td>\n",
       "    </tr>\n",
       "    <tr>\n",
       "      <th>104</th>\n",
       "      <td>1</td>\n",
       "    </tr>\n",
       "    <tr>\n",
       "      <th>113</th>\n",
       "      <td>1</td>\n",
       "    </tr>\n",
       "    <tr>\n",
       "      <th>472</th>\n",
       "      <td>1</td>\n",
       "    </tr>\n",
       "    <tr>\n",
       "      <th>209</th>\n",
       "      <td>1</td>\n",
       "    </tr>\n",
       "    <tr>\n",
       "      <th>362</th>\n",
       "      <td>1</td>\n",
       "    </tr>\n",
       "    <tr>\n",
       "      <th>400</th>\n",
       "      <td>1</td>\n",
       "    </tr>\n",
       "    <tr>\n",
       "      <th>10</th>\n",
       "      <td>2</td>\n",
       "    </tr>\n",
       "    <tr>\n",
       "      <th>60</th>\n",
       "      <td>2</td>\n",
       "    </tr>\n",
       "    <tr>\n",
       "      <th>51</th>\n",
       "      <td>2</td>\n",
       "    </tr>\n",
       "    <tr>\n",
       "      <th>157</th>\n",
       "      <td>2</td>\n",
       "    </tr>\n",
       "    <tr>\n",
       "      <th>446</th>\n",
       "      <td>3</td>\n",
       "    </tr>\n",
       "    <tr>\n",
       "      <th>453</th>\n",
       "      <td>3</td>\n",
       "    </tr>\n",
       "    <tr>\n",
       "      <th>412</th>\n",
       "      <td>3</td>\n",
       "    </tr>\n",
       "  </tbody>\n",
       "</table>\n",
       "</div>"
      ],
      "text/plain": [
       "            cluster\n",
       "meter_id_1         \n",
       "481               1\n",
       "422               1\n",
       "52                1\n",
       "419               1\n",
       "81                1\n",
       "86                1\n",
       "89                1\n",
       "104               1\n",
       "113               1\n",
       "472               1\n",
       "209               1\n",
       "362               1\n",
       "400               1\n",
       "10                2\n",
       "60                2\n",
       "51                2\n",
       "157               2\n",
       "446               3\n",
       "453               3\n",
       "412               3"
      ]
     },
     "execution_count": 10,
     "metadata": {},
     "output_type": "execute_result"
    }
   ],
   "source": [
    "dtw_clusters = pd.read_pickle('dtw_clusters')\n",
    "dtw_clusters.sort_values(by='cluster')"
   ]
  },
  {
   "cell_type": "markdown",
   "metadata": {},
   "source": [
    "__Cluster 1__"
   ]
  },
  {
   "cell_type": "markdown",
   "metadata": {},
   "source": [
    "Compute a forecast for one meter from the cluster 1:"
   ]
  },
  {
   "cell_type": "code",
   "execution_count": 11,
   "metadata": {},
   "outputs": [],
   "source": [
    "meter_481 = df[df['meter_id']==481]"
   ]
  },
  {
   "cell_type": "code",
   "execution_count": 12,
   "metadata": {},
   "outputs": [
    {
     "name": "stdout",
     "output_type": "stream",
     "text": [
      "Train set\n",
      "---------\n",
      "Features: (19008, 2) Target: (19008,)\n",
      "\n",
      "Test set\n",
      "--------\n",
      "Features: (4752, 2) Target: (4752,)\n"
     ]
    }
   ],
   "source": [
    "X_tr_481,X_te_481,y_tr_481,y_te_481 = train_test_split(meter_481, 0.2, ['date','normalized_demand'])"
   ]
  },
  {
   "cell_type": "code",
   "execution_count": 13,
   "metadata": {},
   "outputs": [],
   "source": [
    "y_pred_te_481 = average_forecast(y_tr_481)"
   ]
  },
  {
   "cell_type": "code",
   "execution_count": 14,
   "metadata": {},
   "outputs": [],
   "source": [
    "y_pred_tr_481 = average_forecast(y_tr_481)"
   ]
  },
  {
   "cell_type": "code",
   "execution_count": 15,
   "metadata": {},
   "outputs": [
    {
     "name": "stdout",
     "output_type": "stream",
     "text": [
      "Prediction MAE of baseline model:  0.13\n"
     ]
    }
   ],
   "source": [
    "print('Prediction MAE of baseline model: ', np.round(MAE(y_te_481, y_pred_te_481),2))"
   ]
  },
  {
   "cell_type": "markdown",
   "metadata": {},
   "source": [
    "Plot the results:"
   ]
  },
  {
   "cell_type": "code",
   "execution_count": 16,
   "metadata": {},
   "outputs": [
    {
     "name": "stderr",
     "output_type": "stream",
     "text": [
      "/Users/anastasiagolubkova/anaconda3/envs/exts-ml/lib/python3.6/site-packages/pandas/plotting/_converter.py:129: FutureWarning: Using an implicitly registered datetime converter for a matplotlib plotting method. The converter was registered by pandas on import. Future versions of pandas will require you to explicitly register matplotlib converters.\n",
      "\n",
      "To register the converters:\n",
      "\t>>> from pandas.plotting import register_matplotlib_converters\n",
      "\t>>> register_matplotlib_converters()\n",
      "  warnings.warn(msg, FutureWarning)\n"
     ]
    },
    {
     "data": {
      "image/png": "[encoded data removed]",
      "text/plain": [
       "<Figure size 648x432 with 1 Axes>"
      ]
     },
     "metadata": {
      "needs_background": "light"
     },
     "output_type": "display_data"
    }
   ],
   "source": [
    "plot_predictions(X_tr_481,X_te_481,y_tr_481,y_te_481,y_pred_tr_481,y_pred_te_481)"
   ]
  },
  {
   "cell_type": "markdown",
   "metadata": {},
   "source": [
    "Save the results:"
   ]
  },
  {
   "cell_type": "code",
   "execution_count": 98,
   "metadata": {},
   "outputs": [],
   "source": [
    "pred_481 = save_result(481,X_tr_481,X_te_481,y_pred_tr_481,y_pred_te_481)"
   ]
  },
  {
   "cell_type": "code",
   "execution_count": 100,
   "metadata": {},
   "outputs": [],
   "source": [
    "pred_481.to_pickle('Baseline_meter481')"
   ]
  },
  {
   "cell_type": "markdown",
   "metadata": {},
   "source": [
    "__Cluster 2__"
   ]
  },
  {
   "cell_type": "code",
   "execution_count": 17,
   "metadata": {},
   "outputs": [],
   "source": [
    "meter_10 = df[df['meter_id']==10]"
   ]
  },
  {
   "cell_type": "code",
   "execution_count": 18,
   "metadata": {},
   "outputs": [
    {
     "name": "stdout",
     "output_type": "stream",
     "text": [
      "Train set\n",
      "---------\n",
      "Features: (49056, 2) Target: (49056,)\n",
      "\n",
      "Test set\n",
      "--------\n",
      "Features: (12288, 2) Target: (12288,)\n"
     ]
    }
   ],
   "source": [
    "X_tr_10,X_te_10,y_tr_10,y_te_10 = train_test_split(meter_10, 0.2, ['date','normalized_demand'])"
   ]
  },
  {
   "cell_type": "code",
   "execution_count": 19,
   "metadata": {},
   "outputs": [],
   "source": [
    "y_pred_te_10 = average_forecast(y_tr_10)"
   ]
  },
  {
   "cell_type": "code",
   "execution_count": 20,
   "metadata": {},
   "outputs": [],
   "source": [
    "y_pred_tr_10 = average_forecast(y_tr_10)"
   ]
  },
  {
   "cell_type": "code",
   "execution_count": 21,
   "metadata": {},
   "outputs": [
    {
     "name": "stdout",
     "output_type": "stream",
     "text": [
      "Prediction MAE of baseline model:  0.11\n"
     ]
    }
   ],
   "source": [
    "print('Prediction MAE of baseline model: ', np.round(MAE(y_te_10, y_pred_te_10),2))"
   ]
  },
  {
   "cell_type": "code",
   "execution_count": 22,
   "metadata": {},
   "outputs": [
    {
     "data": {
      "image/png": "[encoded data removed]",
      "text/plain": [
       "<Figure size 648x432 with 1 Axes>"
      ]
     },
     "metadata": {
      "needs_background": "light"
     },
     "output_type": "display_data"
    }
   ],
   "source": [
    "plot_predictions(X_tr_10,X_te_10,y_tr_10,y_te_10,y_pred_tr_10,y_pred_te_10)"
   ]
  },
  {
   "cell_type": "code",
   "execution_count": 107,
   "metadata": {},
   "outputs": [],
   "source": [
    "pred_10 = save_result(10,X_tr_10,X_te_10,y_pred_tr_10,y_pred_te_10)"
   ]
  },
  {
   "cell_type": "code",
   "execution_count": 108,
   "metadata": {},
   "outputs": [],
   "source": [
    "pred_10.to_pickle('Baseline_meter10')"
   ]
  },
  {
   "cell_type": "markdown",
   "metadata": {},
   "source": [
    "__Cluster 3__"
   ]
  },
  {
   "cell_type": "code",
   "execution_count": 23,
   "metadata": {},
   "outputs": [],
   "source": [
    "meter_453 = df[df['meter_id']==453]"
   ]
  },
  {
   "cell_type": "code",
   "execution_count": 24,
   "metadata": {},
   "outputs": [
    {
     "name": "stdout",
     "output_type": "stream",
     "text": [
      "Train set\n",
      "---------\n",
      "Features: (46176, 2) Target: (46176,)\n",
      "\n",
      "Test set\n",
      "--------\n",
      "Features: (11544, 2) Target: (11544,)\n"
     ]
    }
   ],
   "source": [
    "X_tr_453,X_te_453,y_tr_453,y_te_453 = train_test_split(meter_453, 0.2, ['date','normalized_demand'])"
   ]
  },
  {
   "cell_type": "code",
   "execution_count": 25,
   "metadata": {},
   "outputs": [],
   "source": [
    "y_pred_te_453 = average_forecast(y_tr_453)"
   ]
  },
  {
   "cell_type": "code",
   "execution_count": 26,
   "metadata": {},
   "outputs": [],
   "source": [
    "y_pred_tr_453 = average_forecast(y_tr_453)"
   ]
  },
  {
   "cell_type": "code",
   "execution_count": 27,
   "metadata": {},
   "outputs": [
    {
     "name": "stdout",
     "output_type": "stream",
     "text": [
      "Prediction MAE of baseline model:  0.08\n"
     ]
    }
   ],
   "source": [
    "print('Prediction MAE of baseline model: ', np.round(MAE(y_te_453, y_pred_te_453),2))"
   ]
  },
  {
   "cell_type": "code",
   "execution_count": 28,
   "metadata": {},
   "outputs": [
    {
     "data": {
      "image/png": "[encoded data removed]",
      "text/plain": [
       "<Figure size 648x432 with 1 Axes>"
      ]
     },
     "metadata": {
      "needs_background": "light"
     },
     "output_type": "display_data"
    }
   ],
   "source": [
    "plot_predictions(X_tr_453,X_te_453,y_tr_453,y_te_453,y_pred_tr_453,y_pred_te_453)"
   ]
  },
  {
   "cell_type": "code",
   "execution_count": 115,
   "metadata": {},
   "outputs": [],
   "source": [
    "pred_453 = save_result(453,X_tr_453,X_te_453,y_pred_tr_453,y_pred_te_453)"
   ]
  },
  {
   "cell_type": "code",
   "execution_count": 116,
   "metadata": {},
   "outputs": [],
   "source": [
    "pred_453.to_pickle('Baseline_meter453')"
   ]
  }
 ],
 "metadata": {
  "kernelspec": {
   "display_name": "Python 3",
   "language": "python",
   "name": "python3"
  },
  "language_info": {
   "codemirror_mode": {
    "name": "ipython",
    "version": 3
   },
   "file_extension": ".py",
   "mimetype": "text/x-python",
   "name": "python",
   "nbconvert_exporter": "python",
   "pygments_lexer": "ipython3",
   "version": "3.6.10"
  }
 },
 "nbformat": 4,
 "nbformat_minor": 4
}
