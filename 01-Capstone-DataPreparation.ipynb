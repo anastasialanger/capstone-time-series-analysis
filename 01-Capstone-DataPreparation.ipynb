{
 "cells": [
  {
   "cell_type": "markdown",
   "metadata": {},
   "source": [
    "## 1. Data Preparation for the capstone project: Clustering and forecasting electricity demand time-series"
   ]
  },
  {
   "cell_type": "markdown",
   "metadata": {},
   "source": [
    "The goal of this project is to investigate whether it is possible to find an optimal model in terms of hyperparameters based on the shape of time-series. To achieve this goal, firstly sample time-series will be clustered into groups. Secondly, a same set of statistical models will be applied to a time-series from each cluster to train the model (and find the optimal set of hyperparameters) and compute the forecast."
   ]
  },
  {
   "cell_type": "markdown",
   "metadata": {},
   "source": [
    "The data set from Global Energy Forecasting Competition 2017 is used: Tao Hong, Jingrui Xie, and Jonathan Black, \"Global Energy Forecasting Competition 2017: Hierarchical Probabilistic Load Forecasting,\" International Journal of Forecasting (http://blog.drhongtao.com/2019/04/gefcom2017-hierarchical-probabilistic-load-forecasting.html). Data contains the electricity demand from ISO New England, temperature and humidity time-series in hourly resolution. Electricity demand time-series are provided on a meter-level, whereas temperature and humidity are presumably per dispatch zone (there was no explanation of column headers provided in the data documentation)."
   ]
  },
  {
   "cell_type": "code",
   "execution_count": 1,
   "metadata": {},
   "outputs": [],
   "source": [
    "import pandas as pd\n",
    "import numpy as np\n",
    "import os\n",
    "import matplotlib.pyplot as plt\n",
    "%matplotlib inline"
   ]
  },
  {
   "cell_type": "markdown",
   "metadata": {},
   "source": [
    "Electricity demand time-series\n",
    "--"
   ]
  },
  {
   "cell_type": "code",
   "execution_count": 38,
   "metadata": {},
   "outputs": [],
   "source": [
    "load_data = pd.read_excel(os.path.join('GEFCom2017 Final Match','load.xlsx'),parse_dates=True) "
   ]
  },
  {
   "cell_type": "code",
   "execution_count": 39,
   "metadata": {},
   "outputs": [
    {
     "name": "stdout",
     "output_type": "stream",
     "text": [
      "<class 'pandas.core.frame.DataFrame'>\n",
      "RangeIndex: 397463 entries, 0 to 397462\n",
      "Data columns (total 26 columns):\n",
      "meter_id    397463 non-null int64\n",
      "date        397463 non-null datetime64[ns]\n",
      "h1          397462 non-null float64\n",
      "h2          396377 non-null float64\n",
      "h3          397462 non-null float64\n",
      "h4          397462 non-null float64\n",
      "h5          397462 non-null float64\n",
      "h6          397462 non-null float64\n",
      "h7          397462 non-null float64\n",
      "h8          397462 non-null float64\n",
      "h9          397462 non-null float64\n",
      "h10         397462 non-null float64\n",
      "h11         397463 non-null int64\n",
      "h12         397463 non-null int64\n",
      "h13         397463 non-null int64\n",
      "h14         397463 non-null int64\n",
      "h15         397463 non-null int64\n",
      "h16         397463 non-null int64\n",
      "h17         397463 non-null int64\n",
      "h18         397463 non-null int64\n",
      "h19         397463 non-null int64\n",
      "h20         397463 non-null int64\n",
      "h21         397463 non-null int64\n",
      "h22         397463 non-null int64\n",
      "h23         397463 non-null int64\n",
      "h24         397463 non-null int64\n",
      "dtypes: datetime64[ns](1), float64(10), int64(15)\n",
      "memory usage: 78.8 MB\n"
     ]
    }
   ],
   "source": [
    "load_data.info()"
   ]
  },
  {
   "cell_type": "code",
   "execution_count": 40,
   "metadata": {},
   "outputs": [
    {
     "data": {
      "text/html": [
       "<div>\n",
       "<style scoped>\n",
       "    .dataframe tbody tr th:only-of-type {\n",
       "        vertical-align: middle;\n",
       "    }\n",
       "\n",
       "    .dataframe tbody tr th {\n",
       "        vertical-align: top;\n",
       "    }\n",
       "\n",
       "    .dataframe thead th {\n",
       "        text-align: right;\n",
       "    }\n",
       "</style>\n",
       "<table border=\"1\" class=\"dataframe\">\n",
       "  <thead>\n",
       "    <tr style=\"text-align: right;\">\n",
       "      <th></th>\n",
       "      <th>meter_id</th>\n",
       "      <th>date</th>\n",
       "      <th>h1</th>\n",
       "      <th>h2</th>\n",
       "      <th>h3</th>\n",
       "      <th>h4</th>\n",
       "      <th>h5</th>\n",
       "      <th>h6</th>\n",
       "      <th>h7</th>\n",
       "      <th>h8</th>\n",
       "      <th>...</th>\n",
       "      <th>h15</th>\n",
       "      <th>h16</th>\n",
       "      <th>h17</th>\n",
       "      <th>h18</th>\n",
       "      <th>h19</th>\n",
       "      <th>h20</th>\n",
       "      <th>h21</th>\n",
       "      <th>h22</th>\n",
       "      <th>h23</th>\n",
       "      <th>h24</th>\n",
       "    </tr>\n",
       "  </thead>\n",
       "  <tbody>\n",
       "    <tr>\n",
       "      <th>0</th>\n",
       "      <td>1</td>\n",
       "      <td>2005-01-01</td>\n",
       "      <td>3304.0</td>\n",
       "      <td>3178.0</td>\n",
       "      <td>2981.0</td>\n",
       "      <td>2944.0</td>\n",
       "      <td>2934.0</td>\n",
       "      <td>2999.0</td>\n",
       "      <td>3104.0</td>\n",
       "      <td>3296.0</td>\n",
       "      <td>...</td>\n",
       "      <td>2270</td>\n",
       "      <td>2233</td>\n",
       "      <td>2330</td>\n",
       "      <td>2855</td>\n",
       "      <td>3020</td>\n",
       "      <td>3097</td>\n",
       "      <td>2994</td>\n",
       "      <td>2965</td>\n",
       "      <td>2776</td>\n",
       "      <td>2590</td>\n",
       "    </tr>\n",
       "    <tr>\n",
       "      <th>1</th>\n",
       "      <td>1</td>\n",
       "      <td>2005-01-02</td>\n",
       "      <td>2485.0</td>\n",
       "      <td>2448.0</td>\n",
       "      <td>2487.0</td>\n",
       "      <td>2553.0</td>\n",
       "      <td>2619.0</td>\n",
       "      <td>2900.0</td>\n",
       "      <td>3133.0</td>\n",
       "      <td>3399.0</td>\n",
       "      <td>...</td>\n",
       "      <td>2220</td>\n",
       "      <td>2193</td>\n",
       "      <td>2403</td>\n",
       "      <td>3012</td>\n",
       "      <td>3291</td>\n",
       "      <td>3236</td>\n",
       "      <td>3131</td>\n",
       "      <td>3002</td>\n",
       "      <td>2805</td>\n",
       "      <td>2569</td>\n",
       "    </tr>\n",
       "    <tr>\n",
       "      <th>2</th>\n",
       "      <td>1</td>\n",
       "      <td>2005-01-03</td>\n",
       "      <td>2417.0</td>\n",
       "      <td>2435.0</td>\n",
       "      <td>2448.0</td>\n",
       "      <td>2537.0</td>\n",
       "      <td>2674.0</td>\n",
       "      <td>2900.0</td>\n",
       "      <td>3385.0</td>\n",
       "      <td>3472.0</td>\n",
       "      <td>...</td>\n",
       "      <td>1915</td>\n",
       "      <td>1976</td>\n",
       "      <td>2257</td>\n",
       "      <td>2929</td>\n",
       "      <td>3256</td>\n",
       "      <td>3210</td>\n",
       "      <td>3078</td>\n",
       "      <td>2881</td>\n",
       "      <td>2543</td>\n",
       "      <td>2280</td>\n",
       "    </tr>\n",
       "    <tr>\n",
       "      <th>3</th>\n",
       "      <td>1</td>\n",
       "      <td>2005-01-04</td>\n",
       "      <td>2060.0</td>\n",
       "      <td>2018.0</td>\n",
       "      <td>2010.0</td>\n",
       "      <td>2094.0</td>\n",
       "      <td>2115.0</td>\n",
       "      <td>2327.0</td>\n",
       "      <td>2714.0</td>\n",
       "      <td>2758.0</td>\n",
       "      <td>...</td>\n",
       "      <td>1695</td>\n",
       "      <td>1760</td>\n",
       "      <td>1931</td>\n",
       "      <td>2514</td>\n",
       "      <td>2805</td>\n",
       "      <td>2782</td>\n",
       "      <td>2608</td>\n",
       "      <td>2496</td>\n",
       "      <td>2149</td>\n",
       "      <td>1829</td>\n",
       "    </tr>\n",
       "    <tr>\n",
       "      <th>4</th>\n",
       "      <td>1</td>\n",
       "      <td>2005-01-05</td>\n",
       "      <td>1629.0</td>\n",
       "      <td>1546.0</td>\n",
       "      <td>1569.0</td>\n",
       "      <td>1566.0</td>\n",
       "      <td>1650.0</td>\n",
       "      <td>1826.0</td>\n",
       "      <td>2288.0</td>\n",
       "      <td>2411.0</td>\n",
       "      <td>...</td>\n",
       "      <td>1668</td>\n",
       "      <td>1779</td>\n",
       "      <td>1923</td>\n",
       "      <td>2524</td>\n",
       "      <td>2821</td>\n",
       "      <td>2829</td>\n",
       "      <td>2632</td>\n",
       "      <td>2440</td>\n",
       "      <td>2133</td>\n",
       "      <td>1921</td>\n",
       "    </tr>\n",
       "  </tbody>\n",
       "</table>\n",
       "<p>5 rows × 26 columns</p>\n",
       "</div>"
      ],
      "text/plain": [
       "   meter_id       date      h1      h2      h3      h4      h5      h6  \\\n",
       "0         1 2005-01-01  3304.0  3178.0  2981.0  2944.0  2934.0  2999.0   \n",
       "1         1 2005-01-02  2485.0  2448.0  2487.0  2553.0  2619.0  2900.0   \n",
       "2         1 2005-01-03  2417.0  2435.0  2448.0  2537.0  2674.0  2900.0   \n",
       "3         1 2005-01-04  2060.0  2018.0  2010.0  2094.0  2115.0  2327.0   \n",
       "4         1 2005-01-05  1629.0  1546.0  1569.0  1566.0  1650.0  1826.0   \n",
       "\n",
       "       h7      h8  ...   h15   h16   h17   h18   h19   h20   h21   h22   h23  \\\n",
       "0  3104.0  3296.0  ...  2270  2233  2330  2855  3020  3097  2994  2965  2776   \n",
       "1  3133.0  3399.0  ...  2220  2193  2403  3012  3291  3236  3131  3002  2805   \n",
       "2  3385.0  3472.0  ...  1915  1976  2257  2929  3256  3210  3078  2881  2543   \n",
       "3  2714.0  2758.0  ...  1695  1760  1931  2514  2805  2782  2608  2496  2149   \n",
       "4  2288.0  2411.0  ...  1668  1779  1923  2524  2821  2829  2632  2440  2133   \n",
       "\n",
       "    h24  \n",
       "0  2590  \n",
       "1  2569  \n",
       "2  2280  \n",
       "3  1829  \n",
       "4  1921  \n",
       "\n",
       "[5 rows x 26 columns]"
      ]
     },
     "execution_count": 40,
     "metadata": {},
     "output_type": "execute_result"
    }
   ],
   "source": [
    "load_data.head()"
   ]
  },
  {
   "cell_type": "markdown",
   "metadata": {},
   "source": [
    "__a. Replace NaN__ "
   ]
  },
  {
   "cell_type": "markdown",
   "metadata": {},
   "source": [
    "Some of hourly measurements are missing, replace missing values with an average of neighbouring columns:"
   ]
  },
  {
   "cell_type": "code",
   "execution_count": 41,
   "metadata": {},
   "outputs": [],
   "source": [
    "load_data.h2.fillna((load_data.h1 + load_data.h3)/2, inplace=True)"
   ]
  },
  {
   "cell_type": "code",
   "execution_count": 42,
   "metadata": {},
   "outputs": [
    {
     "data": {
      "text/html": [
       "<div>\n",
       "<style scoped>\n",
       "    .dataframe tbody tr th:only-of-type {\n",
       "        vertical-align: middle;\n",
       "    }\n",
       "\n",
       "    .dataframe tbody tr th {\n",
       "        vertical-align: top;\n",
       "    }\n",
       "\n",
       "    .dataframe thead th {\n",
       "        text-align: right;\n",
       "    }\n",
       "</style>\n",
       "<table border=\"1\" class=\"dataframe\">\n",
       "  <thead>\n",
       "    <tr style=\"text-align: right;\">\n",
       "      <th></th>\n",
       "      <th>meter_id</th>\n",
       "      <th>date</th>\n",
       "      <th>h1</th>\n",
       "      <th>h2</th>\n",
       "      <th>h3</th>\n",
       "      <th>h4</th>\n",
       "      <th>h5</th>\n",
       "      <th>h6</th>\n",
       "      <th>h7</th>\n",
       "      <th>h8</th>\n",
       "      <th>...</th>\n",
       "      <th>h15</th>\n",
       "      <th>h16</th>\n",
       "      <th>h17</th>\n",
       "      <th>h18</th>\n",
       "      <th>h19</th>\n",
       "      <th>h20</th>\n",
       "      <th>h21</th>\n",
       "      <th>h22</th>\n",
       "      <th>h23</th>\n",
       "      <th>h24</th>\n",
       "    </tr>\n",
       "  </thead>\n",
       "  <tbody>\n",
       "    <tr>\n",
       "      <th>393015</th>\n",
       "      <td>481</td>\n",
       "      <td>2009-04-15</td>\n",
       "      <td>NaN</td>\n",
       "      <td>NaN</td>\n",
       "      <td>NaN</td>\n",
       "      <td>NaN</td>\n",
       "      <td>NaN</td>\n",
       "      <td>NaN</td>\n",
       "      <td>NaN</td>\n",
       "      <td>NaN</td>\n",
       "      <td>...</td>\n",
       "      <td>7</td>\n",
       "      <td>0</td>\n",
       "      <td>8</td>\n",
       "      <td>8</td>\n",
       "      <td>7</td>\n",
       "      <td>0</td>\n",
       "      <td>8</td>\n",
       "      <td>8</td>\n",
       "      <td>0</td>\n",
       "      <td>7</td>\n",
       "    </tr>\n",
       "  </tbody>\n",
       "</table>\n",
       "<p>1 rows × 26 columns</p>\n",
       "</div>"
      ],
      "text/plain": [
       "        meter_id       date  h1  h2  h3  h4  h5  h6  h7  h8  ...  h15  h16  \\\n",
       "393015       481 2009-04-15 NaN NaN NaN NaN NaN NaN NaN NaN  ...    7    0   \n",
       "\n",
       "        h17  h18  h19  h20  h21  h22  h23  h24  \n",
       "393015    8    8    7    0    8    8    0    7  \n",
       "\n",
       "[1 rows x 26 columns]"
      ]
     },
     "execution_count": 42,
     "metadata": {},
     "output_type": "execute_result"
    }
   ],
   "source": [
    "load_data[load_data.h1.isnull()]"
   ]
  },
  {
   "cell_type": "markdown",
   "metadata": {},
   "source": [
    "Drop the row 393015 because ca 50% of values are missing:"
   ]
  },
  {
   "cell_type": "code",
   "execution_count": 43,
   "metadata": {},
   "outputs": [],
   "source": [
    "load_data.drop(load_data.index[393015], inplace=True)"
   ]
  },
  {
   "cell_type": "code",
   "execution_count": 44,
   "metadata": {},
   "outputs": [
    {
     "name": "stdout",
     "output_type": "stream",
     "text": [
      "<class 'pandas.core.frame.DataFrame'>\n",
      "Int64Index: 397462 entries, 0 to 397462\n",
      "Data columns (total 26 columns):\n",
      "meter_id    397462 non-null int64\n",
      "date        397462 non-null datetime64[ns]\n",
      "h1          397462 non-null float64\n",
      "h2          397462 non-null float64\n",
      "h3          397462 non-null float64\n",
      "h4          397462 non-null float64\n",
      "h5          397462 non-null float64\n",
      "h6          397462 non-null float64\n",
      "h7          397462 non-null float64\n",
      "h8          397462 non-null float64\n",
      "h9          397462 non-null float64\n",
      "h10         397462 non-null float64\n",
      "h11         397462 non-null int64\n",
      "h12         397462 non-null int64\n",
      "h13         397462 non-null int64\n",
      "h14         397462 non-null int64\n",
      "h15         397462 non-null int64\n",
      "h16         397462 non-null int64\n",
      "h17         397462 non-null int64\n",
      "h18         397462 non-null int64\n",
      "h19         397462 non-null int64\n",
      "h20         397462 non-null int64\n",
      "h21         397462 non-null int64\n",
      "h22         397462 non-null int64\n",
      "h23         397462 non-null int64\n",
      "h24         397462 non-null int64\n",
      "dtypes: datetime64[ns](1), float64(10), int64(15)\n",
      "memory usage: 81.9 MB\n"
     ]
    }
   ],
   "source": [
    "load_data.info()"
   ]
  },
  {
   "cell_type": "markdown",
   "metadata": {},
   "source": [
    "__b. Convert demand data to float__"
   ]
  },
  {
   "cell_type": "code",
   "execution_count": 45,
   "metadata": {},
   "outputs": [],
   "source": [
    "load_data.loc[:,'h11':'h24'] = load_data.loc[:,'h11':'h24'].astype(float)"
   ]
  },
  {
   "cell_type": "markdown",
   "metadata": {},
   "source": [
    "__c. Transpose data into the vertical format__"
   ]
  },
  {
   "cell_type": "markdown",
   "metadata": {},
   "source": [
    "For the analysis and modelling purposes, a matrix data format (with 24 measurements per row) has to be transposed into a vertical format (with 1 measurement per row):"
   ]
  },
  {
   "cell_type": "code",
   "execution_count": 46,
   "metadata": {},
   "outputs": [
    {
     "data": {
      "text/html": [
       "<div>\n",
       "<style scoped>\n",
       "    .dataframe tbody tr th:only-of-type {\n",
       "        vertical-align: middle;\n",
       "    }\n",
       "\n",
       "    .dataframe tbody tr th {\n",
       "        vertical-align: top;\n",
       "    }\n",
       "\n",
       "    .dataframe thead th {\n",
       "        text-align: right;\n",
       "    }\n",
       "</style>\n",
       "<table border=\"1\" class=\"dataframe\">\n",
       "  <thead>\n",
       "    <tr style=\"text-align: right;\">\n",
       "      <th></th>\n",
       "      <th>meter_id</th>\n",
       "      <th>date</th>\n",
       "      <th>demand</th>\n",
       "    </tr>\n",
       "  </thead>\n",
       "  <tbody>\n",
       "    <tr>\n",
       "      <th>0</th>\n",
       "      <td>1</td>\n",
       "      <td>2005-01-01 00:00:00</td>\n",
       "      <td>3304.0</td>\n",
       "    </tr>\n",
       "    <tr>\n",
       "      <th>1</th>\n",
       "      <td>1</td>\n",
       "      <td>2005-01-01 01:00:00</td>\n",
       "      <td>3178.0</td>\n",
       "    </tr>\n",
       "    <tr>\n",
       "      <th>2</th>\n",
       "      <td>1</td>\n",
       "      <td>2005-01-01 02:00:00</td>\n",
       "      <td>2981.0</td>\n",
       "    </tr>\n",
       "    <tr>\n",
       "      <th>3</th>\n",
       "      <td>1</td>\n",
       "      <td>2005-01-01 03:00:00</td>\n",
       "      <td>2944.0</td>\n",
       "    </tr>\n",
       "    <tr>\n",
       "      <th>4</th>\n",
       "      <td>1</td>\n",
       "      <td>2005-01-01 04:00:00</td>\n",
       "      <td>2934.0</td>\n",
       "    </tr>\n",
       "  </tbody>\n",
       "</table>\n",
       "</div>"
      ],
      "text/plain": [
       "   meter_id                date  demand\n",
       "0         1 2005-01-01 00:00:00  3304.0\n",
       "1         1 2005-01-01 01:00:00  3178.0\n",
       "2         1 2005-01-01 02:00:00  2981.0\n",
       "3         1 2005-01-01 03:00:00  2944.0\n",
       "4         1 2005-01-01 04:00:00  2934.0"
      ]
     },
     "execution_count": 46,
     "metadata": {},
     "output_type": "execute_result"
    }
   ],
   "source": [
    "df = load_data.set_index(['meter_id','date']).stack().reset_index()\n",
    "df['level_2'] = df['level_2'].str.replace('h','').astype(int)\n",
    "df['level_2'] = df['level_2']-1\n",
    "df['date'] = pd.to_datetime(df['date'].astype(str) + ' ' + df['level_2'].astype(str) + ':00:00')\n",
    "df = df.drop('level_2', axis=1)\n",
    "df['demand'] = df[0]\n",
    "df = df.drop(0, axis=1)\n",
    "df.head()"
   ]
  },
  {
   "cell_type": "markdown",
   "metadata": {},
   "source": [
    "__d. Add a time axis for modelling__"
   ]
  },
  {
   "cell_type": "markdown",
   "metadata": {},
   "source": [
    "As a time axis for modelling, add a number of hours which has passed from the beginning of time-series for each meter:"
   ]
  },
  {
   "cell_type": "code",
   "execution_count": 47,
   "metadata": {},
   "outputs": [
    {
     "data": {
      "text/html": [
       "<div>\n",
       "<style scoped>\n",
       "    .dataframe tbody tr th:only-of-type {\n",
       "        vertical-align: middle;\n",
       "    }\n",
       "\n",
       "    .dataframe tbody tr th {\n",
       "        vertical-align: top;\n",
       "    }\n",
       "\n",
       "    .dataframe thead th {\n",
       "        text-align: right;\n",
       "    }\n",
       "</style>\n",
       "<table border=\"1\" class=\"dataframe\">\n",
       "  <thead>\n",
       "    <tr style=\"text-align: right;\">\n",
       "      <th></th>\n",
       "      <th>meter_id</th>\n",
       "      <th>date</th>\n",
       "      <th>demand</th>\n",
       "      <th>hours</th>\n",
       "    </tr>\n",
       "  </thead>\n",
       "  <tbody>\n",
       "    <tr>\n",
       "      <th>0</th>\n",
       "      <td>1</td>\n",
       "      <td>2005-01-01 00:00:00</td>\n",
       "      <td>3304.0</td>\n",
       "      <td>0.0</td>\n",
       "    </tr>\n",
       "    <tr>\n",
       "      <th>1</th>\n",
       "      <td>1</td>\n",
       "      <td>2005-01-01 01:00:00</td>\n",
       "      <td>3178.0</td>\n",
       "      <td>1.0</td>\n",
       "    </tr>\n",
       "    <tr>\n",
       "      <th>2</th>\n",
       "      <td>1</td>\n",
       "      <td>2005-01-01 02:00:00</td>\n",
       "      <td>2981.0</td>\n",
       "      <td>2.0</td>\n",
       "    </tr>\n",
       "    <tr>\n",
       "      <th>3</th>\n",
       "      <td>1</td>\n",
       "      <td>2005-01-01 03:00:00</td>\n",
       "      <td>2944.0</td>\n",
       "      <td>3.0</td>\n",
       "    </tr>\n",
       "    <tr>\n",
       "      <th>4</th>\n",
       "      <td>1</td>\n",
       "      <td>2005-01-01 04:00:00</td>\n",
       "      <td>2934.0</td>\n",
       "      <td>4.0</td>\n",
       "    </tr>\n",
       "  </tbody>\n",
       "</table>\n",
       "</div>"
      ],
      "text/plain": [
       "   meter_id                date  demand  hours\n",
       "0         1 2005-01-01 00:00:00  3304.0    0.0\n",
       "1         1 2005-01-01 01:00:00  3178.0    1.0\n",
       "2         1 2005-01-01 02:00:00  2981.0    2.0\n",
       "3         1 2005-01-01 03:00:00  2944.0    3.0\n",
       "4         1 2005-01-01 04:00:00  2934.0    4.0"
      ]
     },
     "execution_count": 47,
     "metadata": {},
     "output_type": "execute_result"
    }
   ],
   "source": [
    "min_date = df.groupby('meter_id').date.min()\n",
    "df = df.merge(min_date, on='meter_id')\n",
    "df['date_y'] = pd.to_datetime(df['date_y'].astype(str) + ' 00:00:00')\n",
    "df['hours'] = (df.date_x - df.date_y).astype('timedelta64[h]')\n",
    "df.drop('date_y', axis=1, inplace=True)\n",
    "df = df.rename(columns={\"date_x\": \"date\"})\n",
    "df.head()"
   ]
  },
  {
   "cell_type": "markdown",
   "metadata": {},
   "source": [
    "Temperature and humidity time-series\n",
    "--"
   ]
  },
  {
   "cell_type": "code",
   "execution_count": 48,
   "metadata": {},
   "outputs": [],
   "source": [
    "temperature = pd.read_excel(os.path.join('GEFCom2017 Final Match','temperature.xlsx'),parse_dates=True) \n",
    "humidity = pd.read_excel(os.path.join('GEFCom2017 Final Match','relative humidity.xlsx'), parse_dates=True)"
   ]
  },
  {
   "cell_type": "markdown",
   "metadata": {},
   "source": [
    "__a. Align time axes between demand and temperature time-series__"
   ]
  },
  {
   "cell_type": "markdown",
   "metadata": {},
   "source": [
    "Check whether any dates are missing from the temperature and humidity time axes:"
   ]
  },
  {
   "cell_type": "code",
   "execution_count": 49,
   "metadata": {},
   "outputs": [],
   "source": [
    "meter_1 = df[df['meter_id']==1]"
   ]
  },
  {
   "cell_type": "code",
   "execution_count": 50,
   "metadata": {},
   "outputs": [
    {
     "ename": "AssertionError",
     "evalue": "Length of temperature and demand time-series do not match",
     "output_type": "error",
     "traceback": [
      "\u001b[0;31m---------------------------------------------------------------------------\u001b[0m",
      "\u001b[0;31mAssertionError\u001b[0m                            Traceback (most recent call last)",
      "\u001b[0;32m<ipython-input-50-dc4d59d369db>\u001b[0m in \u001b[0;36m<module>\u001b[0;34m\u001b[0m\n\u001b[0;32m----> 1\u001b[0;31m \u001b[0;32massert\u001b[0m \u001b[0mmeter_1\u001b[0m\u001b[0;34m.\u001b[0m\u001b[0mshape\u001b[0m\u001b[0;34m[\u001b[0m\u001b[0;36m0\u001b[0m\u001b[0;34m]\u001b[0m \u001b[0;34m==\u001b[0m \u001b[0mtemperature\u001b[0m\u001b[0;34m.\u001b[0m\u001b[0mshape\u001b[0m\u001b[0;34m[\u001b[0m\u001b[0;36m0\u001b[0m\u001b[0;34m]\u001b[0m\u001b[0;34m,\u001b[0m \u001b[0;34m'Length of temperature and demand time-series do not match'\u001b[0m\u001b[0;34m\u001b[0m\u001b[0;34m\u001b[0m\u001b[0m\n\u001b[0m",
      "\u001b[0;31mAssertionError\u001b[0m: Length of temperature and demand time-series do not match"
     ]
    }
   ],
   "source": [
    "assert meter_1.shape[0] == temperature.shape[0], 'Length of temperature and demand time-series do not match'"
   ]
  },
  {
   "cell_type": "code",
   "execution_count": 51,
   "metadata": {},
   "outputs": [
    {
     "ename": "AssertionError",
     "evalue": "Length of humidity and demand time-series do not match",
     "output_type": "error",
     "traceback": [
      "\u001b[0;31m---------------------------------------------------------------------------\u001b[0m",
      "\u001b[0;31mAssertionError\u001b[0m                            Traceback (most recent call last)",
      "\u001b[0;32m<ipython-input-51-a6f10bb603d1>\u001b[0m in \u001b[0;36m<module>\u001b[0;34m\u001b[0m\n\u001b[0;32m----> 1\u001b[0;31m \u001b[0;32massert\u001b[0m \u001b[0mmeter_1\u001b[0m\u001b[0;34m.\u001b[0m\u001b[0mshape\u001b[0m\u001b[0;34m[\u001b[0m\u001b[0;36m0\u001b[0m\u001b[0;34m]\u001b[0m \u001b[0;34m==\u001b[0m \u001b[0mhumidity\u001b[0m\u001b[0;34m.\u001b[0m\u001b[0mshape\u001b[0m\u001b[0;34m[\u001b[0m\u001b[0;36m0\u001b[0m\u001b[0;34m]\u001b[0m\u001b[0;34m,\u001b[0m \u001b[0;34m'Length of humidity and demand time-series do not match'\u001b[0m\u001b[0;34m\u001b[0m\u001b[0;34m\u001b[0m\u001b[0m\n\u001b[0m",
      "\u001b[0;31mAssertionError\u001b[0m: Length of humidity and demand time-series do not match"
     ]
    }
   ],
   "source": [
    "assert meter_1.shape[0] == humidity.shape[0], 'Length of humidity and demand time-series do not match'"
   ]
  },
  {
   "cell_type": "markdown",
   "metadata": {},
   "source": [
    "Align time axes and add missing dates:"
   ]
  },
  {
   "cell_type": "code",
   "execution_count": 52,
   "metadata": {},
   "outputs": [
    {
     "data": {
      "text/html": [
       "<div>\n",
       "<style scoped>\n",
       "    .dataframe tbody tr th:only-of-type {\n",
       "        vertical-align: middle;\n",
       "    }\n",
       "\n",
       "    .dataframe tbody tr th {\n",
       "        vertical-align: top;\n",
       "    }\n",
       "\n",
       "    .dataframe thead th {\n",
       "        text-align: right;\n",
       "    }\n",
       "</style>\n",
       "<table border=\"1\" class=\"dataframe\">\n",
       "  <thead>\n",
       "    <tr style=\"text-align: right;\">\n",
       "      <th></th>\n",
       "      <th>date</th>\n",
       "      <th>hr</th>\n",
       "      <th>t_ws1</th>\n",
       "      <th>t_ws2</th>\n",
       "      <th>t_ws3</th>\n",
       "      <th>t_ws4</th>\n",
       "      <th>t_ws5</th>\n",
       "      <th>t_ws6</th>\n",
       "      <th>t_ws7</th>\n",
       "      <th>t_ws8</th>\n",
       "      <th>...</th>\n",
       "      <th>t_ws19</th>\n",
       "      <th>t_ws20</th>\n",
       "      <th>t_ws21</th>\n",
       "      <th>t_ws22</th>\n",
       "      <th>t_ws23</th>\n",
       "      <th>t_ws24</th>\n",
       "      <th>t_ws25</th>\n",
       "      <th>t_ws26</th>\n",
       "      <th>t_ws27</th>\n",
       "      <th>t_ws28</th>\n",
       "    </tr>\n",
       "  </thead>\n",
       "  <tbody>\n",
       "    <tr>\n",
       "      <th>0</th>\n",
       "      <td>2005-01-01</td>\n",
       "      <td>1</td>\n",
       "      <td>43.0</td>\n",
       "      <td>46</td>\n",
       "      <td>40.0</td>\n",
       "      <td>47.0</td>\n",
       "      <td>48.0</td>\n",
       "      <td>46.0</td>\n",
       "      <td>44.0</td>\n",
       "      <td>52.0</td>\n",
       "      <td>...</td>\n",
       "      <td>39.0</td>\n",
       "      <td>50.0</td>\n",
       "      <td>43.0</td>\n",
       "      <td>45.0</td>\n",
       "      <td>50.0</td>\n",
       "      <td>47.0</td>\n",
       "      <td>41.0</td>\n",
       "      <td>47.0</td>\n",
       "      <td>47.0</td>\n",
       "      <td>45.0</td>\n",
       "    </tr>\n",
       "    <tr>\n",
       "      <th>1</th>\n",
       "      <td>2005-01-01</td>\n",
       "      <td>2</td>\n",
       "      <td>41.0</td>\n",
       "      <td>46</td>\n",
       "      <td>38.0</td>\n",
       "      <td>46.0</td>\n",
       "      <td>48.0</td>\n",
       "      <td>45.0</td>\n",
       "      <td>51.0</td>\n",
       "      <td>50.0</td>\n",
       "      <td>...</td>\n",
       "      <td>41.0</td>\n",
       "      <td>49.0</td>\n",
       "      <td>43.0</td>\n",
       "      <td>46.0</td>\n",
       "      <td>47.0</td>\n",
       "      <td>47.0</td>\n",
       "      <td>45.0</td>\n",
       "      <td>47.0</td>\n",
       "      <td>47.0</td>\n",
       "      <td>45.0</td>\n",
       "    </tr>\n",
       "    <tr>\n",
       "      <th>2</th>\n",
       "      <td>2005-01-01</td>\n",
       "      <td>3</td>\n",
       "      <td>40.0</td>\n",
       "      <td>46</td>\n",
       "      <td>37.0</td>\n",
       "      <td>45.0</td>\n",
       "      <td>45.0</td>\n",
       "      <td>45.0</td>\n",
       "      <td>49.0</td>\n",
       "      <td>48.0</td>\n",
       "      <td>...</td>\n",
       "      <td>43.0</td>\n",
       "      <td>50.0</td>\n",
       "      <td>41.0</td>\n",
       "      <td>45.0</td>\n",
       "      <td>45.0</td>\n",
       "      <td>46.0</td>\n",
       "      <td>45.0</td>\n",
       "      <td>46.0</td>\n",
       "      <td>46.0</td>\n",
       "      <td>43.0</td>\n",
       "    </tr>\n",
       "    <tr>\n",
       "      <th>3</th>\n",
       "      <td>2005-01-01</td>\n",
       "      <td>4</td>\n",
       "      <td>39.0</td>\n",
       "      <td>46</td>\n",
       "      <td>37.0</td>\n",
       "      <td>47.0</td>\n",
       "      <td>48.0</td>\n",
       "      <td>48.0</td>\n",
       "      <td>45.0</td>\n",
       "      <td>50.0</td>\n",
       "      <td>...</td>\n",
       "      <td>43.0</td>\n",
       "      <td>49.0</td>\n",
       "      <td>41.0</td>\n",
       "      <td>43.0</td>\n",
       "      <td>45.0</td>\n",
       "      <td>44.0</td>\n",
       "      <td>45.0</td>\n",
       "      <td>47.0</td>\n",
       "      <td>47.0</td>\n",
       "      <td>44.0</td>\n",
       "    </tr>\n",
       "    <tr>\n",
       "      <th>4</th>\n",
       "      <td>2005-01-01</td>\n",
       "      <td>5</td>\n",
       "      <td>38.0</td>\n",
       "      <td>46</td>\n",
       "      <td>37.0</td>\n",
       "      <td>44.0</td>\n",
       "      <td>48.0</td>\n",
       "      <td>49.0</td>\n",
       "      <td>43.0</td>\n",
       "      <td>50.0</td>\n",
       "      <td>...</td>\n",
       "      <td>43.0</td>\n",
       "      <td>49.0</td>\n",
       "      <td>39.0</td>\n",
       "      <td>43.0</td>\n",
       "      <td>43.0</td>\n",
       "      <td>45.0</td>\n",
       "      <td>45.0</td>\n",
       "      <td>47.0</td>\n",
       "      <td>46.0</td>\n",
       "      <td>44.0</td>\n",
       "    </tr>\n",
       "  </tbody>\n",
       "</table>\n",
       "<p>5 rows × 30 columns</p>\n",
       "</div>"
      ],
      "text/plain": [
       "        date  hr  t_ws1  t_ws2  t_ws3  t_ws4  t_ws5  t_ws6  t_ws7  t_ws8  ...  \\\n",
       "0 2005-01-01   1   43.0     46   40.0   47.0   48.0   46.0   44.0   52.0  ...   \n",
       "1 2005-01-01   2   41.0     46   38.0   46.0   48.0   45.0   51.0   50.0  ...   \n",
       "2 2005-01-01   3   40.0     46   37.0   45.0   45.0   45.0   49.0   48.0  ...   \n",
       "3 2005-01-01   4   39.0     46   37.0   47.0   48.0   48.0   45.0   50.0  ...   \n",
       "4 2005-01-01   5   38.0     46   37.0   44.0   48.0   49.0   43.0   50.0  ...   \n",
       "\n",
       "   t_ws19  t_ws20  t_ws21  t_ws22  t_ws23  t_ws24  t_ws25  t_ws26  t_ws27  \\\n",
       "0    39.0    50.0    43.0    45.0    50.0    47.0    41.0    47.0    47.0   \n",
       "1    41.0    49.0    43.0    46.0    47.0    47.0    45.0    47.0    47.0   \n",
       "2    43.0    50.0    41.0    45.0    45.0    46.0    45.0    46.0    46.0   \n",
       "3    43.0    49.0    41.0    43.0    45.0    44.0    45.0    47.0    47.0   \n",
       "4    43.0    49.0    39.0    43.0    43.0    45.0    45.0    47.0    46.0   \n",
       "\n",
       "   t_ws28  \n",
       "0    45.0  \n",
       "1    45.0  \n",
       "2    43.0  \n",
       "3    44.0  \n",
       "4    44.0  \n",
       "\n",
       "[5 rows x 30 columns]"
      ]
     },
     "execution_count": 52,
     "metadata": {},
     "output_type": "execute_result"
    }
   ],
   "source": [
    "temperature.head()"
   ]
  },
  {
   "cell_type": "code",
   "execution_count": 53,
   "metadata": {},
   "outputs": [
    {
     "data": {
      "text/html": [
       "<div>\n",
       "<style scoped>\n",
       "    .dataframe tbody tr th:only-of-type {\n",
       "        vertical-align: middle;\n",
       "    }\n",
       "\n",
       "    .dataframe tbody tr th {\n",
       "        vertical-align: top;\n",
       "    }\n",
       "\n",
       "    .dataframe thead th {\n",
       "        text-align: right;\n",
       "    }\n",
       "</style>\n",
       "<table border=\"1\" class=\"dataframe\">\n",
       "  <thead>\n",
       "    <tr style=\"text-align: right;\">\n",
       "      <th></th>\n",
       "      <th>full_date</th>\n",
       "    </tr>\n",
       "  </thead>\n",
       "  <tbody>\n",
       "    <tr>\n",
       "      <th>2209</th>\n",
       "      <td>2005-04-03 01:00:00</td>\n",
       "    </tr>\n",
       "    <tr>\n",
       "      <th>10945</th>\n",
       "      <td>2006-04-02 01:00:00</td>\n",
       "    </tr>\n",
       "    <tr>\n",
       "      <th>19177</th>\n",
       "      <td>2007-03-11 01:00:00</td>\n",
       "    </tr>\n",
       "    <tr>\n",
       "      <th>27913</th>\n",
       "      <td>2008-03-09 01:00:00</td>\n",
       "    </tr>\n",
       "    <tr>\n",
       "      <th>36649</th>\n",
       "      <td>2009-03-08 01:00:00</td>\n",
       "    </tr>\n",
       "    <tr>\n",
       "      <th>45553</th>\n",
       "      <td>2010-03-14 01:00:00</td>\n",
       "    </tr>\n",
       "    <tr>\n",
       "      <th>54289</th>\n",
       "      <td>2011-03-13 01:00:00</td>\n",
       "    </tr>\n",
       "  </tbody>\n",
       "</table>\n",
       "</div>"
      ],
      "text/plain": [
       "                full_date\n",
       "2209  2005-04-03 01:00:00\n",
       "10945 2006-04-02 01:00:00\n",
       "19177 2007-03-11 01:00:00\n",
       "27913 2008-03-09 01:00:00\n",
       "36649 2009-03-08 01:00:00\n",
       "45553 2010-03-14 01:00:00\n",
       "54289 2011-03-13 01:00:00"
      ]
     },
     "execution_count": 53,
     "metadata": {},
     "output_type": "execute_result"
    }
   ],
   "source": [
    "temperature['hours'] = temperature.hr-1\n",
    "temperature['full_date'] = pd.to_datetime(temperature.date.astype('str') + ' ' + temperature.hours.astype('str') + ':00:00')\n",
    "missing_dates = pd.DataFrame({'full_date': meter_1[meter_1.date.isin(temperature.full_date)==False].date})\n",
    "missing_dates"
   ]
  },
  {
   "cell_type": "code",
   "execution_count": 54,
   "metadata": {},
   "outputs": [
    {
     "data": {
      "text/html": [
       "<div>\n",
       "<style scoped>\n",
       "    .dataframe tbody tr th:only-of-type {\n",
       "        vertical-align: middle;\n",
       "    }\n",
       "\n",
       "    .dataframe tbody tr th {\n",
       "        vertical-align: top;\n",
       "    }\n",
       "\n",
       "    .dataframe thead th {\n",
       "        text-align: right;\n",
       "    }\n",
       "</style>\n",
       "<table border=\"1\" class=\"dataframe\">\n",
       "  <thead>\n",
       "    <tr style=\"text-align: right;\">\n",
       "      <th></th>\n",
       "      <th>full_date</th>\n",
       "      <th>date</th>\n",
       "      <th>hr</th>\n",
       "      <th>t_ws1</th>\n",
       "      <th>t_ws2</th>\n",
       "      <th>t_ws3</th>\n",
       "      <th>t_ws4</th>\n",
       "      <th>t_ws5</th>\n",
       "      <th>t_ws6</th>\n",
       "      <th>t_ws7</th>\n",
       "      <th>...</th>\n",
       "      <th>t_ws20</th>\n",
       "      <th>t_ws21</th>\n",
       "      <th>t_ws22</th>\n",
       "      <th>t_ws23</th>\n",
       "      <th>t_ws24</th>\n",
       "      <th>t_ws25</th>\n",
       "      <th>t_ws26</th>\n",
       "      <th>t_ws27</th>\n",
       "      <th>t_ws28</th>\n",
       "      <th>hours</th>\n",
       "    </tr>\n",
       "  </thead>\n",
       "  <tbody>\n",
       "    <tr>\n",
       "      <th>0</th>\n",
       "      <td>2005-01-01 00:00:00</td>\n",
       "      <td>2005-01-01</td>\n",
       "      <td>1.0</td>\n",
       "      <td>43.0</td>\n",
       "      <td>46.0</td>\n",
       "      <td>40.0</td>\n",
       "      <td>47.0</td>\n",
       "      <td>48.0</td>\n",
       "      <td>46.0</td>\n",
       "      <td>44.0</td>\n",
       "      <td>...</td>\n",
       "      <td>50.0</td>\n",
       "      <td>43.0</td>\n",
       "      <td>45.0</td>\n",
       "      <td>50.0</td>\n",
       "      <td>47.0</td>\n",
       "      <td>41.0</td>\n",
       "      <td>47.0</td>\n",
       "      <td>47.0</td>\n",
       "      <td>45.0</td>\n",
       "      <td>0.0</td>\n",
       "    </tr>\n",
       "    <tr>\n",
       "      <th>1</th>\n",
       "      <td>2005-01-01 01:00:00</td>\n",
       "      <td>2005-01-01</td>\n",
       "      <td>2.0</td>\n",
       "      <td>41.0</td>\n",
       "      <td>46.0</td>\n",
       "      <td>38.0</td>\n",
       "      <td>46.0</td>\n",
       "      <td>48.0</td>\n",
       "      <td>45.0</td>\n",
       "      <td>51.0</td>\n",
       "      <td>...</td>\n",
       "      <td>49.0</td>\n",
       "      <td>43.0</td>\n",
       "      <td>46.0</td>\n",
       "      <td>47.0</td>\n",
       "      <td>47.0</td>\n",
       "      <td>45.0</td>\n",
       "      <td>47.0</td>\n",
       "      <td>47.0</td>\n",
       "      <td>45.0</td>\n",
       "      <td>1.0</td>\n",
       "    </tr>\n",
       "    <tr>\n",
       "      <th>2</th>\n",
       "      <td>2005-01-01 02:00:00</td>\n",
       "      <td>2005-01-01</td>\n",
       "      <td>3.0</td>\n",
       "      <td>40.0</td>\n",
       "      <td>46.0</td>\n",
       "      <td>37.0</td>\n",
       "      <td>45.0</td>\n",
       "      <td>45.0</td>\n",
       "      <td>45.0</td>\n",
       "      <td>49.0</td>\n",
       "      <td>...</td>\n",
       "      <td>50.0</td>\n",
       "      <td>41.0</td>\n",
       "      <td>45.0</td>\n",
       "      <td>45.0</td>\n",
       "      <td>46.0</td>\n",
       "      <td>45.0</td>\n",
       "      <td>46.0</td>\n",
       "      <td>46.0</td>\n",
       "      <td>43.0</td>\n",
       "      <td>2.0</td>\n",
       "    </tr>\n",
       "    <tr>\n",
       "      <th>3</th>\n",
       "      <td>2005-01-01 03:00:00</td>\n",
       "      <td>2005-01-01</td>\n",
       "      <td>4.0</td>\n",
       "      <td>39.0</td>\n",
       "      <td>46.0</td>\n",
       "      <td>37.0</td>\n",
       "      <td>47.0</td>\n",
       "      <td>48.0</td>\n",
       "      <td>48.0</td>\n",
       "      <td>45.0</td>\n",
       "      <td>...</td>\n",
       "      <td>49.0</td>\n",
       "      <td>41.0</td>\n",
       "      <td>43.0</td>\n",
       "      <td>45.0</td>\n",
       "      <td>44.0</td>\n",
       "      <td>45.0</td>\n",
       "      <td>47.0</td>\n",
       "      <td>47.0</td>\n",
       "      <td>44.0</td>\n",
       "      <td>3.0</td>\n",
       "    </tr>\n",
       "    <tr>\n",
       "      <th>4</th>\n",
       "      <td>2005-01-01 04:00:00</td>\n",
       "      <td>2005-01-01</td>\n",
       "      <td>5.0</td>\n",
       "      <td>38.0</td>\n",
       "      <td>46.0</td>\n",
       "      <td>37.0</td>\n",
       "      <td>44.0</td>\n",
       "      <td>48.0</td>\n",
       "      <td>49.0</td>\n",
       "      <td>43.0</td>\n",
       "      <td>...</td>\n",
       "      <td>49.0</td>\n",
       "      <td>39.0</td>\n",
       "      <td>43.0</td>\n",
       "      <td>43.0</td>\n",
       "      <td>45.0</td>\n",
       "      <td>45.0</td>\n",
       "      <td>47.0</td>\n",
       "      <td>46.0</td>\n",
       "      <td>44.0</td>\n",
       "      <td>4.0</td>\n",
       "    </tr>\n",
       "  </tbody>\n",
       "</table>\n",
       "<p>5 rows × 32 columns</p>\n",
       "</div>"
      ],
      "text/plain": [
       "            full_date       date   hr  t_ws1  t_ws2  t_ws3  t_ws4  t_ws5  \\\n",
       "0 2005-01-01 00:00:00 2005-01-01  1.0   43.0   46.0   40.0   47.0   48.0   \n",
       "1 2005-01-01 01:00:00 2005-01-01  2.0   41.0   46.0   38.0   46.0   48.0   \n",
       "2 2005-01-01 02:00:00 2005-01-01  3.0   40.0   46.0   37.0   45.0   45.0   \n",
       "3 2005-01-01 03:00:00 2005-01-01  4.0   39.0   46.0   37.0   47.0   48.0   \n",
       "4 2005-01-01 04:00:00 2005-01-01  5.0   38.0   46.0   37.0   44.0   48.0   \n",
       "\n",
       "   t_ws6  t_ws7  ...  t_ws20  t_ws21  t_ws22  t_ws23  t_ws24  t_ws25  t_ws26  \\\n",
       "0   46.0   44.0  ...    50.0    43.0    45.0    50.0    47.0    41.0    47.0   \n",
       "1   45.0   51.0  ...    49.0    43.0    46.0    47.0    47.0    45.0    47.0   \n",
       "2   45.0   49.0  ...    50.0    41.0    45.0    45.0    46.0    45.0    46.0   \n",
       "3   48.0   45.0  ...    49.0    41.0    43.0    45.0    44.0    45.0    47.0   \n",
       "4   49.0   43.0  ...    49.0    39.0    43.0    43.0    45.0    45.0    47.0   \n",
       "\n",
       "   t_ws27  t_ws28  hours  \n",
       "0    47.0    45.0    0.0  \n",
       "1    47.0    45.0    1.0  \n",
       "2    46.0    43.0    2.0  \n",
       "3    47.0    44.0    3.0  \n",
       "4    46.0    44.0    4.0  \n",
       "\n",
       "[5 rows x 32 columns]"
      ]
     },
     "execution_count": 54,
     "metadata": {},
     "output_type": "execute_result"
    }
   ],
   "source": [
    "temperature = missing_dates.merge(temperature, how='outer', on='full_date', sort=True)\n",
    "temperature.head()"
   ]
  },
  {
   "cell_type": "markdown",
   "metadata": {},
   "source": [
    "__b. Compute average hourly temperature__"
   ]
  },
  {
   "cell_type": "markdown",
   "metadata": {},
   "source": [
    "Since no information was provided on t_ws columns in the data documentation, each value t_ws probably represents the temperature measurement per dispatch zone. An average temperature of all zones is be computed:"
   ]
  },
  {
   "cell_type": "code",
   "execution_count": 55,
   "metadata": {},
   "outputs": [],
   "source": [
    "temperature['hourly_mean'] = temperature.iloc[:,2:30].mean(axis=1)"
   ]
  },
  {
   "cell_type": "markdown",
   "metadata": {},
   "source": [
    "__c. Replace NaN in temperature time-series__"
   ]
  },
  {
   "cell_type": "code",
   "execution_count": 56,
   "metadata": {},
   "outputs": [
    {
     "data": {
      "text/plain": [
       "full_date      0\n",
       "date           7\n",
       "hr             7\n",
       "t_ws1          7\n",
       "t_ws2          7\n",
       "t_ws3          7\n",
       "t_ws4          7\n",
       "t_ws5          7\n",
       "t_ws6          7\n",
       "t_ws7          7\n",
       "t_ws8          7\n",
       "t_ws9          7\n",
       "t_ws10         7\n",
       "t_ws11         7\n",
       "t_ws12         7\n",
       "t_ws13         7\n",
       "t_ws14         7\n",
       "t_ws15         7\n",
       "t_ws16         7\n",
       "t_ws17         7\n",
       "t_ws18         7\n",
       "t_ws19         7\n",
       "t_ws20         7\n",
       "t_ws21         7\n",
       "t_ws22         7\n",
       "t_ws23         7\n",
       "t_ws24         7\n",
       "t_ws25         7\n",
       "t_ws26         7\n",
       "t_ws27         7\n",
       "t_ws28         7\n",
       "hours          7\n",
       "hourly_mean    7\n",
       "dtype: int64"
      ]
     },
     "execution_count": 56,
     "metadata": {},
     "output_type": "execute_result"
    }
   ],
   "source": [
    "temperature.isnull().sum()"
   ]
  },
  {
   "cell_type": "markdown",
   "metadata": {},
   "source": [
    "Fill NaN with previous values:"
   ]
  },
  {
   "cell_type": "code",
   "execution_count": 57,
   "metadata": {},
   "outputs": [],
   "source": [
    "temperature.hourly_mean.fillna(method='ffill', inplace=True)"
   ]
  },
  {
   "cell_type": "markdown",
   "metadata": {},
   "source": [
    "__d. Plot temperature data__"
   ]
  },
  {
   "cell_type": "code",
   "execution_count": 58,
   "metadata": {},
   "outputs": [
    {
     "data": {
      "image/png": "[encoded data removed]",
      "text/plain": [
       "<Figure size 1440x360 with 1 Axes>"
      ]
     },
     "metadata": {
      "needs_background": "light"
     },
     "output_type": "display_data"
    }
   ],
   "source": [
    "plt.figure(figsize=(20,5))\n",
    "plt.plot(temperature.full_date, temperature.hourly_mean)\n",
    "plt.xlabel('Date')\n",
    "plt.ylabel('Tempreature, F')\n",
    "plt.title('Temperature')\n",
    "plt.show();"
   ]
  },
  {
   "cell_type": "markdown",
   "metadata": {},
   "source": [
    "__e. Align time axes between demand and humidity time-series__"
   ]
  },
  {
   "cell_type": "code",
   "execution_count": 59,
   "metadata": {},
   "outputs": [
    {
     "data": {
      "text/html": [
       "<div>\n",
       "<style scoped>\n",
       "    .dataframe tbody tr th:only-of-type {\n",
       "        vertical-align: middle;\n",
       "    }\n",
       "\n",
       "    .dataframe tbody tr th {\n",
       "        vertical-align: top;\n",
       "    }\n",
       "\n",
       "    .dataframe thead th {\n",
       "        text-align: right;\n",
       "    }\n",
       "</style>\n",
       "<table border=\"1\" class=\"dataframe\">\n",
       "  <thead>\n",
       "    <tr style=\"text-align: right;\">\n",
       "      <th></th>\n",
       "      <th>full_date</th>\n",
       "    </tr>\n",
       "  </thead>\n",
       "  <tbody>\n",
       "    <tr>\n",
       "      <th>2209</th>\n",
       "      <td>2005-04-03 01:00:00</td>\n",
       "    </tr>\n",
       "    <tr>\n",
       "      <th>10945</th>\n",
       "      <td>2006-04-02 01:00:00</td>\n",
       "    </tr>\n",
       "    <tr>\n",
       "      <th>19177</th>\n",
       "      <td>2007-03-11 01:00:00</td>\n",
       "    </tr>\n",
       "    <tr>\n",
       "      <th>27913</th>\n",
       "      <td>2008-03-09 01:00:00</td>\n",
       "    </tr>\n",
       "    <tr>\n",
       "      <th>36649</th>\n",
       "      <td>2009-03-08 01:00:00</td>\n",
       "    </tr>\n",
       "    <tr>\n",
       "      <th>45553</th>\n",
       "      <td>2010-03-14 01:00:00</td>\n",
       "    </tr>\n",
       "    <tr>\n",
       "      <th>54289</th>\n",
       "      <td>2011-03-13 01:00:00</td>\n",
       "    </tr>\n",
       "  </tbody>\n",
       "</table>\n",
       "</div>"
      ],
      "text/plain": [
       "                full_date\n",
       "2209  2005-04-03 01:00:00\n",
       "10945 2006-04-02 01:00:00\n",
       "19177 2007-03-11 01:00:00\n",
       "27913 2008-03-09 01:00:00\n",
       "36649 2009-03-08 01:00:00\n",
       "45553 2010-03-14 01:00:00\n",
       "54289 2011-03-13 01:00:00"
      ]
     },
     "execution_count": 59,
     "metadata": {},
     "output_type": "execute_result"
    }
   ],
   "source": [
    "humidity['hours'] = humidity.hr-1\n",
    "humidity['full_date'] = pd.to_datetime(humidity.date.astype('str') + ' ' + humidity.hours.astype('str') + ':00:00')\n",
    "missing_dates = pd.DataFrame({'full_date': meter_1[meter_1.date.isin(humidity.full_date)==False].date})\n",
    "missing_dates"
   ]
  },
  {
   "cell_type": "markdown",
   "metadata": {},
   "source": [
    "__f. Compute average hourly humidity__"
   ]
  },
  {
   "cell_type": "code",
   "execution_count": 60,
   "metadata": {},
   "outputs": [],
   "source": [
    "humidity['hourly_mean'] = humidity.iloc[:,2:30].mean(axis=1)"
   ]
  },
  {
   "cell_type": "markdown",
   "metadata": {},
   "source": [
    "__g. Replace NaN in humidity time-series__"
   ]
  },
  {
   "cell_type": "code",
   "execution_count": 61,
   "metadata": {},
   "outputs": [
    {
     "data": {
      "text/plain": [
       "date           0\n",
       "hr             0\n",
       "rh_ws1         0\n",
       "rh_ws2         0\n",
       "rh_ws3         0\n",
       "rh_ws4         0\n",
       "rh_ws5         0\n",
       "rh_ws6         0\n",
       "rh_ws7         0\n",
       "rh_ws8         0\n",
       "rh_ws9         0\n",
       "rh_ws10        0\n",
       "rh_ws11        0\n",
       "rh_ws12        0\n",
       "rh_ws13        0\n",
       "rh_ws14        0\n",
       "rh_ws15        0\n",
       "rh_ws16        0\n",
       "rh_ws17        0\n",
       "rh_ws18        0\n",
       "rh_ws19        0\n",
       "rh_ws20        0\n",
       "rh_ws21        0\n",
       "rh_ws22        0\n",
       "rh_ws23        0\n",
       "rh_ws24        0\n",
       "rh_ws25        0\n",
       "rh_ws26        0\n",
       "rh_ws27        0\n",
       "rh_ws28        0\n",
       "hours          0\n",
       "full_date      0\n",
       "hourly_mean    0\n",
       "dtype: int64"
      ]
     },
     "execution_count": 61,
     "metadata": {},
     "output_type": "execute_result"
    }
   ],
   "source": [
    "humidity.isnull().sum()"
   ]
  },
  {
   "cell_type": "code",
   "execution_count": 62,
   "metadata": {},
   "outputs": [],
   "source": [
    "humidity.hourly_mean.fillna(method='ffill', inplace=True)\n",
    "humidity['hours'] = (humidity.full_date - humidity.date[0]).astype('timedelta64[h]')"
   ]
  },
  {
   "cell_type": "markdown",
   "metadata": {},
   "source": [
    "__h. Plot humidity data__"
   ]
  },
  {
   "cell_type": "code",
   "execution_count": 63,
   "metadata": {},
   "outputs": [
    {
     "data": {
      "image/png": "[encoded data removed]",
      "text/plain": [
       "<Figure size 1440x360 with 1 Axes>"
      ]
     },
     "metadata": {
      "needs_background": "light"
     },
     "output_type": "display_data"
    }
   ],
   "source": [
    "plt.figure(figsize=(20,5))\n",
    "plt.plot(humidity.full_date, humidity.hourly_mean)\n",
    "plt.xlabel('Date')\n",
    "plt.ylabel('Humidity')\n",
    "plt.title('Humidity')\n",
    "plt.show()"
   ]
  },
  {
   "cell_type": "markdown",
   "metadata": {},
   "source": [
    "__i. Remove unnecessary columns__"
   ]
  },
  {
   "cell_type": "code",
   "execution_count": 68,
   "metadata": {},
   "outputs": [],
   "source": [
    "temperature.drop(['date','hr','hours','t_ws1','t_ws2','t_ws3',\n",
    "                 't_ws4','t_ws5','t_ws6','t_ws7','t_ws8',\n",
    "                 't_ws9','t_ws10','t_ws11','t_ws12','t_ws13',\n",
    "                 't_ws14','t_ws15','t_ws16','t_ws17','t_ws18',\n",
    "                 't_ws19','t_ws20','t_ws21','t_ws22','t_ws23',\n",
    "                 't_ws24','t_ws25','t_ws26','t_ws27','t_ws28'], axis=1, inplace=True);"
   ]
  },
  {
   "cell_type": "code",
   "execution_count": 70,
   "metadata": {},
   "outputs": [],
   "source": [
    "humidity.drop(['date','hr','hours','rh_ws1','rh_ws2','rh_ws3',\n",
    "                 'rh_ws4','rh_ws5','rh_ws6','rh_ws7','rh_ws8',\n",
    "                 'rh_ws9','rh_ws10','rh_ws11','rh_ws12','rh_ws13',\n",
    "                 'rh_ws14','rh_ws15','rh_ws16','rh_ws17','rh_ws18',\n",
    "                 'rh_ws19','rh_ws20','rh_ws21','rh_ws22','rh_ws23',\n",
    "                 'rh_ws24','rh_ws25','rh_ws26','rh_ws27','rh_ws28'], axis=1, inplace=True);"
   ]
  },
  {
   "cell_type": "markdown",
   "metadata": {},
   "source": [
    "Save cleaned data in dataframes:"
   ]
  },
  {
   "cell_type": "code",
   "execution_count": 71,
   "metadata": {},
   "outputs": [],
   "source": [
    "import pickle"
   ]
  },
  {
   "cell_type": "code",
   "execution_count": 72,
   "metadata": {},
   "outputs": [],
   "source": [
    "df.to_pickle('demand_data')\n",
    "temperature.to_pickle('temperature')\n",
    "humidity.to_pickle('humidity')"
   ]
  }
 ],
 "metadata": {
  "kernelspec": {
   "display_name": "Python 3",
   "language": "python",
   "name": "python3"
  },
  "language_info": {
   "codemirror_mode": {
    "name": "ipython",
    "version": 3
   },
   "file_extension": ".py",
   "mimetype": "text/x-python",
   "name": "python",
   "nbconvert_exporter": "python",
   "pygments_lexer": "ipython3",
   "version": "3.6.10"
  }
 },
 "nbformat": 4,
 "nbformat_minor": 4
}
